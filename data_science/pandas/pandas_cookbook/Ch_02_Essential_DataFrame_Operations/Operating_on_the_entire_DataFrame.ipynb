{
 "cells": [
  {
   "cell_type": "markdown",
   "metadata": {},
   "source": [
    "## Operating on the entire DataFrame\n",
    "\n",
    "- In the *Calling Series methods* recipe in `Chapter 1`, a variety of methods operated on a single column or Series of data\n",
    "- When these same methods are called from a DataFrame, they perform that operation for each column at once"
   ]
  },
  {
   "cell_type": "code",
   "execution_count": 2,
   "metadata": {
    "collapsed": true
   },
   "outputs": [],
   "source": [
    "import pandas as pd\n",
    "import numpy as np\n",
    "pd.options.display.max_columns = 40"
   ]
  },
  {
   "cell_type": "markdown",
   "metadata": {},
   "source": [
    "- Read in the movie dataset\n",
    "- Grab the basic descriptive attributes, `shape`, `size`, and `ndim`, along with running the `len` function"
   ]
  },
  {
   "cell_type": "code",
   "execution_count": 4,
   "metadata": {
    "collapsed": false
   },
   "outputs": [
    {
     "data": {
      "text/plain": [
       "(4916, 28)"
      ]
     },
     "execution_count": 4,
     "metadata": {},
     "output_type": "execute_result"
    }
   ],
   "source": [
    "movie = pd.read_csv('data/movie.csv')\n",
    "movie.shape"
   ]
  },
  {
   "cell_type": "code",
   "execution_count": 5,
   "metadata": {
    "collapsed": false
   },
   "outputs": [
    {
     "data": {
      "text/plain": [
       "137648"
      ]
     },
     "execution_count": 5,
     "metadata": {},
     "output_type": "execute_result"
    }
   ],
   "source": [
    "movie.size"
   ]
  },
  {
   "cell_type": "code",
   "execution_count": 6,
   "metadata": {
    "collapsed": false
   },
   "outputs": [
    {
     "data": {
      "text/plain": [
       "2"
      ]
     },
     "execution_count": 6,
     "metadata": {},
     "output_type": "execute_result"
    }
   ],
   "source": [
    "movie.ndim"
   ]
  },
  {
   "cell_type": "code",
   "execution_count": 7,
   "metadata": {
    "collapsed": false
   },
   "outputs": [
    {
     "data": {
      "text/plain": [
       "4916"
      ]
     },
     "execution_count": 7,
     "metadata": {},
     "output_type": "execute_result"
    }
   ],
   "source": [
    "len(movie)"
   ]
  },
  {
   "cell_type": "markdown",
   "metadata": {},
   "source": [
    "- Use the `count` method to find the number of non-missing values for each column\n",
    "- The output is a Series that now has the old column names as its index"
   ]
  },
  {
   "cell_type": "code",
   "execution_count": 8,
   "metadata": {
    "collapsed": false
   },
   "outputs": [
    {
     "data": {
      "text/plain": [
       "color                        4897\n",
       "director_name                4814\n",
       "num_critic_for_reviews       4867\n",
       "duration                     4901\n",
       "director_facebook_likes      4814\n",
       "actor_3_facebook_likes       4893\n",
       "actor_2_name                 4903\n",
       "actor_1_facebook_likes       4909\n",
       "gross                        4054\n",
       "genres                       4916\n",
       "actor_1_name                 4909\n",
       "movie_title                  4916\n",
       "num_voted_users              4916\n",
       "cast_total_facebook_likes    4916\n",
       "actor_3_name                 4893\n",
       "facenumber_in_poster         4903\n",
       "plot_keywords                4764\n",
       "movie_imdb_link              4916\n",
       "num_user_for_reviews         4895\n",
       "language                     4904\n",
       "country                      4911\n",
       "content_rating               4616\n",
       "budget                       4432\n",
       "title_year                   4810\n",
       "actor_2_facebook_likes       4903\n",
       "imdb_score                   4916\n",
       "aspect_ratio                 4590\n",
       "movie_facebook_likes         4916\n",
       "dtype: int64"
      ]
     },
     "execution_count": 8,
     "metadata": {},
     "output_type": "execute_result"
    }
   ],
   "source": [
    "movie.count()"
   ]
  },
  {
   "cell_type": "markdown",
   "metadata": {},
   "source": [
    "- The other methods that compute summary statistics such as `min`, `max`, `mean`, `median`, and `std` all return similar Series, with column names in the index and their computational result as the values"
   ]
  },
  {
   "cell_type": "code",
   "execution_count": 9,
   "metadata": {
    "collapsed": false
   },
   "outputs": [
    {
     "data": {
      "text/plain": [
       "num_critic_for_reviews       1.379889e+02\n",
       "duration                     1.070908e+02\n",
       "director_facebook_likes      6.910145e+02\n",
       "actor_3_facebook_likes       6.312763e+02\n",
       "actor_1_facebook_likes       6.494488e+03\n",
       "gross                        4.764451e+07\n",
       "num_voted_users              8.264492e+04\n",
       "cast_total_facebook_likes    9.579816e+03\n",
       "facenumber_in_poster         1.377320e+00\n",
       "num_user_for_reviews         2.676688e+02\n",
       "budget                       3.654749e+07\n",
       "title_year                   2.002448e+03\n",
       "actor_2_facebook_likes       1.621924e+03\n",
       "imdb_score                   6.437429e+00\n",
       "aspect_ratio                 2.222349e+00\n",
       "movie_facebook_likes         7.348294e+03\n",
       "dtype: float64"
      ]
     },
     "execution_count": 9,
     "metadata": {},
     "output_type": "execute_result"
    }
   ],
   "source": [
    "movie.mean()"
   ]
  },
  {
   "cell_type": "markdown",
   "metadata": {},
   "source": [
    "- The `describe` method is very powerful and calculates all the descriptive statistics and quartiles in the preceding steps all at once"
   ]
  },
  {
   "cell_type": "code",
   "execution_count": 10,
   "metadata": {
    "collapsed": false
   },
   "outputs": [
    {
     "data": {
      "text/html": [
       "<div>\n",
       "<table border=\"1\" class=\"dataframe\">\n",
       "  <thead>\n",
       "    <tr style=\"text-align: right;\">\n",
       "      <th></th>\n",
       "      <th>num_critic_for_reviews</th>\n",
       "      <th>duration</th>\n",
       "      <th>director_facebook_likes</th>\n",
       "      <th>actor_3_facebook_likes</th>\n",
       "      <th>actor_1_facebook_likes</th>\n",
       "      <th>gross</th>\n",
       "      <th>num_voted_users</th>\n",
       "      <th>cast_total_facebook_likes</th>\n",
       "      <th>facenumber_in_poster</th>\n",
       "      <th>num_user_for_reviews</th>\n",
       "      <th>budget</th>\n",
       "      <th>title_year</th>\n",
       "      <th>actor_2_facebook_likes</th>\n",
       "      <th>imdb_score</th>\n",
       "      <th>aspect_ratio</th>\n",
       "      <th>movie_facebook_likes</th>\n",
       "    </tr>\n",
       "  </thead>\n",
       "  <tbody>\n",
       "    <tr>\n",
       "      <th>count</th>\n",
       "      <td>4867.000000</td>\n",
       "      <td>4901.000000</td>\n",
       "      <td>4814.000000</td>\n",
       "      <td>4893.000000</td>\n",
       "      <td>4909.000000</td>\n",
       "      <td>4.054000e+03</td>\n",
       "      <td>4.916000e+03</td>\n",
       "      <td>4916.000000</td>\n",
       "      <td>4903.000000</td>\n",
       "      <td>4895.000000</td>\n",
       "      <td>4.432000e+03</td>\n",
       "      <td>4810.000000</td>\n",
       "      <td>4903.000000</td>\n",
       "      <td>4916.000000</td>\n",
       "      <td>4590.000000</td>\n",
       "      <td>4916.000000</td>\n",
       "    </tr>\n",
       "    <tr>\n",
       "      <th>mean</th>\n",
       "      <td>137.988905</td>\n",
       "      <td>107.090798</td>\n",
       "      <td>691.014541</td>\n",
       "      <td>631.276313</td>\n",
       "      <td>6494.488491</td>\n",
       "      <td>4.764451e+07</td>\n",
       "      <td>8.264492e+04</td>\n",
       "      <td>9579.815907</td>\n",
       "      <td>1.377320</td>\n",
       "      <td>267.668846</td>\n",
       "      <td>3.654749e+07</td>\n",
       "      <td>2002.447609</td>\n",
       "      <td>1621.923516</td>\n",
       "      <td>6.437429</td>\n",
       "      <td>2.222349</td>\n",
       "      <td>7348.294142</td>\n",
       "    </tr>\n",
       "    <tr>\n",
       "      <th>std</th>\n",
       "      <td>120.239379</td>\n",
       "      <td>25.286015</td>\n",
       "      <td>2832.954125</td>\n",
       "      <td>1625.874802</td>\n",
       "      <td>15106.986884</td>\n",
       "      <td>6.737255e+07</td>\n",
       "      <td>1.383222e+05</td>\n",
       "      <td>18164.316990</td>\n",
       "      <td>2.023826</td>\n",
       "      <td>372.934839</td>\n",
       "      <td>1.002427e+08</td>\n",
       "      <td>12.453977</td>\n",
       "      <td>4011.299523</td>\n",
       "      <td>1.127802</td>\n",
       "      <td>1.402940</td>\n",
       "      <td>19206.016458</td>\n",
       "    </tr>\n",
       "    <tr>\n",
       "      <th>min</th>\n",
       "      <td>1.000000</td>\n",
       "      <td>7.000000</td>\n",
       "      <td>0.000000</td>\n",
       "      <td>0.000000</td>\n",
       "      <td>0.000000</td>\n",
       "      <td>1.620000e+02</td>\n",
       "      <td>5.000000e+00</td>\n",
       "      <td>0.000000</td>\n",
       "      <td>0.000000</td>\n",
       "      <td>1.000000</td>\n",
       "      <td>2.180000e+02</td>\n",
       "      <td>1916.000000</td>\n",
       "      <td>0.000000</td>\n",
       "      <td>1.600000</td>\n",
       "      <td>1.180000</td>\n",
       "      <td>0.000000</td>\n",
       "    </tr>\n",
       "    <tr>\n",
       "      <th>25%</th>\n",
       "      <td>49.000000</td>\n",
       "      <td>93.000000</td>\n",
       "      <td>7.000000</td>\n",
       "      <td>132.000000</td>\n",
       "      <td>607.000000</td>\n",
       "      <td>5.019656e+06</td>\n",
       "      <td>8.361750e+03</td>\n",
       "      <td>1394.750000</td>\n",
       "      <td>0.000000</td>\n",
       "      <td>64.000000</td>\n",
       "      <td>6.000000e+06</td>\n",
       "      <td>1999.000000</td>\n",
       "      <td>277.000000</td>\n",
       "      <td>5.800000</td>\n",
       "      <td>1.850000</td>\n",
       "      <td>0.000000</td>\n",
       "    </tr>\n",
       "    <tr>\n",
       "      <th>50%</th>\n",
       "      <td>108.000000</td>\n",
       "      <td>103.000000</td>\n",
       "      <td>48.000000</td>\n",
       "      <td>366.000000</td>\n",
       "      <td>982.000000</td>\n",
       "      <td>2.504396e+07</td>\n",
       "      <td>3.313250e+04</td>\n",
       "      <td>3049.000000</td>\n",
       "      <td>1.000000</td>\n",
       "      <td>153.000000</td>\n",
       "      <td>1.985000e+07</td>\n",
       "      <td>2005.000000</td>\n",
       "      <td>593.000000</td>\n",
       "      <td>6.600000</td>\n",
       "      <td>2.350000</td>\n",
       "      <td>159.000000</td>\n",
       "    </tr>\n",
       "    <tr>\n",
       "      <th>75%</th>\n",
       "      <td>191.000000</td>\n",
       "      <td>118.000000</td>\n",
       "      <td>189.750000</td>\n",
       "      <td>633.000000</td>\n",
       "      <td>11000.000000</td>\n",
       "      <td>6.110841e+07</td>\n",
       "      <td>9.377275e+04</td>\n",
       "      <td>13616.750000</td>\n",
       "      <td>2.000000</td>\n",
       "      <td>320.500000</td>\n",
       "      <td>4.300000e+07</td>\n",
       "      <td>2011.000000</td>\n",
       "      <td>912.000000</td>\n",
       "      <td>7.200000</td>\n",
       "      <td>2.350000</td>\n",
       "      <td>2000.000000</td>\n",
       "    </tr>\n",
       "    <tr>\n",
       "      <th>max</th>\n",
       "      <td>813.000000</td>\n",
       "      <td>511.000000</td>\n",
       "      <td>23000.000000</td>\n",
       "      <td>23000.000000</td>\n",
       "      <td>640000.000000</td>\n",
       "      <td>7.605058e+08</td>\n",
       "      <td>1.689764e+06</td>\n",
       "      <td>656730.000000</td>\n",
       "      <td>43.000000</td>\n",
       "      <td>5060.000000</td>\n",
       "      <td>4.200000e+09</td>\n",
       "      <td>2016.000000</td>\n",
       "      <td>137000.000000</td>\n",
       "      <td>9.500000</td>\n",
       "      <td>16.000000</td>\n",
       "      <td>349000.000000</td>\n",
       "    </tr>\n",
       "  </tbody>\n",
       "</table>\n",
       "</div>"
      ],
      "text/plain": [
       "       num_critic_for_reviews     duration  director_facebook_likes  \\\n",
       "count             4867.000000  4901.000000              4814.000000   \n",
       "mean               137.988905   107.090798               691.014541   \n",
       "std                120.239379    25.286015              2832.954125   \n",
       "min                  1.000000     7.000000                 0.000000   \n",
       "25%                 49.000000    93.000000                 7.000000   \n",
       "50%                108.000000   103.000000                48.000000   \n",
       "75%                191.000000   118.000000               189.750000   \n",
       "max                813.000000   511.000000             23000.000000   \n",
       "\n",
       "       actor_3_facebook_likes  actor_1_facebook_likes         gross  \\\n",
       "count             4893.000000             4909.000000  4.054000e+03   \n",
       "mean               631.276313             6494.488491  4.764451e+07   \n",
       "std               1625.874802            15106.986884  6.737255e+07   \n",
       "min                  0.000000                0.000000  1.620000e+02   \n",
       "25%                132.000000              607.000000  5.019656e+06   \n",
       "50%                366.000000              982.000000  2.504396e+07   \n",
       "75%                633.000000            11000.000000  6.110841e+07   \n",
       "max              23000.000000           640000.000000  7.605058e+08   \n",
       "\n",
       "       num_voted_users  cast_total_facebook_likes  facenumber_in_poster  \\\n",
       "count     4.916000e+03                4916.000000           4903.000000   \n",
       "mean      8.264492e+04                9579.815907              1.377320   \n",
       "std       1.383222e+05               18164.316990              2.023826   \n",
       "min       5.000000e+00                   0.000000              0.000000   \n",
       "25%       8.361750e+03                1394.750000              0.000000   \n",
       "50%       3.313250e+04                3049.000000              1.000000   \n",
       "75%       9.377275e+04               13616.750000              2.000000   \n",
       "max       1.689764e+06              656730.000000             43.000000   \n",
       "\n",
       "       num_user_for_reviews        budget   title_year  \\\n",
       "count           4895.000000  4.432000e+03  4810.000000   \n",
       "mean             267.668846  3.654749e+07  2002.447609   \n",
       "std              372.934839  1.002427e+08    12.453977   \n",
       "min                1.000000  2.180000e+02  1916.000000   \n",
       "25%               64.000000  6.000000e+06  1999.000000   \n",
       "50%              153.000000  1.985000e+07  2005.000000   \n",
       "75%              320.500000  4.300000e+07  2011.000000   \n",
       "max             5060.000000  4.200000e+09  2016.000000   \n",
       "\n",
       "       actor_2_facebook_likes   imdb_score  aspect_ratio  movie_facebook_likes  \n",
       "count             4903.000000  4916.000000   4590.000000           4916.000000  \n",
       "mean              1621.923516     6.437429      2.222349           7348.294142  \n",
       "std               4011.299523     1.127802      1.402940          19206.016458  \n",
       "min                  0.000000     1.600000      1.180000              0.000000  \n",
       "25%                277.000000     5.800000      1.850000              0.000000  \n",
       "50%                593.000000     6.600000      2.350000            159.000000  \n",
       "75%                912.000000     7.200000      2.350000           2000.000000  \n",
       "max             137000.000000     9.500000     16.000000         349000.000000  "
      ]
     },
     "execution_count": 10,
     "metadata": {},
     "output_type": "execute_result"
    }
   ],
   "source": [
    "movie.describe()"
   ]
  },
  {
   "cell_type": "markdown",
   "metadata": {},
   "source": [
    "- It is possible to specify exact quantiles in the `describe` method using the `percentiles` parameter"
   ]
  },
  {
   "cell_type": "code",
   "execution_count": 11,
   "metadata": {
    "collapsed": false
   },
   "outputs": [
    {
     "data": {
      "text/html": [
       "<div>\n",
       "<table border=\"1\" class=\"dataframe\">\n",
       "  <thead>\n",
       "    <tr style=\"text-align: right;\">\n",
       "      <th></th>\n",
       "      <th>num_critic_for_reviews</th>\n",
       "      <th>duration</th>\n",
       "      <th>director_facebook_likes</th>\n",
       "      <th>actor_3_facebook_likes</th>\n",
       "      <th>actor_1_facebook_likes</th>\n",
       "      <th>gross</th>\n",
       "      <th>num_voted_users</th>\n",
       "      <th>cast_total_facebook_likes</th>\n",
       "      <th>facenumber_in_poster</th>\n",
       "      <th>num_user_for_reviews</th>\n",
       "      <th>budget</th>\n",
       "      <th>title_year</th>\n",
       "      <th>actor_2_facebook_likes</th>\n",
       "      <th>imdb_score</th>\n",
       "      <th>aspect_ratio</th>\n",
       "      <th>movie_facebook_likes</th>\n",
       "    </tr>\n",
       "  </thead>\n",
       "  <tbody>\n",
       "    <tr>\n",
       "      <th>count</th>\n",
       "      <td>4867.000000</td>\n",
       "      <td>4901.000000</td>\n",
       "      <td>4814.000000</td>\n",
       "      <td>4893.000000</td>\n",
       "      <td>4909.000000</td>\n",
       "      <td>4.054000e+03</td>\n",
       "      <td>4.916000e+03</td>\n",
       "      <td>4916.000000</td>\n",
       "      <td>4903.000000</td>\n",
       "      <td>4895.000000</td>\n",
       "      <td>4.432000e+03</td>\n",
       "      <td>4810.000000</td>\n",
       "      <td>4903.000000</td>\n",
       "      <td>4916.000000</td>\n",
       "      <td>4590.000000</td>\n",
       "      <td>4916.000000</td>\n",
       "    </tr>\n",
       "    <tr>\n",
       "      <th>mean</th>\n",
       "      <td>137.988905</td>\n",
       "      <td>107.090798</td>\n",
       "      <td>691.014541</td>\n",
       "      <td>631.276313</td>\n",
       "      <td>6494.488491</td>\n",
       "      <td>4.764451e+07</td>\n",
       "      <td>8.264492e+04</td>\n",
       "      <td>9579.815907</td>\n",
       "      <td>1.377320</td>\n",
       "      <td>267.668846</td>\n",
       "      <td>3.654749e+07</td>\n",
       "      <td>2002.447609</td>\n",
       "      <td>1621.923516</td>\n",
       "      <td>6.437429</td>\n",
       "      <td>2.222349</td>\n",
       "      <td>7348.294142</td>\n",
       "    </tr>\n",
       "    <tr>\n",
       "      <th>std</th>\n",
       "      <td>120.239379</td>\n",
       "      <td>25.286015</td>\n",
       "      <td>2832.954125</td>\n",
       "      <td>1625.874802</td>\n",
       "      <td>15106.986884</td>\n",
       "      <td>6.737255e+07</td>\n",
       "      <td>1.383222e+05</td>\n",
       "      <td>18164.316990</td>\n",
       "      <td>2.023826</td>\n",
       "      <td>372.934839</td>\n",
       "      <td>1.002427e+08</td>\n",
       "      <td>12.453977</td>\n",
       "      <td>4011.299523</td>\n",
       "      <td>1.127802</td>\n",
       "      <td>1.402940</td>\n",
       "      <td>19206.016458</td>\n",
       "    </tr>\n",
       "    <tr>\n",
       "      <th>min</th>\n",
       "      <td>1.000000</td>\n",
       "      <td>7.000000</td>\n",
       "      <td>0.000000</td>\n",
       "      <td>0.000000</td>\n",
       "      <td>0.000000</td>\n",
       "      <td>1.620000e+02</td>\n",
       "      <td>5.000000e+00</td>\n",
       "      <td>0.000000</td>\n",
       "      <td>0.000000</td>\n",
       "      <td>1.000000</td>\n",
       "      <td>2.180000e+02</td>\n",
       "      <td>1916.000000</td>\n",
       "      <td>0.000000</td>\n",
       "      <td>1.600000</td>\n",
       "      <td>1.180000</td>\n",
       "      <td>0.000000</td>\n",
       "    </tr>\n",
       "    <tr>\n",
       "      <th>1%</th>\n",
       "      <td>2.000000</td>\n",
       "      <td>43.000000</td>\n",
       "      <td>0.000000</td>\n",
       "      <td>0.000000</td>\n",
       "      <td>6.080000</td>\n",
       "      <td>8.474800e+03</td>\n",
       "      <td>5.300000e+01</td>\n",
       "      <td>6.000000</td>\n",
       "      <td>0.000000</td>\n",
       "      <td>1.940000</td>\n",
       "      <td>6.000000e+04</td>\n",
       "      <td>1951.000000</td>\n",
       "      <td>0.000000</td>\n",
       "      <td>3.100000</td>\n",
       "      <td>1.330000</td>\n",
       "      <td>0.000000</td>\n",
       "    </tr>\n",
       "    <tr>\n",
       "      <th>30%</th>\n",
       "      <td>60.000000</td>\n",
       "      <td>95.000000</td>\n",
       "      <td>11.000000</td>\n",
       "      <td>176.000000</td>\n",
       "      <td>694.000000</td>\n",
       "      <td>7.914069e+06</td>\n",
       "      <td>1.186450e+04</td>\n",
       "      <td>1684.500000</td>\n",
       "      <td>0.000000</td>\n",
       "      <td>80.000000</td>\n",
       "      <td>8.000000e+06</td>\n",
       "      <td>2000.000000</td>\n",
       "      <td>345.000000</td>\n",
       "      <td>6.000000</td>\n",
       "      <td>1.850000</td>\n",
       "      <td>0.000000</td>\n",
       "    </tr>\n",
       "    <tr>\n",
       "      <th>50%</th>\n",
       "      <td>108.000000</td>\n",
       "      <td>103.000000</td>\n",
       "      <td>48.000000</td>\n",
       "      <td>366.000000</td>\n",
       "      <td>982.000000</td>\n",
       "      <td>2.504396e+07</td>\n",
       "      <td>3.313250e+04</td>\n",
       "      <td>3049.000000</td>\n",
       "      <td>1.000000</td>\n",
       "      <td>153.000000</td>\n",
       "      <td>1.985000e+07</td>\n",
       "      <td>2005.000000</td>\n",
       "      <td>593.000000</td>\n",
       "      <td>6.600000</td>\n",
       "      <td>2.350000</td>\n",
       "      <td>159.000000</td>\n",
       "    </tr>\n",
       "    <tr>\n",
       "      <th>99%</th>\n",
       "      <td>546.680000</td>\n",
       "      <td>189.000000</td>\n",
       "      <td>16000.000000</td>\n",
       "      <td>11000.000000</td>\n",
       "      <td>44920.000000</td>\n",
       "      <td>3.264128e+08</td>\n",
       "      <td>6.815846e+05</td>\n",
       "      <td>62413.900000</td>\n",
       "      <td>8.000000</td>\n",
       "      <td>1999.240000</td>\n",
       "      <td>2.000000e+08</td>\n",
       "      <td>2016.000000</td>\n",
       "      <td>17000.000000</td>\n",
       "      <td>8.500000</td>\n",
       "      <td>4.000000</td>\n",
       "      <td>93850.000000</td>\n",
       "    </tr>\n",
       "    <tr>\n",
       "      <th>max</th>\n",
       "      <td>813.000000</td>\n",
       "      <td>511.000000</td>\n",
       "      <td>23000.000000</td>\n",
       "      <td>23000.000000</td>\n",
       "      <td>640000.000000</td>\n",
       "      <td>7.605058e+08</td>\n",
       "      <td>1.689764e+06</td>\n",
       "      <td>656730.000000</td>\n",
       "      <td>43.000000</td>\n",
       "      <td>5060.000000</td>\n",
       "      <td>4.200000e+09</td>\n",
       "      <td>2016.000000</td>\n",
       "      <td>137000.000000</td>\n",
       "      <td>9.500000</td>\n",
       "      <td>16.000000</td>\n",
       "      <td>349000.000000</td>\n",
       "    </tr>\n",
       "  </tbody>\n",
       "</table>\n",
       "</div>"
      ],
      "text/plain": [
       "       num_critic_for_reviews     duration  director_facebook_likes  \\\n",
       "count             4867.000000  4901.000000              4814.000000   \n",
       "mean               137.988905   107.090798               691.014541   \n",
       "std                120.239379    25.286015              2832.954125   \n",
       "min                  1.000000     7.000000                 0.000000   \n",
       "1%                   2.000000    43.000000                 0.000000   \n",
       "30%                 60.000000    95.000000                11.000000   \n",
       "50%                108.000000   103.000000                48.000000   \n",
       "99%                546.680000   189.000000             16000.000000   \n",
       "max                813.000000   511.000000             23000.000000   \n",
       "\n",
       "       actor_3_facebook_likes  actor_1_facebook_likes         gross  \\\n",
       "count             4893.000000             4909.000000  4.054000e+03   \n",
       "mean               631.276313             6494.488491  4.764451e+07   \n",
       "std               1625.874802            15106.986884  6.737255e+07   \n",
       "min                  0.000000                0.000000  1.620000e+02   \n",
       "1%                   0.000000                6.080000  8.474800e+03   \n",
       "30%                176.000000              694.000000  7.914069e+06   \n",
       "50%                366.000000              982.000000  2.504396e+07   \n",
       "99%              11000.000000            44920.000000  3.264128e+08   \n",
       "max              23000.000000           640000.000000  7.605058e+08   \n",
       "\n",
       "       num_voted_users  cast_total_facebook_likes  facenumber_in_poster  \\\n",
       "count     4.916000e+03                4916.000000           4903.000000   \n",
       "mean      8.264492e+04                9579.815907              1.377320   \n",
       "std       1.383222e+05               18164.316990              2.023826   \n",
       "min       5.000000e+00                   0.000000              0.000000   \n",
       "1%        5.300000e+01                   6.000000              0.000000   \n",
       "30%       1.186450e+04                1684.500000              0.000000   \n",
       "50%       3.313250e+04                3049.000000              1.000000   \n",
       "99%       6.815846e+05               62413.900000              8.000000   \n",
       "max       1.689764e+06              656730.000000             43.000000   \n",
       "\n",
       "       num_user_for_reviews        budget   title_year  \\\n",
       "count           4895.000000  4.432000e+03  4810.000000   \n",
       "mean             267.668846  3.654749e+07  2002.447609   \n",
       "std              372.934839  1.002427e+08    12.453977   \n",
       "min                1.000000  2.180000e+02  1916.000000   \n",
       "1%                 1.940000  6.000000e+04  1951.000000   \n",
       "30%               80.000000  8.000000e+06  2000.000000   \n",
       "50%              153.000000  1.985000e+07  2005.000000   \n",
       "99%             1999.240000  2.000000e+08  2016.000000   \n",
       "max             5060.000000  4.200000e+09  2016.000000   \n",
       "\n",
       "       actor_2_facebook_likes   imdb_score  aspect_ratio  movie_facebook_likes  \n",
       "count             4903.000000  4916.000000   4590.000000           4916.000000  \n",
       "mean              1621.923516     6.437429      2.222349           7348.294142  \n",
       "std               4011.299523     1.127802      1.402940          19206.016458  \n",
       "min                  0.000000     1.600000      1.180000              0.000000  \n",
       "1%                   0.000000     3.100000      1.330000              0.000000  \n",
       "30%                345.000000     6.000000      1.850000              0.000000  \n",
       "50%                593.000000     6.600000      2.350000            159.000000  \n",
       "99%              17000.000000     8.500000      4.000000          93850.000000  \n",
       "max             137000.000000     9.500000     16.000000         349000.000000  "
      ]
     },
     "execution_count": 11,
     "metadata": {},
     "output_type": "execute_result"
    }
   ],
   "source": [
    "movie.describe(percentiles=[.01, .3, .99])"
   ]
  },
  {
   "cell_type": "markdown",
   "metadata": {},
   "source": [
    "## There's more...\n",
    "\n",
    "- To see how the `skipna` parameter affects the outcome, we can set its value to `False` and rerun step 3 from the preceding recipe\n",
    "- Only numeric columns without missing values will calculate a result"
   ]
  },
  {
   "cell_type": "code",
   "execution_count": 12,
   "metadata": {
    "collapsed": false
   },
   "outputs": [
    {
     "data": {
      "text/plain": [
       "num_critic_for_reviews       NaN\n",
       "duration                     NaN\n",
       "director_facebook_likes      NaN\n",
       "actor_3_facebook_likes       NaN\n",
       "actor_1_facebook_likes       NaN\n",
       "gross                        NaN\n",
       "num_voted_users              5.0\n",
       "cast_total_facebook_likes    0.0\n",
       "facenumber_in_poster         NaN\n",
       "num_user_for_reviews         NaN\n",
       "budget                       NaN\n",
       "title_year                   NaN\n",
       "actor_2_facebook_likes       NaN\n",
       "imdb_score                   1.6\n",
       "aspect_ratio                 NaN\n",
       "movie_facebook_likes         0.0\n",
       "dtype: float64"
      ]
     },
     "execution_count": 12,
     "metadata": {},
     "output_type": "execute_result"
    }
   ],
   "source": [
    "movie.min(skipna=False)"
   ]
  }
 ],
 "metadata": {
  "kernelspec": {
   "display_name": "Python 3",
   "language": "python",
   "name": "python3"
  },
  "language_info": {
   "codemirror_mode": {
    "name": "ipython",
    "version": 3
   },
   "file_extension": ".py",
   "mimetype": "text/x-python",
   "name": "python",
   "nbconvert_exporter": "python",
   "pygments_lexer": "ipython3",
   "version": "3.6.0"
  }
 },
 "nbformat": 4,
 "nbformat_minor": 2
}
