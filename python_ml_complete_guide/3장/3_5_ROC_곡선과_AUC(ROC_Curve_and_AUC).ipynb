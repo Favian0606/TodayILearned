{
  "nbformat": 4,
  "nbformat_minor": 0,
  "metadata": {
    "colab": {
      "name": "3_5_ROC 곡선과 AUC(ROC Curve and AUC).ipynb",
      "provenance": [],
      "collapsed_sections": [],
      "authorship_tag": "ABX9TyOjAZaLZ4vRQK1IPjA+aLzT",
      "include_colab_link": true
    },
    "kernelspec": {
      "name": "python3",
      "display_name": "Python 3"
    }
  },
  "cells": [
    {
      "cell_type": "markdown",
      "metadata": {
        "id": "view-in-github",
        "colab_type": "text"
      },
      "source": [
        "<a href=\"https://colab.research.google.com/github/kwanhong66/TodayILearned/blob/master/python_ml_complete_guide/3%EC%9E%A5/3_5_ROC_%EA%B3%A1%EC%84%A0%EA%B3%BC_AUC(ROC_Curve_and_AUC).ipynb\" target=\"_parent\"><img src=\"https://colab.research.google.com/assets/colab-badge.svg\" alt=\"Open In Colab\"/></a>"
      ]
    },
    {
      "cell_type": "markdown",
      "metadata": {
        "id": "KNk5zz2O-Jzq",
        "colab_type": "text"
      },
      "source": [
        "[Book] 파이썬 머신러닝 완벽 가이드\n",
        "- 예제 코드 transcription\n",
        "- 개념, 프로세스, API, Best Practice 등 익히기\n",
        "- 책 예제 코드 github (https://github.com/wikibook/pymldg-rev)"
      ]
    },
    {
      "cell_type": "markdown",
      "metadata": {
        "id": "Xf4FDvKi-I9m",
        "colab_type": "text"
      },
      "source": [
        "## Dataset with Kaggle API"
      ]
    },
    {
      "cell_type": "code",
      "metadata": {
        "id": "IzHEeA_z8Iyj",
        "colab_type": "code",
        "colab": {}
      },
      "source": [
        "!pip3 install -q kaggle"
      ],
      "execution_count": 0,
      "outputs": []
    },
    {
      "cell_type": "code",
      "metadata": {
        "id": "8HOJxOnX-PcX",
        "colab_type": "code",
        "colab": {
          "base_uri": "https://localhost:8080/",
          "height": 204
        },
        "outputId": "9932f1e7-c69c-4450-c3c1-ec9adad42d02"
      },
      "source": [
        "!wget 'https://raw.githubusercontent.com/kwanhong66/KaggleShoveling/master/token/kaggle.json'"
      ],
      "execution_count": 2,
      "outputs": [
        {
          "output_type": "stream",
          "text": [
            "--2020-03-24 14:36:32--  https://raw.githubusercontent.com/kwanhong66/KaggleShoveling/master/token/kaggle.json\n",
            "Resolving raw.githubusercontent.com (raw.githubusercontent.com)... 151.101.0.133, 151.101.64.133, 151.101.128.133, ...\n",
            "Connecting to raw.githubusercontent.com (raw.githubusercontent.com)|151.101.0.133|:443... connected.\n",
            "HTTP request sent, awaiting response... 200 OK\n",
            "Length: 63 [text/plain]\n",
            "Saving to: ‘kaggle.json’\n",
            "\n",
            "\rkaggle.json           0%[                    ]       0  --.-KB/s               \rkaggle.json         100%[===================>]      63  --.-KB/s    in 0s      \n",
            "\n",
            "2020-03-24 14:36:32 (14.4 MB/s) - ‘kaggle.json’ saved [63/63]\n",
            "\n"
          ],
          "name": "stdout"
        }
      ]
    },
    {
      "cell_type": "code",
      "metadata": {
        "id": "myyy6fdy-Sm3",
        "colab_type": "code",
        "colab": {}
      },
      "source": [
        "!mkdir ~/.kaggle\n",
        "!cp kaggle.json ~/.kaggle"
      ],
      "execution_count": 0,
      "outputs": []
    },
    {
      "cell_type": "code",
      "metadata": {
        "id": "TKL4B-mk-VUL",
        "colab_type": "code",
        "colab": {}
      },
      "source": [
        "!chmod 600 ~/.kaggle/kaggle.json"
      ],
      "execution_count": 0,
      "outputs": []
    },
    {
      "cell_type": "code",
      "metadata": {
        "id": "NZIp86RJ-W6q",
        "colab_type": "code",
        "colab": {
          "base_uri": "https://localhost:8080/",
          "height": 408
        },
        "outputId": "f6068967-219a-4a84-c281-34b019826b11"
      },
      "source": [
        "!kaggle competitions list"
      ],
      "execution_count": 5,
      "outputs": [
        {
          "output_type": "stream",
          "text": [
            "Warning: Looks like you're using an outdated API Version, please consider updating (server 1.5.6 / client 1.5.4)\n",
            "ref                                               deadline             category             reward  teamCount  userHasEntered  \n",
            "------------------------------------------------  -------------------  ---------------  ----------  ---------  --------------  \n",
            "digit-recognizer                                  2030-01-01 00:00:00  Getting Started   Knowledge       2196           False  \n",
            "titanic                                           2030-01-01 00:00:00  Getting Started   Knowledge      16639            True  \n",
            "house-prices-advanced-regression-techniques       2030-01-01 00:00:00  Getting Started   Knowledge       4530            True  \n",
            "connectx                                          2030-01-01 00:00:00  Getting Started   Knowledge        323           False  \n",
            "nlp-getting-started                               2030-01-01 00:00:00  Getting Started       Kudos       3436           False  \n",
            "competitive-data-science-predict-future-sales     2020-12-31 23:59:00  Playground            Kudos       6045           False  \n",
            "m5-forecasting-accuracy                           2020-06-30 23:59:00  Featured            $50,000       1277           False  \n",
            "m5-forecasting-uncertainty                        2020-06-30 23:59:00  Featured            $50,000         61           False  \n",
            "jigsaw-multilingual-toxic-comment-classification  2020-06-22 23:59:00  Featured            $50,000         33           False  \n",
            "tweet-sentiment-extraction                        2020-06-02 23:59:00  Featured            $15,000         23           False  \n",
            "abstraction-and-reasoning-challenge               2020-05-27 23:59:00  Research            $20,000        496           False  \n",
            "imaterialist-fashion-2020-fgvc7                   2020-05-26 23:59:00  Research          Knowledge          1           False  \n",
            "liverpool-ion-switching                           2020-05-25 23:59:00  Research            $25,000       1181           False  \n",
            "flower-classification-with-tpus                   2020-05-11 23:59:00  Playground           Prizes        411           False  \n",
            "iwildcam-2020-fgvc7                               2020-05-11 23:59:00  Research          Knowledge         39           False  \n",
            "herbarium-2020-fgvc7                              2020-05-11 23:59:00  Research          Knowledge         29           False  \n",
            "plant-pathology-2020-fgvc7                        2020-05-11 23:59:00  Research          Knowledge        268           False  \n",
            "march-madness-analytics-2020                      2020-04-30 23:59:00  Analytics           $25,000          0           False  \n",
            "deepfake-detection-challenge                      2020-03-31 23:59:00  Featured         $1,000,000       2202           False  \n",
            "cat-in-the-dat-ii                                 2020-03-31 23:59:00  Playground             Swag       1041           False  \n"
          ],
          "name": "stdout"
        }
      ]
    },
    {
      "cell_type": "code",
      "metadata": {
        "id": "5fDRcYqW-Ynq",
        "colab_type": "code",
        "colab": {
          "base_uri": "https://localhost:8080/",
          "height": 187
        },
        "outputId": "cda97f8f-543a-4a2d-d778-ed11a1037e86"
      },
      "source": [
        "!kaggle competitions download 'titanic'"
      ],
      "execution_count": 6,
      "outputs": [
        {
          "output_type": "stream",
          "text": [
            "Warning: Looks like you're using an outdated API Version, please consider updating (server 1.5.6 / client 1.5.4)\n",
            "Downloading test.csv to /content\n",
            "  0% 0.00/28.0k [00:00<?, ?B/s]\n",
            "100% 28.0k/28.0k [00:00<00:00, 13.3MB/s]\n",
            "Downloading gender_submission.csv to /content\n",
            "  0% 0.00/3.18k [00:00<?, ?B/s]\n",
            "100% 3.18k/3.18k [00:00<00:00, 2.50MB/s]\n",
            "Downloading train.csv to /content\n",
            "  0% 0.00/59.8k [00:00<?, ?B/s]\n",
            "100% 59.8k/59.8k [00:00<00:00, 46.6MB/s]\n"
          ],
          "name": "stdout"
        }
      ]
    },
    {
      "cell_type": "code",
      "metadata": {
        "id": "azTbqhp9-agl",
        "colab_type": "code",
        "colab": {}
      },
      "source": [
        "!mkdir input"
      ],
      "execution_count": 0,
      "outputs": []
    },
    {
      "cell_type": "code",
      "metadata": {
        "id": "5GwZWGlU-cM3",
        "colab_type": "code",
        "colab": {}
      },
      "source": [
        "!cp /content/train.csv /content/test.csv /content/gender_submission.csv /content/input"
      ],
      "execution_count": 0,
      "outputs": []
    },
    {
      "cell_type": "markdown",
      "metadata": {
        "id": "M4DZ6XLO-fTI",
        "colab_type": "text"
      },
      "source": [
        "## 3.5 ROC 곡선과 AUC (ROC Curve and AUC)\n",
        "\n",
        "- FPR(False Positive Rate)이 변할 때 TPR(True Positive Rate)이 어떻게 변하는지를 나타내는 곡선\n",
        "- TPR은 recall을 의미; sensitivity(민감도)\n",
        "  - TP / (FN + TP)\n",
        "  - Positive(양성)이 정확하게 예측되는 수준\n",
        "  - 실제 양성 데이터 중, 모델이 양성으로 예측한 정도\n",
        "- Specificty에 대응하는 지표로 TNR(True Negative Rate)\n",
        "  - Specificity(특이성)\n",
        "  - TN / (FP + TN)\n",
        "  - Negative(음성)이 정확하게 예측되는 수준\n",
        "  - 1 - TNR = FPR / 1 - Specificity"
      ]
    },
    {
      "cell_type": "markdown",
      "metadata": {
        "id": "puYBRLt___gk",
        "colab_type": "text"
      },
      "source": [
        "- Scikit-learn의 roc_curve() API\n",
        "- FPR, TPR, threshold 값 반환"
      ]
    },
    {
      "cell_type": "code",
      "metadata": {
        "id": "UVHkz5ueAOcx",
        "colab_type": "code",
        "colab": {}
      },
      "source": [
        "import pandas as pd\n",
        "import numpy as np\n",
        "import matplotlib.pyplot as plt\n",
        "\n",
        "from sklearn.preprocessing import LabelEncoder\n",
        "\n",
        "# Null 처리 함수\n",
        "def fillna(df):\n",
        "  df['Age'].fillna(df['Age'].mean(), inplace=True)\n",
        "  df['Cabin'].fillna('N', inplace=True)\n",
        "  df['Embarked'].fillna('N', inplace=True)\n",
        "  df['Fare'].fillna(0, inplace=True)\n",
        "  return df\n",
        "\n",
        "# 머신러닝 알고리즘에 불필요한 속성 제거\n",
        "def drop_features(df):\n",
        "  df.drop(['PassengerId', 'Name', 'Ticket'], axis=1, inplace=True)\n",
        "  return df\n",
        "\n",
        "# 레이블 인코딩 수행\n",
        "def format_features(df):\n",
        "  df['Cabin'] = df['Cabin'].str[:1]\n",
        "  features = ['Cabin', 'Sex', 'Embarked']\n",
        "  for feature in features:\n",
        "    le = LabelEncoder()\n",
        "    le = le.fit(df[feature])\n",
        "    df[feature] = le.transform(df[feature])\n",
        "\n",
        "  return df\n",
        "\n",
        "# 앞에서 설정한 데이터 전처리 함수 호출\n",
        "def transform_features(df):\n",
        "  df = fillna(df)\n",
        "  df = drop_features(df)\n",
        "  df = format_features(df)\n",
        "  return df"
      ],
      "execution_count": 0,
      "outputs": []
    },
    {
      "cell_type": "code",
      "metadata": {
        "id": "rCG2UYIUAHJL",
        "colab_type": "code",
        "colab": {
          "base_uri": "https://localhost:8080/",
          "height": 153
        },
        "outputId": "ca1e1eab-d27a-4618-95d8-7e5cae616c05"
      },
      "source": [
        "import pandas as pd\n",
        "from sklearn.model_selection import train_test_split\n",
        "from sklearn.linear_model import LogisticRegression\n",
        "\n",
        "# 원본 데이터를 재로딩, 데이터 가공, 학습 데이터/테스트 데이터 분할\n",
        "titanic_df = pd.read_csv('./input/train.csv')\n",
        "y_titanic_df = titanic_df['Survived']\n",
        "X_titanic_df = titanic_df.drop('Survived', axis=1)\n",
        "X_titanic_df = transform_features(X_titanic_df)\n",
        "\n",
        "X_train, X_test, y_train, y_test = train_test_split(X_titanic_df, y_titanic_df,\n",
        "                                                    test_size=.20, random_state=11)\n",
        "lr_clf = LogisticRegression()\n",
        "\n",
        "lr_clf.fit(X_train, y_train)\n",
        "pred = lr_clf.predict(X_test)"
      ],
      "execution_count": 10,
      "outputs": [
        {
          "output_type": "stream",
          "text": [
            "/usr/local/lib/python3.6/dist-packages/sklearn/linear_model/_logistic.py:940: ConvergenceWarning: lbfgs failed to converge (status=1):\n",
            "STOP: TOTAL NO. of ITERATIONS REACHED LIMIT.\n",
            "\n",
            "Increase the number of iterations (max_iter) or scale the data as shown in:\n",
            "    https://scikit-learn.org/stable/modules/preprocessing.html\n",
            "Please also refer to the documentation for alternative solver options:\n",
            "    https://scikit-learn.org/stable/modules/linear_model.html#logistic-regression\n",
            "  extra_warning_msg=_LOGISTIC_SOLVER_CONVERGENCE_MSG)\n"
          ],
          "name": "stderr"
        }
      ]
    },
    {
      "cell_type": "code",
      "metadata": {
        "id": "M8O3Xwu1ASam",
        "colab_type": "code",
        "colab": {
          "base_uri": "https://localhost:8080/",
          "height": 85
        },
        "outputId": "100a6ae6-f5a0-4d25-991a-3b9c415cb7dd"
      },
      "source": [
        "from sklearn.metrics import roc_curve\n",
        "\n",
        "# 레이블 값이 1일 때의 예측 확률을 추출\n",
        "pred_proba_class1 = lr_clf.predict_proba(X_test)[:, 1]\n",
        "\n",
        "fprs, tprs, thresholds = roc_curve(y_test, pred_proba_class1)\n",
        "\n",
        "# 반환된 임계값 배열 row가 55건\n",
        "# 샘플로 10건만 추출하고, 임계값을 5 step으로 추출\n",
        "# thresholds[0]은 max(예측확률)+1로 임의 설정\n",
        "# 이를 제외하기 위해 np.arange는 1부터 시작\n",
        "thr_index = np.arange(1, thresholds.shape[0], 5)\n",
        "print('샘플 추출을 위한 임계값 배열의 index 10개:', thr_index)\n",
        "print('샘플용 10개의 임계값:', np.round(thresholds[thr_index], 2))\n",
        "\n",
        "# 5 step 단위로 추출된 임계값에 따른 FPR, TPR 값\n",
        "print('샘플 임계값 별 FPR:', np.round(fprs[thr_index], 3))\n",
        "print('샘플 임계값 별 TPR:', np.round(tprs[thr_index], 3))"
      ],
      "execution_count": 19,
      "outputs": [
        {
          "output_type": "stream",
          "text": [
            "샘플 추출을 위한 임계값 배열의 index 10개: [ 1  6 11 16 21 26 31 36 41 46 51]\n",
            "샘플용 10개의 임계값: [0.97 0.65 0.63 0.56 0.45 0.4  0.35 0.15 0.13 0.11 0.11]\n",
            "샘플 임계값 별 FPR: [0.    0.017 0.034 0.076 0.127 0.169 0.203 0.466 0.585 0.686 0.797]\n",
            "샘플 임계값 별 TPR: [0.033 0.639 0.721 0.754 0.803 0.836 0.885 0.902 0.934 0.967 0.984]\n"
          ],
          "name": "stdout"
        }
      ]
    },
    {
      "cell_type": "markdown",
      "metadata": {
        "id": "7A2iDiY9CxPO",
        "colab_type": "text"
      },
      "source": [
        "- FPR의 변화에 따른 TPR의 변화를 ROC 곡선으로 시각화"
      ]
    },
    {
      "cell_type": "code",
      "metadata": {
        "id": "QF-lrFYiC3YU",
        "colab_type": "code",
        "colab": {
          "base_uri": "https://localhost:8080/",
          "height": 283
        },
        "outputId": "cfa1ebf8-954d-4330-cca4-1949cc94f64e"
      },
      "source": [
        "def roc_curve_plot(y_test, pred_proba_c1):\n",
        "  # 임계값에 따른 FPR, TPR 값을 반환 받음\n",
        "  fprs, tprs, threholds = roc_curve(y_test, pred_proba_c1)\n",
        "  # ROC 곡선을 그래프 곡선으로 그림\n",
        "  plt.plot(fprs, tprs, label='ROC')\n",
        "  # 가운데 대각선 직선을 그림\n",
        "  plt.plot([0, 1], [0, 1], 'k--', label='random')\n",
        "\n",
        "  # FPR X 축의 Scale을 0.1 단위로 변경\n",
        "  # X, Y축 이름 설정 등\n",
        "  start, end = plt.xlim()\n",
        "  plt.xticks(np.round(np.arange(start, end, 0.1), 2))\n",
        "  plt.xlim(0, 1)\n",
        "  plt.ylim(0, 1)\n",
        "  plt.xlabel('FPR( 1 - Sensitivity )')\n",
        "  plt.ylabel('TPR ( Recall )')\n",
        "  plt.legend()\n",
        "\n",
        "roc_curve_plot(y_test, pred_proba_class1)"
      ],
      "execution_count": 22,
      "outputs": [
        {
          "output_type": "display_data",
          "data": {
            "image/png": "[encoded data removed]",
            "text/plain": [
              "<Figure size 432x288 with 1 Axes>"
            ]
          },
          "metadata": {
            "tags": []
          }
        }
      ]
    },
    {
      "cell_type": "code",
      "metadata": {
        "id": "1_miKBfvEryz",
        "colab_type": "code",
        "colab": {
          "base_uri": "https://localhost:8080/",
          "height": 34
        },
        "outputId": "e3be57fa-0e08-4df2-bfbc-91714128dc27"
      },
      "source": [
        "from sklearn.metrics import roc_auc_score\n",
        "\n",
        "pred_proba = lr_clf.predict_proba(X_test)[:, 1]\n",
        "roc_score = roc_auc_score(y_test, pred_proba)\n",
        "print('ROC AUC 값: {0:.4f}'.format(roc_score))"
      ],
      "execution_count": 25,
      "outputs": [
        {
          "output_type": "stream",
          "text": [
            "ROC AUC 값: 0.9024\n"
          ],
          "name": "stdout"
        }
      ]
    },
    {
      "cell_type": "code",
      "metadata": {
        "id": "SOhNj4GzGPcP",
        "colab_type": "code",
        "colab": {}
      },
      "source": [
        "from sklearn.metrics import accuracy_score, precision_score, recall_score, confusion_matrix, f1_score\n",
        "\n",
        "def get_clf_eval(y_test, pred=None, pred_proba=None):\n",
        "  confusion = confusion_matrix(y_test, pred)\n",
        "  accuracy = accuracy_score(y_test, pred)\n",
        "  precision = precision_score(y_test, pred)\n",
        "  recall = recall_score(y_test, pred)\n",
        "  f1 = f1_score(y_test, pred)\n",
        "  # ROC AUC 추가\n",
        "  roc_auc = roc_auc_score(y_test, pred_proba)\n",
        "  print('오차 행렬')\n",
        "  print(confusion)\n",
        "  # ROC AUC print 추가\n",
        "  print('정확도: {0:.4f}, 정밀도: {1:.4f}, 재현율: {2:.4f}, \\\n",
        "        F1: {3:.4f}, AUC: {4:.4f}'.format(accuracy, precision, recall, f1, roc_auc))\n"
      ],
      "execution_count": 0,
      "outputs": []
    }
  ]
}