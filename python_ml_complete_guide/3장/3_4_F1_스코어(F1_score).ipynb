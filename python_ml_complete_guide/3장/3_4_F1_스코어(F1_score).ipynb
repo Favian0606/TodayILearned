{
  "nbformat": 4,
  "nbformat_minor": 0,
  "metadata": {
    "colab": {
      "name": "3_4_F1 스코어(F1 score).ipynb",
      "provenance": [],
      "collapsed_sections": [],
      "authorship_tag": "ABX9TyP1ykUBLXOxN7UxKN/4FWRS",
      "include_colab_link": true
    },
    "kernelspec": {
      "name": "python3",
      "display_name": "Python 3"
    }
  },
  "cells": [
    {
      "cell_type": "markdown",
      "metadata": {
        "id": "view-in-github",
        "colab_type": "text"
      },
      "source": [
        "<a href=\"https://colab.research.google.com/github/kwanhong66/TodayILearned/blob/master/python_ml_complete_guide/3%EC%9E%A5/3_4_F1_%EC%8A%A4%EC%BD%94%EC%96%B4(F1_score).ipynb\" target=\"_parent\"><img src=\"https://colab.research.google.com/assets/colab-badge.svg\" alt=\"Open In Colab\"/></a>"
      ]
    },
    {
      "cell_type": "markdown",
      "metadata": {
        "id": "a4c_jey_0enZ",
        "colab_type": "text"
      },
      "source": [
        "[Book] 파이썬 머신러닝 완벽 가이드\n",
        "- 예제 코드 transcription\n",
        "- 개념, 프로세스, API, Best Practice 등 익히기\n",
        "- 책 예제 코드 github (https://github.com/wikibook/pymldg-rev)"
      ]
    },
    {
      "cell_type": "markdown",
      "metadata": {
        "id": "PvydIukE0lTq",
        "colab_type": "text"
      },
      "source": [
        "## Dataset with Kaggle API"
      ]
    },
    {
      "cell_type": "code",
      "metadata": {
        "id": "4ypDtvcz0l0x",
        "colab_type": "code",
        "colab": {}
      },
      "source": [
        "!pip3 install -q kaggle"
      ],
      "execution_count": 0,
      "outputs": []
    },
    {
      "cell_type": "code",
      "metadata": {
        "id": "vS7M9BWp0ptn",
        "colab_type": "code",
        "colab": {
          "base_uri": "https://localhost:8080/",
          "height": 204
        },
        "outputId": "4abb55d8-26ac-4004-9bc3-ac31ecba6b30"
      },
      "source": [
        "!wget 'https://raw.githubusercontent.com/kwanhong66/KaggleShoveling/master/token/kaggle.json'"
      ],
      "execution_count": 2,
      "outputs": [
        {
          "output_type": "stream",
          "text": [
            "--2020-03-24 13:55:25--  https://raw.githubusercontent.com/kwanhong66/KaggleShoveling/master/token/kaggle.json\n",
            "Resolving raw.githubusercontent.com (raw.githubusercontent.com)... 151.101.0.133, 151.101.64.133, 151.101.128.133, ...\n",
            "Connecting to raw.githubusercontent.com (raw.githubusercontent.com)|151.101.0.133|:443... connected.\n",
            "HTTP request sent, awaiting response... 200 OK\n",
            "Length: 63 [text/plain]\n",
            "Saving to: ‘kaggle.json’\n",
            "\n",
            "\rkaggle.json           0%[                    ]       0  --.-KB/s               \rkaggle.json         100%[===================>]      63  --.-KB/s    in 0s      \n",
            "\n",
            "2020-03-24 13:55:25 (8.63 MB/s) - ‘kaggle.json’ saved [63/63]\n",
            "\n"
          ],
          "name": "stdout"
        }
      ]
    },
    {
      "cell_type": "code",
      "metadata": {
        "id": "d2eXrLtq0rmV",
        "colab_type": "code",
        "colab": {}
      },
      "source": [
        "!mkdir ~/.kaggle\n",
        "!cp kaggle.json ~/.kaggle"
      ],
      "execution_count": 0,
      "outputs": []
    },
    {
      "cell_type": "code",
      "metadata": {
        "id": "hDjHiZjk0tzH",
        "colab_type": "code",
        "colab": {}
      },
      "source": [
        "!chmod 600 ~/.kaggle/kaggle.json"
      ],
      "execution_count": 0,
      "outputs": []
    },
    {
      "cell_type": "code",
      "metadata": {
        "id": "bvkp8nce0vyl",
        "colab_type": "code",
        "colab": {
          "base_uri": "https://localhost:8080/",
          "height": 408
        },
        "outputId": "7e5c36fc-8101-4fe8-c69a-1c2d5ace7d12"
      },
      "source": [
        "!kaggle competitions list"
      ],
      "execution_count": 5,
      "outputs": [
        {
          "output_type": "stream",
          "text": [
            "Warning: Looks like you're using an outdated API Version, please consider updating (server 1.5.6 / client 1.5.4)\n",
            "ref                                               deadline             category             reward  teamCount  userHasEntered  \n",
            "------------------------------------------------  -------------------  ---------------  ----------  ---------  --------------  \n",
            "digit-recognizer                                  2030-01-01 00:00:00  Getting Started   Knowledge       2194           False  \n",
            "titanic                                           2030-01-01 00:00:00  Getting Started   Knowledge      16622            True  \n",
            "house-prices-advanced-regression-techniques       2030-01-01 00:00:00  Getting Started   Knowledge       4528            True  \n",
            "connectx                                          2030-01-01 00:00:00  Getting Started   Knowledge        323           False  \n",
            "nlp-getting-started                               2030-01-01 00:00:00  Getting Started       Kudos       3434           False  \n",
            "competitive-data-science-predict-future-sales     2020-12-31 23:59:00  Playground            Kudos       6043           False  \n",
            "m5-forecasting-accuracy                           2020-06-30 23:59:00  Featured            $50,000       1276           False  \n",
            "m5-forecasting-uncertainty                        2020-06-30 23:59:00  Featured            $50,000         61           False  \n",
            "jigsaw-multilingual-toxic-comment-classification  2020-06-22 23:59:00  Featured            $50,000         29           False  \n",
            "tweet-sentiment-extraction                        2020-06-02 23:59:00  Featured            $15,000         21           False  \n",
            "abstraction-and-reasoning-challenge               2020-05-27 23:59:00  Research            $20,000        495           False  \n",
            "imaterialist-fashion-2020-fgvc7                   2020-05-26 23:59:00  Research          Knowledge          1           False  \n",
            "liverpool-ion-switching                           2020-05-25 23:59:00  Research            $25,000       1181           False  \n",
            "flower-classification-with-tpus                   2020-05-11 23:59:00  Playground           Prizes        411           False  \n",
            "iwildcam-2020-fgvc7                               2020-05-11 23:59:00  Research          Knowledge         39           False  \n",
            "herbarium-2020-fgvc7                              2020-05-11 23:59:00  Research          Knowledge         29           False  \n",
            "plant-pathology-2020-fgvc7                        2020-05-11 23:59:00  Research          Knowledge        267           False  \n",
            "march-madness-analytics-2020                      2020-04-30 23:59:00  Analytics           $25,000          0           False  \n",
            "deepfake-detection-challenge                      2020-03-31 23:59:00  Featured         $1,000,000       2202           False  \n",
            "cat-in-the-dat-ii                                 2020-03-31 23:59:00  Playground             Swag       1041           False  \n"
          ],
          "name": "stdout"
        }
      ]
    },
    {
      "cell_type": "code",
      "metadata": {
        "id": "qvs18WvH0xbU",
        "colab_type": "code",
        "colab": {
          "base_uri": "https://localhost:8080/",
          "height": 187
        },
        "outputId": "5fd21160-a4c6-4083-dcd8-79dddaf062e5"
      },
      "source": [
        "!kaggle competitions download 'titanic'"
      ],
      "execution_count": 6,
      "outputs": [
        {
          "output_type": "stream",
          "text": [
            "Warning: Looks like you're using an outdated API Version, please consider updating (server 1.5.6 / client 1.5.4)\n",
            "Downloading test.csv to /content\n",
            "\r  0% 0.00/28.0k [00:00<?, ?B/s]\n",
            "\r100% 28.0k/28.0k [00:00<00:00, 10.9MB/s]\n",
            "Downloading gender_submission.csv to /content\n",
            "\r  0% 0.00/3.18k [00:00<?, ?B/s]\n",
            "\r100% 3.18k/3.18k [00:00<00:00, 3.20MB/s]\n",
            "Downloading train.csv to /content\n",
            "\r  0% 0.00/59.8k [00:00<?, ?B/s]\n",
            "\r100% 59.8k/59.8k [00:00<00:00, 60.1MB/s]\n"
          ],
          "name": "stdout"
        }
      ]
    },
    {
      "cell_type": "code",
      "metadata": {
        "id": "-j1WdH1r0zh5",
        "colab_type": "code",
        "colab": {}
      },
      "source": [
        "!mkdir input"
      ],
      "execution_count": 0,
      "outputs": []
    },
    {
      "cell_type": "code",
      "metadata": {
        "id": "hwg_MKsP0Uik",
        "colab_type": "code",
        "colab": {}
      },
      "source": [
        "!cp /content/train.csv /content/test.csv /content/gender_submission.csv /content/input"
      ],
      "execution_count": 0,
      "outputs": []
    },
    {
      "cell_type": "markdown",
      "metadata": {
        "id": "1XW7TrBx1SdS",
        "colab_type": "text"
      },
      "source": [
        "## F1 스코어 (F1 score)\n",
        "\n",
        "- F1 score는 precision과 recall을 결합한 지표\n",
        "- precision과 recall 값이 어느 한 쪽으로 치우치지 않아야 높은 값이 나옴\n",
        "- F1 = 2 * (precision * recall) / (precision + recall)\n"
      ]
    },
    {
      "cell_type": "code",
      "metadata": {
        "id": "WEjmffR017PK",
        "colab_type": "code",
        "colab": {}
      },
      "source": [
        "import pandas as pd\n",
        "from sklearn.preprocessing import LabelEncoder\n",
        "\n",
        "# Null 처리 함수\n",
        "def fillna(df):\n",
        "  df['Age'].fillna(df['Age'].mean(), inplace=True)\n",
        "  df['Cabin'].fillna('N', inplace=True)\n",
        "  df['Embarked'].fillna('N', inplace=True)\n",
        "  df['Fare'].fillna(0, inplace=True)\n",
        "  return df\n",
        "\n",
        "# 머신러닝 알고리즘에 불필요한 속성 제거\n",
        "def drop_features(df):\n",
        "  df.drop(['PassengerId', 'Name', 'Ticket'], axis=1, inplace=True)\n",
        "  return df\n",
        "\n",
        "# 레이블 인코딩 수행\n",
        "def format_features(df):\n",
        "  df['Cabin'] = df['Cabin'].str[:1]\n",
        "  features = ['Cabin', 'Sex', 'Embarked']\n",
        "  for feature in features:\n",
        "    le = LabelEncoder()\n",
        "    le = le.fit(df[feature])\n",
        "    df[feature] = le.transform(df[feature])\n",
        "\n",
        "  return df\n",
        "\n",
        "# 앞에서 설정한 데이터 전처리 함수 호출\n",
        "def transform_features(df):\n",
        "  df = fillna(df)\n",
        "  df = drop_features(df)\n",
        "  df = format_features(df)\n",
        "  return df"
      ],
      "execution_count": 0,
      "outputs": []
    },
    {
      "cell_type": "code",
      "metadata": {
        "id": "CXV1NGSG2GK0",
        "colab_type": "code",
        "colab": {
          "base_uri": "https://localhost:8080/",
          "height": 153
        },
        "outputId": "81dbc346-89d8-4034-defc-f3c13e60255a"
      },
      "source": [
        "import pandas as pd\n",
        "from sklearn.model_selection import train_test_split\n",
        "from sklearn.linear_model import LogisticRegression\n",
        "\n",
        "# 원본 데이터를 재로딩, 데이터 가공, 학습 데이터/테스트 데이터 분할\n",
        "titanic_df = pd.read_csv('./input/train.csv')\n",
        "y_titanic_df = titanic_df['Survived']\n",
        "X_titanic_df = titanic_df.drop('Survived', axis=1)\n",
        "X_titanic_df = transform_features(X_titanic_df)\n",
        "\n",
        "X_train, X_test, y_train, y_test = train_test_split(X_titanic_df, y_titanic_df,\n",
        "                                                    test_size=.20, random_state=11)\n",
        "lr_clf = LogisticRegression()\n",
        "\n",
        "lr_clf.fit(X_train, y_train)\n",
        "pred = lr_clf.predict(X_test)"
      ],
      "execution_count": 11,
      "outputs": [
        {
          "output_type": "stream",
          "text": [
            "/usr/local/lib/python3.6/dist-packages/sklearn/linear_model/_logistic.py:940: ConvergenceWarning: lbfgs failed to converge (status=1):\n",
            "STOP: TOTAL NO. of ITERATIONS REACHED LIMIT.\n",
            "\n",
            "Increase the number of iterations (max_iter) or scale the data as shown in:\n",
            "    https://scikit-learn.org/stable/modules/preprocessing.html\n",
            "Please also refer to the documentation for alternative solver options:\n",
            "    https://scikit-learn.org/stable/modules/linear_model.html#logistic-regression\n",
            "  extra_warning_msg=_LOGISTIC_SOLVER_CONVERGENCE_MSG)\n"
          ],
          "name": "stderr"
        }
      ]
    },
    {
      "cell_type": "markdown",
      "metadata": {
        "id": "CMgrBECX2aTx",
        "colab_type": "text"
      },
      "source": [
        "- Scikit-learn은 F1 score를 구하는 f1_score() API 제공"
      ]
    },
    {
      "cell_type": "code",
      "metadata": {
        "id": "JH1gAmWo3L3w",
        "colab_type": "code",
        "colab": {
          "base_uri": "https://localhost:8080/",
          "height": 34
        },
        "outputId": "63c32685-1732-440c-f65f-9258cc9283b4"
      },
      "source": [
        "from sklearn.metrics import f1_score\n",
        "\n",
        "f1 = f1_score(y_test, pred)\n",
        "print('F1 스코어: {0:.4f}'.format(f1))"
      ],
      "execution_count": 13,
      "outputs": [
        {
          "output_type": "stream",
          "text": [
            "F1 스코어: 0.7805\n"
          ],
          "name": "stdout"
        }
      ]
    },
    {
      "cell_type": "markdown",
      "metadata": {
        "id": "WfiGwGUS4JuJ",
        "colab_type": "text"
      },
      "source": [
        "- threshold 값을 변화시키면서 F1 score를 포함한 평가 지표 계산"
      ]
    },
    {
      "cell_type": "code",
      "metadata": {
        "id": "T41EWCDy2nuL",
        "colab_type": "code",
        "colab": {}
      },
      "source": [
        "from sklearn.metrics import accuracy_score, precision_score, recall_score, confusion_matrix\n",
        "\n",
        "def get_clf_eval(y_test, pred):\n",
        "  confusion = confusion_matrix(y_test, pred)\n",
        "  accuracy = accuracy_score(y_test, pred)\n",
        "  precision = precision_score(y_test, pred)\n",
        "  recall = recall_score(y_test, pred)\n",
        "  # F1 스코어 추가\n",
        "  f1 = f1_score(y_test, pred)\n",
        "  print('오차 행렬')\n",
        "  print(confusion)\n",
        "  # f1 score print 추가\n",
        "  print('정확도: {0:.4f}, 정밀도: {1:.4f}, 재현율: {2:.4f}, F1: {3:.4f}'.format(accuracy, precision, recall, f1))\n"
      ],
      "execution_count": 0,
      "outputs": []
    },
    {
      "cell_type": "code",
      "metadata": {
        "id": "QjNtYSka4fK1",
        "colab_type": "code",
        "colab": {}
      },
      "source": [
        "from sklearn.preprocessing import Binarizer\n",
        "\n",
        "def get_eval_by_threshold(y_test, pred_proba_c1, thresholds):\n",
        "  # thresholds list 객체 내의 값을 차례로 iteration 하면서 Evaluation 수행\n",
        "  for custom_threshold in thresholds:\n",
        "    binarizer = Binarizer(threshold=custom_threshold).fit(pred_proba_c1)\n",
        "    custom_predict = binarizer.transform(pred_proba_c1)\n",
        "    print('임계값:', custom_threshold)\n",
        "    get_clf_eval(y_test, custom_predict)"
      ],
      "execution_count": 0,
      "outputs": []
    },
    {
      "cell_type": "code",
      "metadata": {
        "id": "CRHpLi5t46wH",
        "colab_type": "code",
        "colab": {
          "base_uri": "https://localhost:8080/",
          "height": 442
        },
        "outputId": "522efb5e-f7e7-44e8-e507-7c6f8d4f97ab"
      },
      "source": [
        "thresholds = [0.4, 0.45, 0.50, 0.55, 0.60]\n",
        "pred_proba = lr_clf.predict_proba(X_test)\n",
        "get_eval_by_threshold(y_test, pred_proba[:, 1].reshape(-1, 1), thresholds)"
      ],
      "execution_count": 21,
      "outputs": [
        {
          "output_type": "stream",
          "text": [
            "임계값: 0.4\n",
            "오차 행렬\n",
            "[[98 20]\n",
            " [10 51]]\n",
            "정확도: 0.8324, 정밀도: 0.7183, 재현율: 0.8361, F1: 0.7727\n",
            "임계값: 0.45\n",
            "오차 행렬\n",
            "[[103  15]\n",
            " [ 12  49]]\n",
            "정확도: 0.8492, 정밀도: 0.7656, 재현율: 0.8033, F1: 0.7840\n",
            "임계값: 0.5\n",
            "오차 행렬\n",
            "[[104  14]\n",
            " [ 13  48]]\n",
            "정확도: 0.8492, 정밀도: 0.7742, 재현율: 0.7869, F1: 0.7805\n",
            "임계값: 0.55\n",
            "오차 행렬\n",
            "[[109   9]\n",
            " [ 15  46]]\n",
            "정확도: 0.8659, 정밀도: 0.8364, 재현율: 0.7541, F1: 0.7931\n",
            "임계값: 0.6\n",
            "오차 행렬\n",
            "[[112   6]\n",
            " [ 16  45]]\n",
            "정확도: 0.8771, 정밀도: 0.8824, 재현율: 0.7377, F1: 0.8036\n"
          ],
          "name": "stdout"
        }
      ]
    }
  ]
}