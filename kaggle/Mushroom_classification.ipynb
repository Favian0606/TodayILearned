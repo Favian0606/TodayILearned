{
  "nbformat": 4,
  "nbformat_minor": 0,
  "metadata": {
    "colab": {
      "name": "Mushroom_classification.ipynb",
      "provenance": [],
      "include_colab_link": true
    },
    "kernelspec": {
      "name": "python3",
      "display_name": "Python 3"
    }
  },
  "cells": [
    {
      "cell_type": "markdown",
      "metadata": {
        "id": "view-in-github",
        "colab_type": "text"
      },
      "source": [
        "<a href=\"https://colab.research.google.com/github/kwanhong66/TodayILearned/blob/master/kaggle/Mushroom_classification.ipynb\" target=\"_parent\"><img src=\"https://colab.research.google.com/assets/colab-badge.svg\" alt=\"Open In Colab\"/></a>"
      ]
    },
    {
      "cell_type": "markdown",
      "metadata": {
        "id": "khD3KOJba9QL",
        "colab_type": "text"
      },
      "source": [
        "## Mushroom Classification\n",
        "- https://www.kaggle.com/uciml/mushroom-classification\n",
        "- Content\n",
        "  - 23 species of mushrooms\n",
        "  - Each species is identified as definitely edible, definitely posionous or of unknown edibility and not recommended(considered as posionous).\n",
        "- Inspiration\n",
        "  - What types of machine learning models perform best on this dataset?\n",
        "  - Which features are most indicative of a poisonous mushroom?"
      ]
    },
    {
      "cell_type": "markdown",
      "metadata": {
        "id": "mqJDWVtCeapB",
        "colab_type": "text"
      },
      "source": [
        "## Import packages"
      ]
    },
    {
      "cell_type": "code",
      "metadata": {
        "id": "8-dWZWYWavzf",
        "colab_type": "code",
        "colab": {}
      },
      "source": [
        "import pandas as pd\n",
        "import numpy as np\n",
        "\n",
        "import matplotlib.pyplot as plt\n",
        "import seaborn as sns\n",
        "\n",
        "import os"
      ],
      "execution_count": 0,
      "outputs": []
    },
    {
      "cell_type": "code",
      "metadata": {
        "id": "FvWrS1VDefwy",
        "colab_type": "code",
        "outputId": "c9eb15af-5321-4bf9-b58a-99d58de0bd0f",
        "colab": {
          "base_uri": "https://localhost:8080/",
          "height": 122
        }
      },
      "source": [
        "# Connect with Google Drive\n",
        "from google.colab import drive\n",
        "drive.mount('/content/drive/')"
      ],
      "execution_count": 0,
      "outputs": [
        {
          "output_type": "stream",
          "text": [
            "Go to this URL in a browser: https://accounts.google.com/o/oauth2/auth?client_id=947318989803-6bn6qk8qdgf4n4g3pfee6491hc0brc4i.apps.googleusercontent.com&redirect_uri=urn%3aietf%3awg%3aoauth%3a2.0%3aoob&response_type=code&scope=email%20https%3a%2f%2fwww.googleapis.com%2fauth%2fdocs.test%20https%3a%2f%2fwww.googleapis.com%2fauth%2fdrive%20https%3a%2f%2fwww.googleapis.com%2fauth%2fdrive.photos.readonly%20https%3a%2f%2fwww.googleapis.com%2fauth%2fpeopleapi.readonly\n",
            "\n",
            "Enter your authorization code:\n",
            "··········\n",
            "Mounted at /content/drive/\n"
          ],
          "name": "stdout"
        }
      ]
    },
    {
      "cell_type": "markdown",
      "metadata": {
        "id": "ug8ZBxcje19f",
        "colab_type": "text"
      },
      "source": [
        "## Load dataset"
      ]
    },
    {
      "cell_type": "code",
      "metadata": {
        "id": "lXDx5b60embs",
        "colab_type": "code",
        "colab": {}
      },
      "source": [
        "data_root_dir = '/content/drive/My Drive/Colab Notebooks/data'\n",
        "mushrooms = pd.read_csv(os.path.join(data_root_dir, 'mushroom_classification/mushrooms.csv'))"
      ],
      "execution_count": 0,
      "outputs": []
    },
    {
      "cell_type": "markdown",
      "metadata": {
        "id": "XJA4Mt34fyQH",
        "colab_type": "text"
      },
      "source": [
        "Mushroom dataset has 8124 rows and 23 columns\n",
        "- First column is class which has two class"
      ]
    },
    {
      "cell_type": "code",
      "metadata": {
        "id": "ohwD7Y9qfw5_",
        "colab_type": "code",
        "outputId": "14fd374e-d0ea-46d1-8312-f56a7b74a8fc",
        "colab": {
          "base_uri": "https://localhost:8080/",
          "height": 34
        }
      },
      "source": [
        "mushrooms.shape"
      ],
      "execution_count": 0,
      "outputs": [
        {
          "output_type": "execute_result",
          "data": {
            "text/plain": [
              "(8124, 23)"
            ]
          },
          "metadata": {
            "tags": []
          },
          "execution_count": 5
        }
      ]
    },
    {
      "cell_type": "markdown",
      "metadata": {
        "id": "Eiu3R65tgB7S",
        "colab_type": "text"
      },
      "source": [
        "This dataset has only categorical features\n",
        "- string values need to be encoded"
      ]
    },
    {
      "cell_type": "code",
      "metadata": {
        "id": "nvDzr_DOfDM1",
        "colab_type": "code",
        "outputId": "9db3a10d-8c89-4406-c7e0-c19fec6c8387",
        "colab": {
          "base_uri": "https://localhost:8080/",
          "height": 275
        }
      },
      "source": [
        "mushrooms.head()"
      ],
      "execution_count": 0,
      "outputs": [
        {
          "output_type": "execute_result",
          "data": {
            "text/html": [
              "<div>\n",
              "<style scoped>\n",
              "    .dataframe tbody tr th:only-of-type {\n",
              "        vertical-align: middle;\n",
              "    }\n",
              "\n",
              "    .dataframe tbody tr th {\n",
              "        vertical-align: top;\n",
              "    }\n",
              "\n",
              "    .dataframe thead th {\n",
              "        text-align: right;\n",
              "    }\n",
              "</style>\n",
              "<table border=\"1\" class=\"dataframe\">\n",
              "  <thead>\n",
              "    <tr style=\"text-align: right;\">\n",
              "      <th></th>\n",
              "      <th>class</th>\n",
              "      <th>cap-shape</th>\n",
              "      <th>cap-surface</th>\n",
              "      <th>cap-color</th>\n",
              "      <th>bruises</th>\n",
              "      <th>odor</th>\n",
              "      <th>gill-attachment</th>\n",
              "      <th>gill-spacing</th>\n",
              "      <th>gill-size</th>\n",
              "      <th>gill-color</th>\n",
              "      <th>stalk-shape</th>\n",
              "      <th>stalk-root</th>\n",
              "      <th>stalk-surface-above-ring</th>\n",
              "      <th>stalk-surface-below-ring</th>\n",
              "      <th>stalk-color-above-ring</th>\n",
              "      <th>stalk-color-below-ring</th>\n",
              "      <th>veil-type</th>\n",
              "      <th>veil-color</th>\n",
              "      <th>ring-number</th>\n",
              "      <th>ring-type</th>\n",
              "      <th>spore-print-color</th>\n",
              "      <th>population</th>\n",
              "      <th>habitat</th>\n",
              "    </tr>\n",
              "  </thead>\n",
              "  <tbody>\n",
              "    <tr>\n",
              "      <th>0</th>\n",
              "      <td>p</td>\n",
              "      <td>x</td>\n",
              "      <td>s</td>\n",
              "      <td>n</td>\n",
              "      <td>t</td>\n",
              "      <td>p</td>\n",
              "      <td>f</td>\n",
              "      <td>c</td>\n",
              "      <td>n</td>\n",
              "      <td>k</td>\n",
              "      <td>e</td>\n",
              "      <td>e</td>\n",
              "      <td>s</td>\n",
              "      <td>s</td>\n",
              "      <td>w</td>\n",
              "      <td>w</td>\n",
              "      <td>p</td>\n",
              "      <td>w</td>\n",
              "      <td>o</td>\n",
              "      <td>p</td>\n",
              "      <td>k</td>\n",
              "      <td>s</td>\n",
              "      <td>u</td>\n",
              "    </tr>\n",
              "    <tr>\n",
              "      <th>1</th>\n",
              "      <td>e</td>\n",
              "      <td>x</td>\n",
              "      <td>s</td>\n",
              "      <td>y</td>\n",
              "      <td>t</td>\n",
              "      <td>a</td>\n",
              "      <td>f</td>\n",
              "      <td>c</td>\n",
              "      <td>b</td>\n",
              "      <td>k</td>\n",
              "      <td>e</td>\n",
              "      <td>c</td>\n",
              "      <td>s</td>\n",
              "      <td>s</td>\n",
              "      <td>w</td>\n",
              "      <td>w</td>\n",
              "      <td>p</td>\n",
              "      <td>w</td>\n",
              "      <td>o</td>\n",
              "      <td>p</td>\n",
              "      <td>n</td>\n",
              "      <td>n</td>\n",
              "      <td>g</td>\n",
              "    </tr>\n",
              "    <tr>\n",
              "      <th>2</th>\n",
              "      <td>e</td>\n",
              "      <td>b</td>\n",
              "      <td>s</td>\n",
              "      <td>w</td>\n",
              "      <td>t</td>\n",
              "      <td>l</td>\n",
              "      <td>f</td>\n",
              "      <td>c</td>\n",
              "      <td>b</td>\n",
              "      <td>n</td>\n",
              "      <td>e</td>\n",
              "      <td>c</td>\n",
              "      <td>s</td>\n",
              "      <td>s</td>\n",
              "      <td>w</td>\n",
              "      <td>w</td>\n",
              "      <td>p</td>\n",
              "      <td>w</td>\n",
              "      <td>o</td>\n",
              "      <td>p</td>\n",
              "      <td>n</td>\n",
              "      <td>n</td>\n",
              "      <td>m</td>\n",
              "    </tr>\n",
              "    <tr>\n",
              "      <th>3</th>\n",
              "      <td>p</td>\n",
              "      <td>x</td>\n",
              "      <td>y</td>\n",
              "      <td>w</td>\n",
              "      <td>t</td>\n",
              "      <td>p</td>\n",
              "      <td>f</td>\n",
              "      <td>c</td>\n",
              "      <td>n</td>\n",
              "      <td>n</td>\n",
              "      <td>e</td>\n",
              "      <td>e</td>\n",
              "      <td>s</td>\n",
              "      <td>s</td>\n",
              "      <td>w</td>\n",
              "      <td>w</td>\n",
              "      <td>p</td>\n",
              "      <td>w</td>\n",
              "      <td>o</td>\n",
              "      <td>p</td>\n",
              "      <td>k</td>\n",
              "      <td>s</td>\n",
              "      <td>u</td>\n",
              "    </tr>\n",
              "    <tr>\n",
              "      <th>4</th>\n",
              "      <td>e</td>\n",
              "      <td>x</td>\n",
              "      <td>s</td>\n",
              "      <td>g</td>\n",
              "      <td>f</td>\n",
              "      <td>n</td>\n",
              "      <td>f</td>\n",
              "      <td>w</td>\n",
              "      <td>b</td>\n",
              "      <td>k</td>\n",
              "      <td>t</td>\n",
              "      <td>e</td>\n",
              "      <td>s</td>\n",
              "      <td>s</td>\n",
              "      <td>w</td>\n",
              "      <td>w</td>\n",
              "      <td>p</td>\n",
              "      <td>w</td>\n",
              "      <td>o</td>\n",
              "      <td>e</td>\n",
              "      <td>n</td>\n",
              "      <td>a</td>\n",
              "      <td>g</td>\n",
              "    </tr>\n",
              "  </tbody>\n",
              "</table>\n",
              "</div>"
            ],
            "text/plain": [
              "  class cap-shape cap-surface  ... spore-print-color population habitat\n",
              "0     p         x           s  ...                 k          s       u\n",
              "1     e         x           s  ...                 n          n       g\n",
              "2     e         b           s  ...                 n          n       m\n",
              "3     p         x           y  ...                 k          s       u\n",
              "4     e         x           s  ...                 n          a       g\n",
              "\n",
              "[5 rows x 23 columns]"
            ]
          },
          "metadata": {
            "tags": []
          },
          "execution_count": 6
        }
      ]
    },
    {
      "cell_type": "code",
      "metadata": {
        "id": "TcXb7wfxglWv",
        "colab_type": "code",
        "outputId": "17e13663-a776-424e-8a05-8f106deb8263",
        "colab": {
          "base_uri": "https://localhost:8080/",
          "height": 425
        }
      },
      "source": [
        "mushrooms.dtypes"
      ],
      "execution_count": 0,
      "outputs": [
        {
          "output_type": "execute_result",
          "data": {
            "text/plain": [
              "class                       object\n",
              "cap-shape                   object\n",
              "cap-surface                 object\n",
              "cap-color                   object\n",
              "bruises                     object\n",
              "odor                        object\n",
              "gill-attachment             object\n",
              "gill-spacing                object\n",
              "gill-size                   object\n",
              "gill-color                  object\n",
              "stalk-shape                 object\n",
              "stalk-root                  object\n",
              "stalk-surface-above-ring    object\n",
              "stalk-surface-below-ring    object\n",
              "stalk-color-above-ring      object\n",
              "stalk-color-below-ring      object\n",
              "veil-type                   object\n",
              "veil-color                  object\n",
              "ring-number                 object\n",
              "ring-type                   object\n",
              "spore-print-color           object\n",
              "population                  object\n",
              "habitat                     object\n",
              "dtype: object"
            ]
          },
          "metadata": {
            "tags": []
          },
          "execution_count": 7
        }
      ]
    },
    {
      "cell_type": "code",
      "metadata": {
        "id": "Krbw7YyLgRVW",
        "colab_type": "code",
        "outputId": "1c75a0f3-c3bf-44ac-ca6b-18e72754a13c",
        "colab": {
          "base_uri": "https://localhost:8080/",
          "height": 493
        }
      },
      "source": [
        "mushrooms.info()"
      ],
      "execution_count": 0,
      "outputs": [
        {
          "output_type": "stream",
          "text": [
            "<class 'pandas.core.frame.DataFrame'>\n",
            "RangeIndex: 8124 entries, 0 to 8123\n",
            "Data columns (total 23 columns):\n",
            "class                       8124 non-null object\n",
            "cap-shape                   8124 non-null object\n",
            "cap-surface                 8124 non-null object\n",
            "cap-color                   8124 non-null object\n",
            "bruises                     8124 non-null object\n",
            "odor                        8124 non-null object\n",
            "gill-attachment             8124 non-null object\n",
            "gill-spacing                8124 non-null object\n",
            "gill-size                   8124 non-null object\n",
            "gill-color                  8124 non-null object\n",
            "stalk-shape                 8124 non-null object\n",
            "stalk-root                  8124 non-null object\n",
            "stalk-surface-above-ring    8124 non-null object\n",
            "stalk-surface-below-ring    8124 non-null object\n",
            "stalk-color-above-ring      8124 non-null object\n",
            "stalk-color-below-ring      8124 non-null object\n",
            "veil-type                   8124 non-null object\n",
            "veil-color                  8124 non-null object\n",
            "ring-number                 8124 non-null object\n",
            "ring-type                   8124 non-null object\n",
            "spore-print-color           8124 non-null object\n",
            "population                  8124 non-null object\n",
            "habitat                     8124 non-null object\n",
            "dtypes: object(23)\n",
            "memory usage: 1.4+ MB\n"
          ],
          "name": "stdout"
        }
      ]
    },
    {
      "cell_type": "code",
      "metadata": {
        "id": "_IZJMPrefGrH",
        "colab_type": "code",
        "outputId": "aec9b255-fb3f-41be-bd93-809be5da7676",
        "colab": {
          "base_uri": "https://localhost:8080/",
          "height": 244
        }
      },
      "source": [
        "mushrooms.describe()"
      ],
      "execution_count": 0,
      "outputs": [
        {
          "output_type": "execute_result",
          "data": {
            "text/html": [
              "<div>\n",
              "<style scoped>\n",
              "    .dataframe tbody tr th:only-of-type {\n",
              "        vertical-align: middle;\n",
              "    }\n",
              "\n",
              "    .dataframe tbody tr th {\n",
              "        vertical-align: top;\n",
              "    }\n",
              "\n",
              "    .dataframe thead th {\n",
              "        text-align: right;\n",
              "    }\n",
              "</style>\n",
              "<table border=\"1\" class=\"dataframe\">\n",
              "  <thead>\n",
              "    <tr style=\"text-align: right;\">\n",
              "      <th></th>\n",
              "      <th>class</th>\n",
              "      <th>cap-shape</th>\n",
              "      <th>cap-surface</th>\n",
              "      <th>cap-color</th>\n",
              "      <th>bruises</th>\n",
              "      <th>odor</th>\n",
              "      <th>gill-attachment</th>\n",
              "      <th>gill-spacing</th>\n",
              "      <th>gill-size</th>\n",
              "      <th>gill-color</th>\n",
              "      <th>stalk-shape</th>\n",
              "      <th>stalk-root</th>\n",
              "      <th>stalk-surface-above-ring</th>\n",
              "      <th>stalk-surface-below-ring</th>\n",
              "      <th>stalk-color-above-ring</th>\n",
              "      <th>stalk-color-below-ring</th>\n",
              "      <th>veil-type</th>\n",
              "      <th>veil-color</th>\n",
              "      <th>ring-number</th>\n",
              "      <th>ring-type</th>\n",
              "      <th>spore-print-color</th>\n",
              "      <th>population</th>\n",
              "      <th>habitat</th>\n",
              "    </tr>\n",
              "  </thead>\n",
              "  <tbody>\n",
              "    <tr>\n",
              "      <th>count</th>\n",
              "      <td>8124</td>\n",
              "      <td>8124</td>\n",
              "      <td>8124</td>\n",
              "      <td>8124</td>\n",
              "      <td>8124</td>\n",
              "      <td>8124</td>\n",
              "      <td>8124</td>\n",
              "      <td>8124</td>\n",
              "      <td>8124</td>\n",
              "      <td>8124</td>\n",
              "      <td>8124</td>\n",
              "      <td>8124</td>\n",
              "      <td>8124</td>\n",
              "      <td>8124</td>\n",
              "      <td>8124</td>\n",
              "      <td>8124</td>\n",
              "      <td>8124</td>\n",
              "      <td>8124</td>\n",
              "      <td>8124</td>\n",
              "      <td>8124</td>\n",
              "      <td>8124</td>\n",
              "      <td>8124</td>\n",
              "      <td>8124</td>\n",
              "    </tr>\n",
              "    <tr>\n",
              "      <th>unique</th>\n",
              "      <td>2</td>\n",
              "      <td>6</td>\n",
              "      <td>4</td>\n",
              "      <td>10</td>\n",
              "      <td>2</td>\n",
              "      <td>9</td>\n",
              "      <td>2</td>\n",
              "      <td>2</td>\n",
              "      <td>2</td>\n",
              "      <td>12</td>\n",
              "      <td>2</td>\n",
              "      <td>5</td>\n",
              "      <td>4</td>\n",
              "      <td>4</td>\n",
              "      <td>9</td>\n",
              "      <td>9</td>\n",
              "      <td>1</td>\n",
              "      <td>4</td>\n",
              "      <td>3</td>\n",
              "      <td>5</td>\n",
              "      <td>9</td>\n",
              "      <td>6</td>\n",
              "      <td>7</td>\n",
              "    </tr>\n",
              "    <tr>\n",
              "      <th>top</th>\n",
              "      <td>e</td>\n",
              "      <td>x</td>\n",
              "      <td>y</td>\n",
              "      <td>n</td>\n",
              "      <td>f</td>\n",
              "      <td>n</td>\n",
              "      <td>f</td>\n",
              "      <td>c</td>\n",
              "      <td>b</td>\n",
              "      <td>b</td>\n",
              "      <td>t</td>\n",
              "      <td>b</td>\n",
              "      <td>s</td>\n",
              "      <td>s</td>\n",
              "      <td>w</td>\n",
              "      <td>w</td>\n",
              "      <td>p</td>\n",
              "      <td>w</td>\n",
              "      <td>o</td>\n",
              "      <td>p</td>\n",
              "      <td>w</td>\n",
              "      <td>v</td>\n",
              "      <td>d</td>\n",
              "    </tr>\n",
              "    <tr>\n",
              "      <th>freq</th>\n",
              "      <td>4208</td>\n",
              "      <td>3656</td>\n",
              "      <td>3244</td>\n",
              "      <td>2284</td>\n",
              "      <td>4748</td>\n",
              "      <td>3528</td>\n",
              "      <td>7914</td>\n",
              "      <td>6812</td>\n",
              "      <td>5612</td>\n",
              "      <td>1728</td>\n",
              "      <td>4608</td>\n",
              "      <td>3776</td>\n",
              "      <td>5176</td>\n",
              "      <td>4936</td>\n",
              "      <td>4464</td>\n",
              "      <td>4384</td>\n",
              "      <td>8124</td>\n",
              "      <td>7924</td>\n",
              "      <td>7488</td>\n",
              "      <td>3968</td>\n",
              "      <td>2388</td>\n",
              "      <td>4040</td>\n",
              "      <td>3148</td>\n",
              "    </tr>\n",
              "  </tbody>\n",
              "</table>\n",
              "</div>"
            ],
            "text/plain": [
              "       class cap-shape cap-surface  ... spore-print-color population habitat\n",
              "count   8124      8124        8124  ...              8124       8124    8124\n",
              "unique     2         6           4  ...                 9          6       7\n",
              "top        e         x           y  ...                 w          v       d\n",
              "freq    4208      3656        3244  ...              2388       4040    3148\n",
              "\n",
              "[4 rows x 23 columns]"
            ]
          },
          "metadata": {
            "tags": []
          },
          "execution_count": 9
        }
      ]
    },
    {
      "cell_type": "markdown",
      "metadata": {
        "id": "lJAnSvosmAKM",
        "colab_type": "text"
      },
      "source": [
        "Checks if there is null values"
      ]
    },
    {
      "cell_type": "code",
      "metadata": {
        "id": "D3JAQ-z4mE16",
        "colab_type": "code",
        "outputId": "cefc74e4-9224-43c4-985e-479a05420540",
        "colab": {
          "base_uri": "https://localhost:8080/",
          "height": 425
        }
      },
      "source": [
        "mushrooms.isnull().sum()"
      ],
      "execution_count": 0,
      "outputs": [
        {
          "output_type": "execute_result",
          "data": {
            "text/plain": [
              "class                       0\n",
              "cap-shape                   0\n",
              "cap-surface                 0\n",
              "cap-color                   0\n",
              "bruises                     0\n",
              "odor                        0\n",
              "gill-attachment             0\n",
              "gill-spacing                0\n",
              "gill-size                   0\n",
              "gill-color                  0\n",
              "stalk-shape                 0\n",
              "stalk-root                  0\n",
              "stalk-surface-above-ring    0\n",
              "stalk-surface-below-ring    0\n",
              "stalk-color-above-ring      0\n",
              "stalk-color-below-ring      0\n",
              "veil-type                   0\n",
              "veil-color                  0\n",
              "ring-number                 0\n",
              "ring-type                   0\n",
              "spore-print-color           0\n",
              "population                  0\n",
              "habitat                     0\n",
              "dtype: int64"
            ]
          },
          "metadata": {
            "tags": []
          },
          "execution_count": 10
        }
      ]
    },
    {
      "cell_type": "markdown",
      "metadata": {
        "id": "nUqYEw5xlrcA",
        "colab_type": "text"
      },
      "source": [
        "## EDA (Exploratory Data Analysis)"
      ]
    },
    {
      "cell_type": "markdown",
      "metadata": {
        "id": "p4Cd4SOXvOJD",
        "colab_type": "text"
      },
      "source": [
        "Visualize the plot of the number of mushrooms for each cap-color"
      ]
    },
    {
      "cell_type": "code",
      "metadata": {
        "id": "vhz_u3UAlxzb",
        "colab_type": "code",
        "outputId": "58d8d64c-3a8a-4159-bcf9-15f5b1adf44b",
        "colab": {
          "base_uri": "https://localhost:8080/",
          "height": 718
        }
      },
      "source": [
        "# draw barplot to display the number of mushrooms for each cap-color\n",
        "cap_colors = mushrooms['cap-color'].value_counts()\n",
        "print(cap_colors)\n",
        "\n",
        "fig, ax = plt.subplots()\n",
        "fig.set_size_inches(15, 8)\n",
        "\n",
        "ax.set_xlabel(\"Cap Color\",fontsize=20)\n",
        "ax.set_ylabel('Quantity',fontsize=20)\n",
        "ax.set_title('Mushroom Cap Color Quantity',fontsize=22)\n",
        "cap_colors.index = ('brown', 'gray','red','yellow','white','buff','pink','cinnamon','purple','green')\n",
        "ax.set_xticklabels(cap_colors.index, fontsize = 12)\n",
        "\n",
        "# ax.set(ylabel='Quantity', title='The number of mushrooms for each cap-color')\n",
        "bp = sns.barplot(y=cap_colors, x=cap_colors.index, ax=ax, palette='Set2')\n",
        "for p, label in zip(bp.patches, mushrooms['cap-color'].value_counts()):\n",
        "    bp.annotate(label, (p.get_x()+0.25, p.get_height()+0.5))"
      ],
      "execution_count": 0,
      "outputs": [
        {
          "output_type": "stream",
          "text": [
            "n    2284\n",
            "g    1840\n",
            "e    1500\n",
            "y    1072\n",
            "w    1040\n",
            "b     168\n",
            "p     144\n",
            "c      44\n",
            "r      16\n",
            "u      16\n",
            "Name: cap-color, dtype: int64\n"
          ],
          "name": "stdout"
        },
        {
          "output_type": "display_data",
          "data": {
            "image/png": "[encoded data removed]",
            "text/plain": [
              "<Figure size 1080x576 with 1 Axes>"
            ]
          },
          "metadata": {
            "tags": []
          }
        }
      ]
    },
    {
      "cell_type": "code",
      "metadata": {
        "id": "GakPSdsitcDo",
        "colab_type": "code",
        "outputId": "0dfb78e7-a206-48f5-c40a-bc33bd4defa0",
        "colab": {
          "base_uri": "https://localhost:8080/",
          "height": 497
        }
      },
      "source": [
        "plt.figure(figsize=(10,8))\n",
        "ax = sns.countplot(mushrooms['cap-color'],\n",
        "              order=mushrooms['cap-color'].value_counts().index)\n",
        "\n",
        "for p, label in zip(ax.patches, mushrooms['cap-color'].value_counts()):\n",
        "    ax.annotate(label, (p.get_x()+0.1, p.get_height()+0.3))"
      ],
      "execution_count": 0,
      "outputs": [
        {
          "output_type": "display_data",
          "data": {
            "image/png": "[encoded data removed]",
            "text/plain": [
              "<Figure size 720x576 with 1 Axes>"
            ]
          },
          "metadata": {
            "tags": []
          }
        }
      ]
    },
    {
      "cell_type": "markdown",
      "metadata": {
        "id": "537T6LUBIKK0",
        "colab_type": "text"
      },
      "source": [
        "Visualize the plot of the number of mushrooms which are edible or posionous based on cap-color"
      ]
    },
    {
      "cell_type": "code",
      "metadata": {
        "id": "xU0kVqsiIZq8",
        "colab_type": "code",
        "outputId": "34ca4c5e-d6a2-4048-d691-22f8df32706f",
        "colab": {
          "base_uri": "https://localhost:8080/",
          "height": 884
        }
      },
      "source": [
        "# poisonous_cc = [] #Poisonous color cap list\n",
        "# edible_cc = []    #Edible color cap list\n",
        "# for capColor in cap_color_labels:\n",
        "#     size = len(mushrooms[mushrooms['cap-color'] == capColor].index)\n",
        "#     edibles = len(mushrooms[(mushrooms['cap-color'] == capColor) & (mushrooms['class'] == 'e')].index)\n",
        "#     edible_cc.append(edibles)\n",
        "#     poisonous_cc.append(size-edibles)\n",
        "\n",
        "edible_cap_colors = mushrooms.loc[mushrooms['class'] == 'e']['cap-color']\n",
        "posionous_cap_colors = mushrooms.loc[mushrooms['class'] == 'p']['cap-color']\n",
        "\n",
        "print(edible_cap_colors.value_counts())\n",
        "print(posionous_cap_colors.value_counts())\n",
        "\n",
        "fig, ax = plt.subplots(figsize=(15,8))\n",
        "ax.set_title('Edible and posionous mushrooms based on cap color', fontsize=20)\n",
        "ax.set_xlabel('Cap Color', fontsize=20)\n",
        "ax.set_ylabel('Count', fontsize=20)\n",
        "\n",
        "cp = sns.countplot(x='cap-color',\n",
        "              data=mushrooms,\n",
        "              hue='class',\n",
        "              hue_order=['e', 'p'],\n",
        "              order=mushrooms['cap-color'].value_counts().index,\n",
        "              palette=['#ffe066', '#be4bdb'],\n",
        "              ax=ax)\n",
        "\n",
        "cp.set_xticklabels(('brown', 'gray','red','yellow','white','buff','pink','cinnamon','purple','green'))\n",
        "cp.legend(('edible', 'posionous'), fontsize=18, loc=1)"
      ],
      "execution_count": 0,
      "outputs": [
        {
          "output_type": "stream",
          "text": [
            "n    1264\n",
            "g    1032\n",
            "w     720\n",
            "e     624\n",
            "y     400\n",
            "p      56\n",
            "b      48\n",
            "c      32\n",
            "r      16\n",
            "u      16\n",
            "Name: cap-color, dtype: int64\n",
            "n    1020\n",
            "e     876\n",
            "g     808\n",
            "y     672\n",
            "w     320\n",
            "b     120\n",
            "p      88\n",
            "c      12\n",
            "Name: cap-color, dtype: int64\n"
          ],
          "name": "stdout"
        },
        {
          "output_type": "execute_result",
          "data": {
            "text/plain": [
              "<matplotlib.legend.Legend at 0x7f95fd2b41d0>"
            ]
          },
          "metadata": {
            "tags": []
          },
          "execution_count": 57
        },
        {
          "output_type": "display_data",
          "data": {
            "image/png": "[encoded data removed]",
            "text/plain": [
              "<Figure size 1080x576 with 1 Axes>"
            ]
          },
          "metadata": {
            "tags": []
          }
        }
      ]
    },
    {
      "cell_type": "markdown",
      "metadata": {
        "id": "dXKw2AljYxEY",
        "colab_type": "text"
      },
      "source": [
        "Visualize the plot of the number of mushrooms for each odor"
      ]
    },
    {
      "cell_type": "code",
      "metadata": {
        "id": "CWeMNuJCZBew",
        "colab_type": "code",
        "outputId": "fb1f4b24-549e-477e-efd1-bf0218f74a8e",
        "colab": {
          "base_uri": "https://localhost:8080/",
          "height": 720
        }
      },
      "source": [
        "odors = mushrooms['odor'].value_counts()\n",
        "print(odors)\n",
        "\n",
        "# fig, ax = plt.subplots(figsize=(15, 8))\n",
        "plt.figure(figsize=(15,8))\n",
        "# ax = sns.barplot(y=odors, x=odors.index, palette='Set2')\n",
        "# https://stackoverflow.com/questions/43585333/seaborn-countplot-set-legend-for-x-values\n",
        "ax = sns.countplot(x='odor',\n",
        "                   data=mushrooms,\n",
        "                   order=odors.index,\n",
        "                   palette='Set2')\n",
        "\n",
        "ax.set_xlabel('Odor', fontsize=20)\n",
        "ax.set_ylabel('Count', fontsize=20)\n",
        "ax.set_title('Mushrooms Odor and Quantity', fontsize=22)\n",
        "\n",
        "ax.set_xticklabels(('none', 'foul','fishy','spicy','almond','anise','pungent','creosote','musty'),\n",
        "                  fontsize = 15)\n",
        "\n",
        "ax.legend(['none: no smell','foul: rotten eggs', 'fishy: fresh fish','spicy: pepper',\n",
        "           'almond: nutlike kernel', 'anise: sweet herbal', 'pungent: vinegar',\n",
        "           'creosote: smoky chimney', 'musty: mold mildew'], fontsize=17)"
      ],
      "execution_count": 0,
      "outputs": [
        {
          "output_type": "stream",
          "text": [
            "n    3528\n",
            "f    2160\n",
            "y     576\n",
            "s     576\n",
            "l     400\n",
            "a     400\n",
            "p     256\n",
            "c     192\n",
            "m      36\n",
            "Name: odor, dtype: int64\n"
          ],
          "name": "stdout"
        },
        {
          "output_type": "execute_result",
          "data": {
            "text/plain": [
              "<matplotlib.legend.Legend at 0x7f95fc2d8da0>"
            ]
          },
          "metadata": {
            "tags": []
          },
          "execution_count": 92
        },
        {
          "output_type": "display_data",
          "data": {
            "image/png": "[encoded data removed]",
            "text/plain": [
              "<Figure size 1080x576 with 1 Axes>"
            ]
          },
          "metadata": {
            "tags": []
          }
        }
      ]
    }
  ]
}