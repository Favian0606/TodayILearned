{
  "nbformat": 4,
  "nbformat_minor": 0,
  "metadata": {
    "colab": {
      "name": "Kaggle_env_setup_test.ipynb",
      "provenance": [],
      "toc_visible": true,
      "include_colab_link": true
    },
    "kernelspec": {
      "name": "python3",
      "display_name": "Python 3"
    }
  },
  "cells": [
    {
      "cell_type": "markdown",
      "metadata": {
        "id": "view-in-github",
        "colab_type": "text"
      },
      "source": [
        "<a href=\"https://colab.research.google.com/github/kwanhong66/TodayILearned/blob/master/kaggle/Kaggle_env_setup_test.ipynb\" target=\"_parent\"><img src=\"https://colab.research.google.com/assets/colab-badge.svg\" alt=\"Open In Colab\"/></a>"
      ]
    },
    {
      "cell_type": "markdown",
      "metadata": {
        "id": "xVe8Jsh2_GGH",
        "colab_type": "text"
      },
      "source": [
        "## Matplotlib 한글폰트 사용\n",
        "- Colab Matplotlib 한글 이슈 관련 페이지 \n",
        "    - https://pinkwink.kr/1255\n",
        "    - https://financedata.github.io/posts/matplotlib-hangul-for-ubuntu-linux.html\n",
        "    - https://matplotlib.org/users/customizing.html\n",
        "    - https://matplotlib.org/api/font_manager_api.html"
      ]
    },
    {
      "cell_type": "markdown",
      "metadata": {
        "id": "tf-lMLOV_K3a",
        "colab_type": "text"
      },
      "source": [
        "### 1. 필요한 패키지 load\n",
        "- 추후, bokeh, seaborn이나 plotly와 같은 다른 visualization 라이브러리 검토\n",
        "- https://plot.ly/python/\n",
        "- https://seaborn.pydata.org/\n",
        "- https://docs.bokeh.org/en/latest/"
      ]
    },
    {
      "cell_type": "code",
      "metadata": {
        "id": "KZb_Ltdz-OJa",
        "colab_type": "code",
        "colab": {}
      },
      "source": [
        "# 그래프를 노트북 안에서 생성\n",
        "%matplotlib inline\n",
        "\n",
        "import matplotlib as mpl\n",
        "import matplotlib.pyplot as plt\n",
        "import matplotlib.font_manager as fm\n",
        "\n",
        "mpl.rcParams['axes.unicode_minus'] = False"
      ],
      "execution_count": 0,
      "outputs": []
    },
    {
      "cell_type": "markdown",
      "metadata": {
        "id": "Aj7aAwB7_q5u",
        "colab_type": "text"
      },
      "source": [
        "### 2. 그래프를 그리기 위한 임의의 데이터 생성"
      ]
    },
    {
      "cell_type": "code",
      "metadata": {
        "id": "Zvu09Lx6_DRg",
        "colab_type": "code",
        "outputId": "a38bdae6-84d5-4d0c-f51b-2c21b4e792ba",
        "colab": {
          "base_uri": "https://localhost:8080/",
          "height": 107
        }
      },
      "source": [
        "import numpy as np\n",
        "\n",
        "# https://docs.scipy.org/doc/numpy-1.15.1/reference/generated/numpy.random.randint.html\n",
        "# Return random integers from the “discrete uniform” distribution of the specified dtype in the “half-open” interval [low, high).\n",
        "# https://docs.scipy.org/doc/numpy/reference/generated/numpy.cumsum.html\n",
        "data = np.random.randint(-100, 100, 50).cumsum()\n",
        "data"
      ],
      "execution_count": 2,
      "outputs": [
        {
          "output_type": "execute_result",
          "data": {
            "text/plain": [
              "array([  -9, -106, -142, -203, -109, -154, -226, -195, -149,  -88,  -35,\n",
              "         23,  115,  186,  198,  142,  214,  151,   53,  127,   64,   97,\n",
              "         49,   59,  -24,  -91,  -67, -141, -223, -167, -222, -268, -175,\n",
              "       -217, -191, -101,  -48, -147,  -77,  -34, -109, -205, -267, -184,\n",
              "       -107,  -80,   15,   30,  111,   28])"
            ]
          },
          "metadata": {
            "tags": []
          },
          "execution_count": 2
        }
      ]
    },
    {
      "cell_type": "markdown",
      "metadata": {
        "id": "_BGIk-62BiEU",
        "colab_type": "text"
      },
      "source": [
        "### 3. 기본 폰트라서 한글이 깨짐"
      ]
    },
    {
      "cell_type": "code",
      "metadata": {
        "id": "0catVGRBBNog",
        "colab_type": "code",
        "outputId": "8e4aa213-7ec6-45ac-9173-e92510545a6d",
        "colab": {
          "base_uri": "https://localhost:8080/",
          "height": 1000
        }
      },
      "source": [
        "plt.plot(range(50), data, 'r')\n",
        "mpl.rcParams['axes.unicode_minus'] = False\n",
        "plt.title('시간별 가격 추이')\n",
        "plt.ylabel('주식 가격')\n",
        "plt.xlabel('시간(분)')"
      ],
      "execution_count": 3,
      "outputs": [
        {
          "output_type": "execute_result",
          "data": {
            "text/plain": [
              "Text(0.5, 0, '시간(분)')"
            ]
          },
          "metadata": {
            "tags": []
          },
          "execution_count": 3
        },
        {
          "output_type": "stream",
          "text": [
            "/usr/local/lib/python3.6/dist-packages/matplotlib/backends/backend_agg.py:211: RuntimeWarning: Glyph 49884 missing from current font.\n",
            "  font.set_text(s, 0.0, flags=flags)\n",
            "/usr/local/lib/python3.6/dist-packages/matplotlib/backends/backend_agg.py:211: RuntimeWarning: Glyph 44036 missing from current font.\n",
            "  font.set_text(s, 0.0, flags=flags)\n",
            "/usr/local/lib/python3.6/dist-packages/matplotlib/backends/backend_agg.py:211: RuntimeWarning: Glyph 48324 missing from current font.\n",
            "  font.set_text(s, 0.0, flags=flags)\n",
            "/usr/local/lib/python3.6/dist-packages/matplotlib/backends/backend_agg.py:211: RuntimeWarning: Glyph 44032 missing from current font.\n",
            "  font.set_text(s, 0.0, flags=flags)\n",
            "/usr/local/lib/python3.6/dist-packages/matplotlib/backends/backend_agg.py:211: RuntimeWarning: Glyph 44201 missing from current font.\n",
            "  font.set_text(s, 0.0, flags=flags)\n",
            "/usr/local/lib/python3.6/dist-packages/matplotlib/backends/backend_agg.py:211: RuntimeWarning: Glyph 52628 missing from current font.\n",
            "  font.set_text(s, 0.0, flags=flags)\n",
            "/usr/local/lib/python3.6/dist-packages/matplotlib/backends/backend_agg.py:211: RuntimeWarning: Glyph 51060 missing from current font.\n",
            "  font.set_text(s, 0.0, flags=flags)\n",
            "/usr/local/lib/python3.6/dist-packages/matplotlib/backends/backend_agg.py:211: RuntimeWarning: Glyph 48516 missing from current font.\n",
            "  font.set_text(s, 0.0, flags=flags)\n",
            "/usr/local/lib/python3.6/dist-packages/matplotlib/backends/backend_agg.py:180: RuntimeWarning: Glyph 49884 missing from current font.\n",
            "  font.set_text(s, 0, flags=flags)\n",
            "/usr/local/lib/python3.6/dist-packages/matplotlib/backends/backend_agg.py:180: RuntimeWarning: Glyph 44036 missing from current font.\n",
            "  font.set_text(s, 0, flags=flags)\n",
            "/usr/local/lib/python3.6/dist-packages/matplotlib/backends/backend_agg.py:180: RuntimeWarning: Glyph 48516 missing from current font.\n",
            "  font.set_text(s, 0, flags=flags)\n",
            "/usr/local/lib/python3.6/dist-packages/matplotlib/backends/backend_agg.py:211: RuntimeWarning: Glyph 51452 missing from current font.\n",
            "  font.set_text(s, 0.0, flags=flags)\n",
            "/usr/local/lib/python3.6/dist-packages/matplotlib/backends/backend_agg.py:211: RuntimeWarning: Glyph 49885 missing from current font.\n",
            "  font.set_text(s, 0.0, flags=flags)\n",
            "/usr/local/lib/python3.6/dist-packages/matplotlib/backends/backend_agg.py:180: RuntimeWarning: Glyph 51452 missing from current font.\n",
            "  font.set_text(s, 0, flags=flags)\n",
            "/usr/local/lib/python3.6/dist-packages/matplotlib/backends/backend_agg.py:180: RuntimeWarning: Glyph 49885 missing from current font.\n",
            "  font.set_text(s, 0, flags=flags)\n",
            "/usr/local/lib/python3.6/dist-packages/matplotlib/backends/backend_agg.py:180: RuntimeWarning: Glyph 44032 missing from current font.\n",
            "  font.set_text(s, 0, flags=flags)\n",
            "/usr/local/lib/python3.6/dist-packages/matplotlib/backends/backend_agg.py:180: RuntimeWarning: Glyph 44201 missing from current font.\n",
            "  font.set_text(s, 0, flags=flags)\n",
            "/usr/local/lib/python3.6/dist-packages/matplotlib/backends/backend_agg.py:180: RuntimeWarning: Glyph 48324 missing from current font.\n",
            "  font.set_text(s, 0, flags=flags)\n",
            "/usr/local/lib/python3.6/dist-packages/matplotlib/backends/backend_agg.py:180: RuntimeWarning: Glyph 52628 missing from current font.\n",
            "  font.set_text(s, 0, flags=flags)\n",
            "/usr/local/lib/python3.6/dist-packages/matplotlib/backends/backend_agg.py:180: RuntimeWarning: Glyph 51060 missing from current font.\n",
            "  font.set_text(s, 0, flags=flags)\n"
          ],
          "name": "stderr"
        },
        {
          "output_type": "display_data",
          "data": {
            "image/png": "[encoded data removed]",
            "text/plain": [
              "<Figure size 432x288 with 1 Axes>"
            ]
          },
          "metadata": {
            "tags": []
          }
        }
      ]
    },
    {
      "cell_type": "markdown",
      "metadata": {
        "id": "xE5CVesPUSVP",
        "colab_type": "text"
      },
      "source": [
        "### 4. Matplotlib 정보 확인"
      ]
    },
    {
      "cell_type": "code",
      "metadata": {
        "id": "Z1UfkbnfUBGQ",
        "colab_type": "code",
        "outputId": "7e33abd2-7a59-4992-a07f-b118f32ff2ce",
        "colab": {
          "base_uri": "https://localhost:8080/",
          "height": 89
        }
      },
      "source": [
        "print(\"Version: {}\".format(mpl.__version__))\n",
        "print(\"Installation location: {}\".format(mpl.__file__))\n",
        "print(\"Setting location: {}\".format(mpl.get_configdir()))\n",
        "print(\"Cache location: {}\".format(mpl.get_cachedir()))"
      ],
      "execution_count": 4,
      "outputs": [
        {
          "output_type": "stream",
          "text": [
            "Version: 3.1.2\n",
            "Installation location: /usr/local/lib/python3.6/dist-packages/matplotlib/__init__.py\n",
            "Setting location: /root/.config/matplotlib\n",
            "Cache location: /root/.cache/matplotlib\n"
          ],
          "name": "stdout"
        }
      ]
    },
    {
      "cell_type": "markdown",
      "metadata": {
        "id": "F7fzJGJXXHNj",
        "colab_type": "text"
      },
      "source": [
        "### 5. 폰트 설치 및 확인"
      ]
    },
    {
      "cell_type": "markdown",
      "metadata": {
        "id": "OplVNH3LVubE",
        "colab_type": "text"
      },
      "source": [
        "- 나눔 폰트 설치"
      ]
    },
    {
      "cell_type": "code",
      "metadata": {
        "id": "3XuH2imgVqRn",
        "colab_type": "code",
        "outputId": "7f4c7c99-f7ce-4769-faf3-e33a4186029f",
        "colab": {
          "base_uri": "https://localhost:8080/",
          "height": 107
        }
      },
      "source": [
        "!apt -qq -y install fonts-nanum"
      ],
      "execution_count": 5,
      "outputs": [
        {
          "output_type": "stream",
          "text": [
            "fonts-nanum is already the newest version (20170925-1).\n",
            "The following package was automatically installed and is no longer required:\n",
            "  libnvidia-common-430\n",
            "Use 'apt autoremove' to remove it.\n",
            "0 upgraded, 0 newly installed, 0 to remove and 7 not upgraded.\n"
          ],
          "name": "stdout"
        }
      ]
    },
    {
      "cell_type": "code",
      "metadata": {
        "id": "OUROAjMDGt7m",
        "colab_type": "code",
        "colab": {}
      },
      "source": [
        "!cp /usr/share/fonts/truetype/nanum/Nanum* /usr/local/lib/python3.6/dist-packages/matplotlib/mpl-data/fonts/ttf/"
      ],
      "execution_count": 0,
      "outputs": []
    },
    {
      "cell_type": "code",
      "metadata": {
        "id": "F7k7IbXhHhQR",
        "colab_type": "code",
        "colab": {
          "base_uri": "https://localhost:8080/",
          "height": 215
        },
        "outputId": "9c99f724-21c2-4ead-e494-2b996658dc90"
      },
      "source": [
        "!ls -l /usr/share/fonts/truetype/nanum/"
      ],
      "execution_count": 7,
      "outputs": [
        {
          "output_type": "stream",
          "text": [
            "total 28836\n",
            "-rw-r--r-- 1 root root 4413912 Dec  3  2017 NanumBarunGothicBold.ttf\n",
            "-rw-r--r-- 1 root root 4184028 Dec  3  2017 NanumBarunGothic.ttf\n",
            "-rw-r--r-- 1 root root 4642244 Dec  3  2017 NanumGothicBold.ttf\n",
            "-rw-r--r-- 1 root root 4691820 Dec  3  2017 NanumGothic.ttf\n",
            "-rw-r--r-- 1 root root 4183592 Dec  3  2017 NanumMyeongjoBold.ttf\n",
            "-rw-r--r-- 1 root root 3839464 Dec  3  2017 NanumMyeongjo.ttf\n",
            "-rw-r--r-- 1 root root  733500 Dec  3  2017 NanumSquareB.ttf\n",
            "-rw-r--r-- 1 root root 1030948 Dec  3  2017 NanumSquareRoundB.ttf\n",
            "-rw-r--r-- 1 root root 1063276 Dec  3  2017 NanumSquareRoundR.ttf\n",
            "-rw-r--r-- 1 root root  723640 Dec  3  2017 NanumSquareR.ttf\n"
          ],
          "name": "stdout"
        }
      ]
    },
    {
      "cell_type": "markdown",
      "metadata": {
        "id": "GInPtDmMWoGR",
        "colab_type": "text"
      },
      "source": [
        "- Nanum이 들어간 폰트 리스트"
      ]
    },
    {
      "cell_type": "code",
      "metadata": {
        "id": "kVGURvIAWSgK",
        "colab_type": "code",
        "outputId": "2d09906d-5c60-4923-bdcf-842454814b77",
        "colab": {
          "base_uri": "https://localhost:8080/",
          "height": 377
        }
      },
      "source": [
        "mpl.font_manager._rebuild()\n",
        "[(f.name, f.fname) for f in fm.fontManager.ttflist if 'Nanum' in f.fname]"
      ],
      "execution_count": 8,
      "outputs": [
        {
          "output_type": "execute_result",
          "data": {
            "text/plain": [
              "[('NanumBarunGothic',\n",
              "  '/usr/local/lib/python3.6/dist-packages/matplotlib/mpl-data/fonts/ttf/NanumBarunGothic.ttf'),\n",
              " ('NanumSquare',\n",
              "  '/usr/local/lib/python3.6/dist-packages/matplotlib/mpl-data/fonts/ttf/NanumSquareR.ttf'),\n",
              " ('NanumMyeongjo',\n",
              "  '/usr/local/lib/python3.6/dist-packages/matplotlib/mpl-data/fonts/ttf/NanumMyeongjoBold.ttf'),\n",
              " ('NanumGothic',\n",
              "  '/usr/local/lib/python3.6/dist-packages/matplotlib/mpl-data/fonts/ttf/NanumGothicBold.ttf'),\n",
              " ('NanumSquare',\n",
              "  '/usr/local/lib/python3.6/dist-packages/matplotlib/mpl-data/fonts/ttf/NanumSquareB.ttf'),\n",
              " ('NanumSquareRound',\n",
              "  '/usr/local/lib/python3.6/dist-packages/matplotlib/mpl-data/fonts/ttf/NanumSquareRoundR.ttf'),\n",
              " ('NanumGothic',\n",
              "  '/usr/local/lib/python3.6/dist-packages/matplotlib/mpl-data/fonts/ttf/NanumGothic.ttf'),\n",
              " ('NanumMyeongjo',\n",
              "  '/usr/local/lib/python3.6/dist-packages/matplotlib/mpl-data/fonts/ttf/NanumMyeongjo.ttf'),\n",
              " ('NanumSquareRound',\n",
              "  '/usr/local/lib/python3.6/dist-packages/matplotlib/mpl-data/fonts/ttf/NanumSquareRoundB.ttf'),\n",
              " ('NanumBarunGothic',\n",
              "  '/usr/local/lib/python3.6/dist-packages/matplotlib/mpl-data/fonts/ttf/NanumBarunGothicBold.ttf')]"
            ]
          },
          "metadata": {
            "tags": []
          },
          "execution_count": 8
        }
      ]
    },
    {
      "cell_type": "markdown",
      "metadata": {
        "id": "iDY5ilbEWCSw",
        "colab_type": "text"
      },
      "source": [
        "### 6. 폰트를 사용하는 방법\n",
        "\n",
        "\n",
        "1. FontProperties를 사용: 그래프의 폰트가 필요한 항목마다 지정\n",
        "2. matplotlib.rcParams으로 전역 폰트 설정: 그래프에 설정\n",
        "3. 2번의 방법을 mpl.matplotlib_fname()로 읽는 설정 파일에 직접 적어주는 방법. 모든 노트북에 적용.\n",
        "\n",
        "\n"
      ]
    },
    {
      "cell_type": "markdown",
      "metadata": {
        "id": "kMxxd8T3cCeK",
        "colab_type": "text"
      },
      "source": [
        "#### 1) FontProperties 사용\n",
        "- 텍스트를 지정해주는 항목에 사용 가능\n",
        "- matplotlib.pyplot\n",
        "    - title\n",
        "    - xlabel\n",
        "    - ylabel\n",
        "    - legend\n",
        "    - text\n",
        "- matplotlib.axes\n",
        "    - set_title"
      ]
    },
    {
      "cell_type": "code",
      "metadata": {
        "id": "ARJCzyxWcbBD",
        "colab_type": "code",
        "outputId": "36794ba8-2df8-4dc9-dbe0-6468747e1e48",
        "colab": {
          "base_uri": "https://localhost:8080/",
          "height": 310
        }
      },
      "source": [
        "# fname 옵션을 사용하는 방법\n",
        "path = '/usr/share/fonts/truetype/nanum/NanumBarunGothic.ttf'\n",
        "fontprop = fm.FontProperties(fname=path, size=18)\n",
        "\n",
        "# text를 지정해주는 항목별로 fontproperties를 적용\n",
        "plt.plot(range(50), data, 'r')\n",
        "plt.title('시간별 가격 추이', fontproperties=fontprop)\n",
        "plt.ylabel('주식 가격', fontproperties=fontprop)\n",
        "plt.xlabel('시간(분)', fontproperties=fontprop)\n",
        "plt.show()"
      ],
      "execution_count": 9,
      "outputs": [
        {
          "output_type": "display_data",
          "data": {
            "image/png": "[encoded data removed]",
            "text/plain": [
              "<Figure size 432x288 with 1 Axes>"
            ]
          },
          "metadata": {
            "tags": []
          }
        }
      ]
    },
    {
      "cell_type": "markdown",
      "metadata": {
        "id": "X0yr7h6-BKcY",
        "colab_type": "text"
      },
      "source": [
        "#### 2) matplotlib.rcParams 전역 폰트 설정"
      ]
    },
    {
      "cell_type": "code",
      "metadata": {
        "id": "2Mdsn6JqBTYL",
        "colab_type": "code",
        "outputId": "9b302e70-7b8f-4528-ffb7-a08a00ab257b",
        "colab": {
          "base_uri": "https://localhost:8080/",
          "height": 89
        }
      },
      "source": [
        "# 기본 설정 읽기\n",
        "import matplotlib.pyplot as plt\n",
        "\n",
        "# size, family\n",
        "print('# 설정 되어있는 폰트 사이즈')\n",
        "print (plt.rcParams['font.size'] ) \n",
        "print('# 설정 되어있는 폰트 글꼴')\n",
        "print (plt.rcParams['font.family'] )"
      ],
      "execution_count": 10,
      "outputs": [
        {
          "output_type": "stream",
          "text": [
            "# 설정 되어있는 폰트 사이즈\n",
            "10.0\n",
            "# 설정 되어있는 폰트 글꼴\n",
            "['sans-serif']\n"
          ],
          "name": "stdout"
        }
      ]
    },
    {
      "cell_type": "code",
      "metadata": {
        "id": "YKOnG4WNB-Xm",
        "colab_type": "code",
        "outputId": "f6a6244c-56de-4a4b-8e9c-6d217717a3f1",
        "colab": {
          "base_uri": "https://localhost:8080/",
          "height": 145
        }
      },
      "source": [
        "# serif, sans-serif, monospace\n",
        "print('serif 세리프가 있는 폰트--------')\n",
        "print(plt.rcParams['font.serif']) \n",
        "print('sans-serif 세리프가 없는 폰트 --------')\n",
        "print(plt.rcParams['font.sans-serif']) \n",
        "print('monospace 고정폭 글꼴--------')\n",
        "print(plt.rcParams['font.monospace'])"
      ],
      "execution_count": 11,
      "outputs": [
        {
          "output_type": "stream",
          "text": [
            "serif 세리프가 있는 폰트--------\n",
            "['DejaVu Serif', 'Bitstream Vera Serif', 'Computer Modern Roman', 'New Century Schoolbook', 'Century Schoolbook L', 'Utopia', 'ITC Bookman', 'Bookman', 'Nimbus Roman No9 L', 'Times New Roman', 'Times', 'Palatino', 'Charter', 'serif']\n",
            "sans-serif 세리프가 없는 폰트 --------\n",
            "['DejaVu Sans', 'Bitstream Vera Sans', 'Computer Modern Sans Serif', 'Lucida Grande', 'Verdana', 'Geneva', 'Lucid', 'Arial', 'Helvetica', 'Avant Garde', 'sans-serif']\n",
            "monospace 고정폭 글꼴--------\n",
            "['DejaVu Sans Mono', 'Bitstream Vera Sans Mono', 'Computer Modern Typewriter', 'Andale Mono', 'Nimbus Mono L', 'Courier New', 'Courier', 'Fixed', 'Terminal', 'monospace']\n"
          ],
          "name": "stdout"
        }
      ]
    },
    {
      "cell_type": "code",
      "metadata": {
        "id": "E0qwyyFiCD7y",
        "colab_type": "code",
        "colab": {}
      },
      "source": [
        "# 전역으로 폰트 설정\n",
        "import matplotlib.pyplot as plt\n",
        "\n",
        "plt.rcParams[\"font.family\"] = 'NanumGothicCoding'\n",
        "plt.rcParams[\"font.size\"] = 20\n",
        "plt.rcParams[\"figure.figsize\"] = (14,4)"
      ],
      "execution_count": 0,
      "outputs": []
    },
    {
      "cell_type": "code",
      "metadata": {
        "id": "3SSyaWNHCKGb",
        "colab_type": "code",
        "outputId": "ba603362-0bf6-47c0-fac3-be34b349786a",
        "colab": {
          "base_uri": "https://localhost:8080/",
          "height": 1000
        }
      },
      "source": [
        "plt.plot(range(50), data, 'r')\n",
        "plt.title('시간별 가격 추이')\n",
        "plt.ylabel('주식 가격')\n",
        "plt.xlabel('시간(분)')\n",
        "plt.style.use('seaborn-pastel')\n",
        "plt.show()"
      ],
      "execution_count": 13,
      "outputs": [
        {
          "output_type": "stream",
          "text": [
            "findfont: Font family ['NanumGothicCoding'] not found. Falling back to DejaVu Sans.\n",
            "/usr/local/lib/python3.6/dist-packages/matplotlib/backends/backend_agg.py:211: RuntimeWarning: Glyph 49884 missing from current font.\n",
            "  font.set_text(s, 0.0, flags=flags)\n",
            "/usr/local/lib/python3.6/dist-packages/matplotlib/backends/backend_agg.py:211: RuntimeWarning: Glyph 44036 missing from current font.\n",
            "  font.set_text(s, 0.0, flags=flags)\n",
            "/usr/local/lib/python3.6/dist-packages/matplotlib/backends/backend_agg.py:211: RuntimeWarning: Glyph 48324 missing from current font.\n",
            "  font.set_text(s, 0.0, flags=flags)\n",
            "/usr/local/lib/python3.6/dist-packages/matplotlib/backends/backend_agg.py:211: RuntimeWarning: Glyph 44032 missing from current font.\n",
            "  font.set_text(s, 0.0, flags=flags)\n",
            "/usr/local/lib/python3.6/dist-packages/matplotlib/backends/backend_agg.py:211: RuntimeWarning: Glyph 44201 missing from current font.\n",
            "  font.set_text(s, 0.0, flags=flags)\n",
            "/usr/local/lib/python3.6/dist-packages/matplotlib/backends/backend_agg.py:211: RuntimeWarning: Glyph 52628 missing from current font.\n",
            "  font.set_text(s, 0.0, flags=flags)\n",
            "/usr/local/lib/python3.6/dist-packages/matplotlib/backends/backend_agg.py:211: RuntimeWarning: Glyph 51060 missing from current font.\n",
            "  font.set_text(s, 0.0, flags=flags)\n",
            "findfont: Font family ['NanumGothicCoding'] not found. Falling back to DejaVu Sans.\n",
            "/usr/local/lib/python3.6/dist-packages/matplotlib/backends/backend_agg.py:211: RuntimeWarning: Glyph 48516 missing from current font.\n",
            "  font.set_text(s, 0.0, flags=flags)\n",
            "/usr/local/lib/python3.6/dist-packages/matplotlib/backends/backend_agg.py:180: RuntimeWarning: Glyph 49884 missing from current font.\n",
            "  font.set_text(s, 0, flags=flags)\n",
            "/usr/local/lib/python3.6/dist-packages/matplotlib/backends/backend_agg.py:180: RuntimeWarning: Glyph 44036 missing from current font.\n",
            "  font.set_text(s, 0, flags=flags)\n",
            "/usr/local/lib/python3.6/dist-packages/matplotlib/backends/backend_agg.py:180: RuntimeWarning: Glyph 48516 missing from current font.\n",
            "  font.set_text(s, 0, flags=flags)\n",
            "/usr/local/lib/python3.6/dist-packages/matplotlib/backends/backend_agg.py:211: RuntimeWarning: Glyph 51452 missing from current font.\n",
            "  font.set_text(s, 0.0, flags=flags)\n",
            "/usr/local/lib/python3.6/dist-packages/matplotlib/backends/backend_agg.py:211: RuntimeWarning: Glyph 49885 missing from current font.\n",
            "  font.set_text(s, 0.0, flags=flags)\n",
            "/usr/local/lib/python3.6/dist-packages/matplotlib/backends/backend_agg.py:180: RuntimeWarning: Glyph 51452 missing from current font.\n",
            "  font.set_text(s, 0, flags=flags)\n",
            "/usr/local/lib/python3.6/dist-packages/matplotlib/backends/backend_agg.py:180: RuntimeWarning: Glyph 49885 missing from current font.\n",
            "  font.set_text(s, 0, flags=flags)\n",
            "/usr/local/lib/python3.6/dist-packages/matplotlib/backends/backend_agg.py:180: RuntimeWarning: Glyph 44032 missing from current font.\n",
            "  font.set_text(s, 0, flags=flags)\n",
            "/usr/local/lib/python3.6/dist-packages/matplotlib/backends/backend_agg.py:180: RuntimeWarning: Glyph 44201 missing from current font.\n",
            "  font.set_text(s, 0, flags=flags)\n",
            "/usr/local/lib/python3.6/dist-packages/matplotlib/backends/backend_agg.py:180: RuntimeWarning: Glyph 48324 missing from current font.\n",
            "  font.set_text(s, 0, flags=flags)\n",
            "/usr/local/lib/python3.6/dist-packages/matplotlib/backends/backend_agg.py:180: RuntimeWarning: Glyph 52628 missing from current font.\n",
            "  font.set_text(s, 0, flags=flags)\n",
            "/usr/local/lib/python3.6/dist-packages/matplotlib/backends/backend_agg.py:180: RuntimeWarning: Glyph 51060 missing from current font.\n",
            "  font.set_text(s, 0, flags=flags)\n"
          ],
          "name": "stderr"
        },
        {
          "output_type": "display_data",
          "data": {
            "image/png": "[encoded data removed]",
            "text/plain": [
              "<Figure size 1008x288 with 1 Axes>"
            ]
          },
          "metadata": {
            "tags": []
          }
        }
      ]
    },
    {
      "cell_type": "markdown",
      "metadata": {
        "id": "xAEzF3AqNq5H",
        "colab_type": "text"
      },
      "source": [
        "- rcParams 대신 FontProperties 와 plt.rc 를 사용하는 방법"
      ]
    },
    {
      "cell_type": "code",
      "metadata": {
        "id": "tuOVrDvSV54X",
        "colab_type": "code",
        "colab": {
          "base_uri": "https://localhost:8080/",
          "height": 329
        },
        "outputId": "5f38290d-603b-450f-ac94-56139ca49f56"
      },
      "source": [
        "fontpath = '/usr/share/fonts/truetype/nanum/NanumBarunGothic.ttf'\n",
        "font = fm.FontProperties(fname=fontpath, size=9)\n",
        "plt.rc('font', family='NanumBarunGothic') \n",
        "mpl.font_manager._rebuild()\n",
        "\n",
        "fig, ax = plt.subplots()\n",
        "ax.plot(data)\n",
        "ax.set_title('시간별 가격 추이')\n",
        "plt.ylabel('주식 가격')\n",
        "plt.xlabel('시간(분)')\n",
        "plt.style.use('ggplot')\n",
        "plt.show()"
      ],
      "execution_count": 14,
      "outputs": [
        {
          "output_type": "display_data",
          "data": {
            "image/png": "[encoded data removed]",
            "text/plain": [
              "<Figure size 1008x288 with 1 Axes>"
            ]
          },
          "metadata": {
            "tags": []
          }
        }
      ]
    },
    {
      "cell_type": "markdown",
      "metadata": {
        "id": "b7KWl49ZN29T",
        "colab_type": "text"
      },
      "source": [
        "#### 3) rcParams 를 설정파일에 직접 적어주는 방법\n",
        "- 모든 노트북에 공통 적용"
      ]
    },
    {
      "cell_type": "code",
      "metadata": {
        "id": "y_nYSatxN44Z",
        "colab_type": "code",
        "colab": {
          "base_uri": "https://localhost:8080/",
          "height": 35
        },
        "outputId": "01ddefcc-5ad8-4322-ba83-4bdbd82840d0"
      },
      "source": [
        "print('Configuration location: ', mpl.matplotlib_fname())"
      ],
      "execution_count": 15,
      "outputs": [
        {
          "output_type": "stream",
          "text": [
            "Configuration location:  /usr/local/lib/python3.6/dist-packages/matplotlib/mpl-data/matplotlibrc\n"
          ],
          "name": "stdout"
        }
      ]
    },
    {
      "cell_type": "code",
      "metadata": {
        "id": "eCECwp82OMOU",
        "colab_type": "code",
        "colab": {
          "base_uri": "https://localhost:8080/",
          "height": 281
        },
        "outputId": "7e65634f-b731-4c53-d6ac-4f0311680fad"
      },
      "source": [
        "fig, ax = plt.subplots()\n",
        "ax.plot(10*np.random.randn(100), 10*np.random.randn(100), 'o')\n",
        "ax.set_title('숫자 분포도 보기')\n",
        "plt.show()"
      ],
      "execution_count": 16,
      "outputs": [
        {
          "output_type": "display_data",
          "data": {
            "image/png": "[encoded data removed]",
            "text/plain": [
              "<Figure size 1008x288 with 1 Axes>"
            ]
          },
          "metadata": {
            "tags": []
          }
        }
      ]
    }
  ]
}