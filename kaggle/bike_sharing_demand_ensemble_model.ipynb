{
  "nbformat": 4,
  "nbformat_minor": 0,
  "metadata": {
    "colab": {
      "name": "bike-sharing-demand-ensemble-model.ipynb",
      "provenance": [],
      "collapsed_sections": [],
      "toc_visible": true,
      "include_colab_link": true
    },
    "kernelspec": {
      "name": "python3",
      "display_name": "Python 3"
    }
  },
  "cells": [
    {
      "cell_type": "markdown",
      "metadata": {
        "id": "view-in-github",
        "colab_type": "text"
      },
      "source": [
        "<a href=\"https://colab.research.google.com/github/kwanhong66/TodayILearned/blob/master/kaggle/bike_sharing_demand_ensemble_model.ipynb\" target=\"_parent\"><img src=\"https://colab.research.google.com/assets/colab-badge.svg\" alt=\"Open In Colab\"/></a>"
      ]
    },
    {
      "cell_type": "markdown",
      "metadata": {
        "id": "kmzloa5T-2xg",
        "colab_type": "text"
      },
      "source": [
        "## Import packages"
      ]
    },
    {
      "cell_type": "code",
      "metadata": {
        "id": "UDNBBMvT-FHP",
        "colab_type": "code",
        "colab": {}
      },
      "source": [
        "import pandas as pd\n",
        "import numpy as np\n",
        "import matplotlib as mpl \n",
        "import matplotlib.pyplot as plt\n",
        "import seaborn as sns\n",
        "from scipy import stats\n",
        "import matplotlib.font_manager as fm\n",
        "\n",
        "import os\n",
        "\n",
        "%matplotlib inline\n",
        "\n",
        "# ggplot style 격자로 숫자 범위가 잘 보이기 위해\n",
        "plt.style.use('ggplot')\n",
        "\n",
        "# minus 글씨 깨지는 문제\n",
        "mpl.rcParams['axes.unicode_minus'] = False"
      ],
      "execution_count": 0,
      "outputs": []
    },
    {
      "cell_type": "code",
      "metadata": {
        "id": "cFxHkIeG_BAk",
        "colab_type": "code",
        "outputId": "d34c3503-f91e-42c1-a4e4-d926f1ab9f33",
        "colab": {
          "base_uri": "https://localhost:8080/",
          "height": 122
        }
      },
      "source": [
        "# Connect with Google Drive\n",
        "from google.colab import drive\n",
        "drive.mount('/content/drive/')"
      ],
      "execution_count": 0,
      "outputs": [
        {
          "output_type": "stream",
          "text": [
            "Go to this URL in a browser: https://accounts.google.com/o/oauth2/auth?client_id=947318989803-6bn6qk8qdgf4n4g3pfee6491hc0brc4i.apps.googleusercontent.com&redirect_uri=urn%3aietf%3awg%3aoauth%3a2.0%3aoob&response_type=code&scope=email%20https%3a%2f%2fwww.googleapis.com%2fauth%2fdocs.test%20https%3a%2f%2fwww.googleapis.com%2fauth%2fdrive%20https%3a%2f%2fwww.googleapis.com%2fauth%2fdrive.photos.readonly%20https%3a%2f%2fwww.googleapis.com%2fauth%2fpeopleapi.readonly\n",
            "\n",
            "Enter your authorization code:\n",
            "··········\n",
            "Mounted at /content/drive/\n"
          ],
          "name": "stdout"
        }
      ]
    },
    {
      "cell_type": "markdown",
      "metadata": {
        "id": "6tWiqCLH_5Qd",
        "colab_type": "text"
      },
      "source": [
        "## Load dataset"
      ]
    },
    {
      "cell_type": "code",
      "metadata": {
        "id": "h545eKD4_jBU",
        "colab_type": "code",
        "outputId": "3dafdd8f-76fc-48dd-8ec9-72761bdfb44b",
        "colab": {
          "base_uri": "https://localhost:8080/",
          "height": 34
        }
      },
      "source": [
        "data_root_dir = '/content/drive/My Drive/Colab Notebooks/data'\n",
        "train = pd.read_csv(os.path.join(data_root_dir, 'bike-sharing-demand/train.csv'), parse_dates=['datetime'])\n",
        "train.shape"
      ],
      "execution_count": 0,
      "outputs": [
        {
          "output_type": "execute_result",
          "data": {
            "text/plain": [
              "(10886, 12)"
            ]
          },
          "metadata": {
            "tags": []
          },
          "execution_count": 3
        }
      ]
    },
    {
      "cell_type": "code",
      "metadata": {
        "id": "iUD0MPhz_l5Y",
        "colab_type": "code",
        "outputId": "9d596675-026a-459a-ff7a-801c3fa6b11c",
        "colab": {
          "base_uri": "https://localhost:8080/",
          "height": 34
        }
      },
      "source": [
        "test = pd.read_csv(os.path.join(data_root_dir, 'bike-sharing-demand/test.csv'), parse_dates=[\"datetime\"])\n",
        "test.shape"
      ],
      "execution_count": 0,
      "outputs": [
        {
          "output_type": "execute_result",
          "data": {
            "text/plain": [
              "(6493, 9)"
            ]
          },
          "metadata": {
            "tags": []
          },
          "execution_count": 5
        }
      ]
    },
    {
      "cell_type": "markdown",
      "metadata": {
        "id": "A3ehl4Wo_7xa",
        "colab_type": "text"
      },
      "source": [
        "## Feature engineering"
      ]
    },
    {
      "cell_type": "code",
      "metadata": {
        "id": "tg_VL-Ov_2-j",
        "colab_type": "code",
        "outputId": "39d152aa-7208-4173-8894-793febf7bec2",
        "colab": {
          "base_uri": "https://localhost:8080/",
          "height": 34
        }
      },
      "source": [
        "train['year'] = train['datetime'].dt.year\n",
        "train['month'] = train['datetime'].dt.month\n",
        "train['day'] = train['datetime'].dt.day\n",
        "train['hour'] = train['datetime'].dt.hour\n",
        "train['minute'] = train['datetime'].dt.minute\n",
        "train['second'] = train['datetime'].dt.second\n",
        "train['dayofweek'] = train['datetime'].dt.dayofweek\n",
        "train.shape"
      ],
      "execution_count": 0,
      "outputs": [
        {
          "output_type": "execute_result",
          "data": {
            "text/plain": [
              "(10886, 19)"
            ]
          },
          "metadata": {
            "tags": []
          },
          "execution_count": 6
        }
      ]
    },
    {
      "cell_type": "code",
      "metadata": {
        "id": "xyihpaehB15F",
        "colab_type": "code",
        "outputId": "cf918631-293b-46fd-fe09-759bb7364b18",
        "colab": {
          "base_uri": "https://localhost:8080/",
          "height": 34
        }
      },
      "source": [
        "test['year'] = test['datetime'].dt.year\n",
        "test['month'] = test['datetime'].dt.month\n",
        "test['day'] = test['datetime'].dt.day\n",
        "test['hour'] = test['datetime'].dt.hour\n",
        "test['minute'] = test['datetime'].dt.minute\n",
        "test['second'] = test['datetime'].dt.second\n",
        "test['dayofweek'] = test['datetime'].dt.dayofweek\n",
        "test.shape"
      ],
      "execution_count": 0,
      "outputs": [
        {
          "output_type": "execute_result",
          "data": {
            "text/plain": [
              "(6493, 16)"
            ]
          },
          "metadata": {
            "tags": []
          },
          "execution_count": 8
        }
      ]
    },
    {
      "cell_type": "code",
      "metadata": {
        "id": "0TWeXinCB-ok",
        "colab_type": "code",
        "outputId": "41f6a1b0-9f44-45f0-c05a-d037b5dc2bb2",
        "colab": {
          "base_uri": "https://localhost:8080/",
          "height": 717
        }
      },
      "source": [
        "fig, axes = plt.subplots(nrows=2)\n",
        "fig.set_size_inches(18, 10)\n",
        "\n",
        "plt.sca(axes[0])\n",
        "plt.xticks(rotation=30, ha='right')\n",
        "axes[0].set(ylabel='Count', title='train windspeed')\n",
        "sns.countplot(data=train, x='windspeed', ax=axes[0])\n",
        "\n",
        "plt.sca(axes[1]) # set current axe; sca\n",
        "plt.xticks(rotation=30, ha='right')\n",
        "axes[1].set(ylabel='Count', title='test windspeed')\n",
        "sns.countplot(data=test, x='windspeed', ax=axes[1])"
      ],
      "execution_count": 0,
      "outputs": [
        {
          "output_type": "execute_result",
          "data": {
            "text/plain": [
              "<matplotlib.axes._subplots.AxesSubplot at 0x7f5ec12c1128>"
            ]
          },
          "metadata": {
            "tags": []
          },
          "execution_count": 9
        },
        {
          "output_type": "display_data",
          "data": {
            "image/png": "[encoded data removed]",
            "text/plain": [
              "<Figure size 1296x720 with 2 Axes>"
            ]
          },
          "metadata": {
            "tags": []
          }
        }
      ]
    },
    {
      "cell_type": "code",
      "metadata": {
        "id": "_TzfV2KIC_tN",
        "colab_type": "code",
        "outputId": "1e0f4a4d-7967-4a0d-ddd7-fca0e2081d26",
        "colab": {
          "base_uri": "https://localhost:8080/",
          "height": 934
        }
      },
      "source": [
        "print(len(train['windspeed']))\n",
        "windspeed_count = pd.DataFrame(train['windspeed'].value_counts())\n",
        "windspeed_percent = pd.DataFrame(train['windspeed'].value_counts(normalize=True))\n",
        "windspeed_df = windspeed_count.merge(windspeed_percent, left_index=True, right_index=True)\n",
        "windspeed_df.columns = ['windspeed', 'percent']\n",
        "windspeed_df"
      ],
      "execution_count": 0,
      "outputs": [
        {
          "output_type": "stream",
          "text": [
            "10886\n"
          ],
          "name": "stdout"
        },
        {
          "output_type": "execute_result",
          "data": {
            "text/html": [
              "<div>\n",
              "<style scoped>\n",
              "    .dataframe tbody tr th:only-of-type {\n",
              "        vertical-align: middle;\n",
              "    }\n",
              "\n",
              "    .dataframe tbody tr th {\n",
              "        vertical-align: top;\n",
              "    }\n",
              "\n",
              "    .dataframe thead th {\n",
              "        text-align: right;\n",
              "    }\n",
              "</style>\n",
              "<table border=\"1\" class=\"dataframe\">\n",
              "  <thead>\n",
              "    <tr style=\"text-align: right;\">\n",
              "      <th></th>\n",
              "      <th>windspeed</th>\n",
              "      <th>percent</th>\n",
              "    </tr>\n",
              "  </thead>\n",
              "  <tbody>\n",
              "    <tr>\n",
              "      <th>0.0000</th>\n",
              "      <td>1313</td>\n",
              "      <td>0.120614</td>\n",
              "    </tr>\n",
              "    <tr>\n",
              "      <th>8.9981</th>\n",
              "      <td>1120</td>\n",
              "      <td>0.102884</td>\n",
              "    </tr>\n",
              "    <tr>\n",
              "      <th>11.0014</th>\n",
              "      <td>1057</td>\n",
              "      <td>0.097097</td>\n",
              "    </tr>\n",
              "    <tr>\n",
              "      <th>12.9980</th>\n",
              "      <td>1042</td>\n",
              "      <td>0.095719</td>\n",
              "    </tr>\n",
              "    <tr>\n",
              "      <th>7.0015</th>\n",
              "      <td>1034</td>\n",
              "      <td>0.094984</td>\n",
              "    </tr>\n",
              "    <tr>\n",
              "      <th>15.0013</th>\n",
              "      <td>961</td>\n",
              "      <td>0.088279</td>\n",
              "    </tr>\n",
              "    <tr>\n",
              "      <th>6.0032</th>\n",
              "      <td>872</td>\n",
              "      <td>0.080103</td>\n",
              "    </tr>\n",
              "    <tr>\n",
              "      <th>16.9979</th>\n",
              "      <td>824</td>\n",
              "      <td>0.075694</td>\n",
              "    </tr>\n",
              "    <tr>\n",
              "      <th>19.0012</th>\n",
              "      <td>676</td>\n",
              "      <td>0.062098</td>\n",
              "    </tr>\n",
              "    <tr>\n",
              "      <th>19.9995</th>\n",
              "      <td>492</td>\n",
              "      <td>0.045196</td>\n",
              "    </tr>\n",
              "    <tr>\n",
              "      <th>22.0028</th>\n",
              "      <td>372</td>\n",
              "      <td>0.034172</td>\n",
              "    </tr>\n",
              "    <tr>\n",
              "      <th>23.9994</th>\n",
              "      <td>274</td>\n",
              "      <td>0.025170</td>\n",
              "    </tr>\n",
              "    <tr>\n",
              "      <th>26.0027</th>\n",
              "      <td>235</td>\n",
              "      <td>0.021587</td>\n",
              "    </tr>\n",
              "    <tr>\n",
              "      <th>27.9993</th>\n",
              "      <td>187</td>\n",
              "      <td>0.017178</td>\n",
              "    </tr>\n",
              "    <tr>\n",
              "      <th>30.0026</th>\n",
              "      <td>111</td>\n",
              "      <td>0.010197</td>\n",
              "    </tr>\n",
              "    <tr>\n",
              "      <th>31.0009</th>\n",
              "      <td>89</td>\n",
              "      <td>0.008176</td>\n",
              "    </tr>\n",
              "    <tr>\n",
              "      <th>32.9975</th>\n",
              "      <td>80</td>\n",
              "      <td>0.007349</td>\n",
              "    </tr>\n",
              "    <tr>\n",
              "      <th>35.0008</th>\n",
              "      <td>58</td>\n",
              "      <td>0.005328</td>\n",
              "    </tr>\n",
              "    <tr>\n",
              "      <th>39.0007</th>\n",
              "      <td>27</td>\n",
              "      <td>0.002480</td>\n",
              "    </tr>\n",
              "    <tr>\n",
              "      <th>36.9974</th>\n",
              "      <td>22</td>\n",
              "      <td>0.002021</td>\n",
              "    </tr>\n",
              "    <tr>\n",
              "      <th>43.0006</th>\n",
              "      <td>12</td>\n",
              "      <td>0.001102</td>\n",
              "    </tr>\n",
              "    <tr>\n",
              "      <th>40.9973</th>\n",
              "      <td>11</td>\n",
              "      <td>0.001010</td>\n",
              "    </tr>\n",
              "    <tr>\n",
              "      <th>43.9989</th>\n",
              "      <td>8</td>\n",
              "      <td>0.000735</td>\n",
              "    </tr>\n",
              "    <tr>\n",
              "      <th>46.0022</th>\n",
              "      <td>3</td>\n",
              "      <td>0.000276</td>\n",
              "    </tr>\n",
              "    <tr>\n",
              "      <th>56.9969</th>\n",
              "      <td>2</td>\n",
              "      <td>0.000184</td>\n",
              "    </tr>\n",
              "    <tr>\n",
              "      <th>47.9988</th>\n",
              "      <td>2</td>\n",
              "      <td>0.000184</td>\n",
              "    </tr>\n",
              "    <tr>\n",
              "      <th>50.0021</th>\n",
              "      <td>1</td>\n",
              "      <td>0.000092</td>\n",
              "    </tr>\n",
              "    <tr>\n",
              "      <th>51.9987</th>\n",
              "      <td>1</td>\n",
              "      <td>0.000092</td>\n",
              "    </tr>\n",
              "  </tbody>\n",
              "</table>\n",
              "</div>"
            ],
            "text/plain": [
              "         windspeed   percent\n",
              "0.0000        1313  0.120614\n",
              "8.9981        1120  0.102884\n",
              "11.0014       1057  0.097097\n",
              "12.9980       1042  0.095719\n",
              "7.0015        1034  0.094984\n",
              "15.0013        961  0.088279\n",
              "6.0032         872  0.080103\n",
              "16.9979        824  0.075694\n",
              "19.0012        676  0.062098\n",
              "19.9995        492  0.045196\n",
              "22.0028        372  0.034172\n",
              "23.9994        274  0.025170\n",
              "26.0027        235  0.021587\n",
              "27.9993        187  0.017178\n",
              "30.0026        111  0.010197\n",
              "31.0009         89  0.008176\n",
              "32.9975         80  0.007349\n",
              "35.0008         58  0.005328\n",
              "39.0007         27  0.002480\n",
              "36.9974         22  0.002021\n",
              "43.0006         12  0.001102\n",
              "40.9973         11  0.001010\n",
              "43.9989          8  0.000735\n",
              "46.0022          3  0.000276\n",
              "56.9969          2  0.000184\n",
              "47.9988          2  0.000184\n",
              "50.0021          1  0.000092\n",
              "51.9987          1  0.000092"
            ]
          },
          "metadata": {
            "tags": []
          },
          "execution_count": 10
        }
      ]
    },
    {
      "cell_type": "code",
      "metadata": {
        "id": "flP-glLFGBQw",
        "colab_type": "code",
        "colab": {}
      },
      "source": [
        "# 풍속이 0인 값을 어떻게 처리할 것인가\n",
        "# https://pandas.pydata.org/pandas-docs/stable/reference/api/pandas.DataFrame.loc.html\n",
        "# train.loc[train['windspeed'] == 0, \"windspeed\"] = train['windspeed'].mean()\n",
        "# test.loc[test['windspeed'] == 0, \"windspeed\"] == train['windspeed'].mean()"
      ],
      "execution_count": 0,
      "outputs": []
    },
    {
      "cell_type": "code",
      "metadata": {
        "id": "9ltz4wbwG5e2",
        "colab_type": "code",
        "outputId": "a739bbad-4d22-47cb-a16f-023434a1f92f",
        "colab": {
          "base_uri": "https://localhost:8080/",
          "height": 51
        }
      },
      "source": [
        "# windspeed 0 기준 분리\n",
        "trainWind0 = train.loc[train['windspeed'] == 0]\n",
        "trainWindNot0 = train.loc[train['windspeed'] != 0]\n",
        "print(trainWind0.shape)\n",
        "print(trainWindNot0.shape)"
      ],
      "execution_count": 0,
      "outputs": [
        {
          "output_type": "stream",
          "text": [
            "(1313, 19)\n",
            "(9573, 19)\n"
          ],
          "name": "stdout"
        }
      ]
    },
    {
      "cell_type": "code",
      "metadata": {
        "id": "0-6RCsghH2Xu",
        "colab_type": "code",
        "colab": {}
      },
      "source": [
        "# predict windspeed with ml\n",
        "from sklearn.ensemble import RandomForestClassifier\n",
        "\n",
        "def predict_windspeed(data):\n",
        "  \n",
        "  # split set by windspeed zero\n",
        "  dataWind0 = data.loc[data['windspeed'] == 0]\n",
        "  dataWindNot0 = data.loc[data['windspeed'] != 0]\n",
        "\n",
        "  # features to predict windspeed\n",
        "  wCol = ['season', 'weather', 'humidity', 'month', 'temp', 'year', 'atemp']\n",
        "\n",
        "  # not zero\n",
        "  dataWindNot0['windspeed'] = dataWindNot0['windspeed'].astype('str')\n",
        "\n",
        "  rfModel_wind = RandomForestClassifier()\n",
        "\n",
        "  # fitting model\n",
        "  rfModel_wind.fit(dataWindNot0[wCol], dataWindNot0['windspeed'])\n",
        "\n",
        "  wind0Values = rfModel_wind.predict(X=dataWind0[wCol])\n",
        "\n",
        "  predictWind0 = dataWind0\n",
        "  predictWindNot0 = dataWindNot0\n",
        "\n",
        "  # insert predicted value into windspeed\n",
        "  predictWind0['windspeed'] = wind0Values\n",
        "\n",
        "  data = predictWindNot0.append(predictWind0)\n",
        "\n",
        "  data['windspeed'] = data['windspeed'].astype('float')\n",
        "\n",
        "  data.reset_index(inplace=True)\n",
        "  data.drop('index', inplace=True, axis=1)\n",
        "\n",
        "  return data"
      ],
      "execution_count": 0,
      "outputs": []
    },
    {
      "cell_type": "code",
      "metadata": {
        "id": "Two7ijhnLlFf",
        "colab_type": "code",
        "outputId": "d0092d77-b82a-4c96-f605-28bbe9b48ebc",
        "colab": {
          "base_uri": "https://localhost:8080/",
          "height": 685
        }
      },
      "source": [
        "# predict zero value\n",
        "train = predict_windspeed(train)\n",
        "\n",
        "fig, ax1 = plt.subplots()\n",
        "fig.set_size_inches(18, 6)\n",
        "\n",
        "plt.sca(ax1)\n",
        "plt.xticks(rotation=30, ha='right')\n",
        "ax1.set(ylabel='Count', title='train windspeed')\n",
        "sns.countplot(data=train, x='windspeed', ax=ax1)"
      ],
      "execution_count": 0,
      "outputs": [
        {
          "output_type": "stream",
          "text": [
            "/usr/local/lib/python3.6/dist-packages/ipykernel_launcher.py:13: SettingWithCopyWarning: \n",
            "A value is trying to be set on a copy of a slice from a DataFrame.\n",
            "Try using .loc[row_indexer,col_indexer] = value instead\n",
            "\n",
            "See the caveats in the documentation: http://pandas.pydata.org/pandas-docs/stable/user_guide/indexing.html#returning-a-view-versus-a-copy\n",
            "  del sys.path[0]\n",
            "/usr/local/lib/python3.6/dist-packages/sklearn/ensemble/forest.py:245: FutureWarning: The default value of n_estimators will change from 10 in version 0.20 to 100 in 0.22.\n",
            "  \"10 in version 0.20 to 100 in 0.22.\", FutureWarning)\n",
            "/usr/local/lib/python3.6/dist-packages/ipykernel_launcher.py:26: SettingWithCopyWarning: \n",
            "A value is trying to be set on a copy of a slice from a DataFrame.\n",
            "Try using .loc[row_indexer,col_indexer] = value instead\n",
            "\n",
            "See the caveats in the documentation: http://pandas.pydata.org/pandas-docs/stable/user_guide/indexing.html#returning-a-view-versus-a-copy\n"
          ],
          "name": "stderr"
        },
        {
          "output_type": "execute_result",
          "data": {
            "text/plain": [
              "<matplotlib.axes._subplots.AxesSubplot at 0x7f5eb8ecbba8>"
            ]
          },
          "metadata": {
            "tags": []
          },
          "execution_count": 13
        },
        {
          "output_type": "display_data",
          "data": {
            "image/png": "[encoded data removed]",
            "text/plain": [
              "<Figure size 1296x432 with 1 Axes>"
            ]
          },
          "metadata": {
            "tags": []
          }
        }
      ]
    },
    {
      "cell_type": "markdown",
      "metadata": {
        "id": "ptOgMGFnM9N2",
        "colab_type": "text"
      },
      "source": [
        "## Feature selection"
      ]
    },
    {
      "cell_type": "code",
      "metadata": {
        "id": "YvHfyxKPM580",
        "colab_type": "code",
        "colab": {}
      },
      "source": [
        "# 연속형, 범주형\n",
        "# 연속형 ['temp', 'humidity', 'windspeed', 'atemp']\n",
        "# 범주형 feature (0,1,2...)를 카테고리로 변경\n",
        "categorical_feature_names = ['season', 'holiday', 'workingday', 'weather',\n",
        "                             'dayofweek', 'month', 'year', 'hour']\n",
        "\n",
        "for var in categorical_feature_names:\n",
        "  train[var] = train[var].astype('category')\n",
        "  test[var] = test[var].astype('category')"
      ],
      "execution_count": 0,
      "outputs": []
    },
    {
      "cell_type": "code",
      "metadata": {
        "id": "vXnjsmzeNqqT",
        "colab_type": "code",
        "outputId": "16a85ae5-8800-4f35-9294-a00ebf97c496",
        "colab": {
          "base_uri": "https://localhost:8080/",
          "height": 204
        }
      },
      "source": [
        "feature_names = ['season', 'weather', 'temp', 'atemp', 'humidity', 'windspeed',\n",
        "                 'year', 'hour', 'dayofweek', 'holiday', 'workingday']\n",
        "feature_names                 "
      ],
      "execution_count": 0,
      "outputs": [
        {
          "output_type": "execute_result",
          "data": {
            "text/plain": [
              "['season',\n",
              " 'weather',\n",
              " 'temp',\n",
              " 'atemp',\n",
              " 'humidity',\n",
              " 'windspeed',\n",
              " 'year',\n",
              " 'hour',\n",
              " 'dayofweek',\n",
              " 'holiday',\n",
              " 'workingday']"
            ]
          },
          "metadata": {
            "tags": []
          },
          "execution_count": 15
        }
      ]
    },
    {
      "cell_type": "code",
      "metadata": {
        "id": "WZWxFPIlN9dM",
        "colab_type": "code",
        "outputId": "27fbcd25-eb1e-4e72-b6ac-4ad57b968fa9",
        "colab": {
          "base_uri": "https://localhost:8080/",
          "height": 221
        }
      },
      "source": [
        "X_train = train[feature_names]\n",
        "\n",
        "print(X_train.shape)\n",
        "X_train.head()"
      ],
      "execution_count": 0,
      "outputs": [
        {
          "output_type": "stream",
          "text": [
            "(10886, 11)\n"
          ],
          "name": "stdout"
        },
        {
          "output_type": "execute_result",
          "data": {
            "text/html": [
              "<div>\n",
              "<style scoped>\n",
              "    .dataframe tbody tr th:only-of-type {\n",
              "        vertical-align: middle;\n",
              "    }\n",
              "\n",
              "    .dataframe tbody tr th {\n",
              "        vertical-align: top;\n",
              "    }\n",
              "\n",
              "    .dataframe thead th {\n",
              "        text-align: right;\n",
              "    }\n",
              "</style>\n",
              "<table border=\"1\" class=\"dataframe\">\n",
              "  <thead>\n",
              "    <tr style=\"text-align: right;\">\n",
              "      <th></th>\n",
              "      <th>season</th>\n",
              "      <th>weather</th>\n",
              "      <th>temp</th>\n",
              "      <th>atemp</th>\n",
              "      <th>humidity</th>\n",
              "      <th>windspeed</th>\n",
              "      <th>year</th>\n",
              "      <th>hour</th>\n",
              "      <th>dayofweek</th>\n",
              "      <th>holiday</th>\n",
              "      <th>workingday</th>\n",
              "    </tr>\n",
              "  </thead>\n",
              "  <tbody>\n",
              "    <tr>\n",
              "      <th>0</th>\n",
              "      <td>1</td>\n",
              "      <td>2</td>\n",
              "      <td>9.84</td>\n",
              "      <td>12.880</td>\n",
              "      <td>75</td>\n",
              "      <td>6.0032</td>\n",
              "      <td>2011</td>\n",
              "      <td>5</td>\n",
              "      <td>5</td>\n",
              "      <td>0</td>\n",
              "      <td>0</td>\n",
              "    </tr>\n",
              "    <tr>\n",
              "      <th>1</th>\n",
              "      <td>1</td>\n",
              "      <td>1</td>\n",
              "      <td>15.58</td>\n",
              "      <td>19.695</td>\n",
              "      <td>76</td>\n",
              "      <td>16.9979</td>\n",
              "      <td>2011</td>\n",
              "      <td>10</td>\n",
              "      <td>5</td>\n",
              "      <td>0</td>\n",
              "      <td>0</td>\n",
              "    </tr>\n",
              "    <tr>\n",
              "      <th>2</th>\n",
              "      <td>1</td>\n",
              "      <td>1</td>\n",
              "      <td>14.76</td>\n",
              "      <td>16.665</td>\n",
              "      <td>81</td>\n",
              "      <td>19.0012</td>\n",
              "      <td>2011</td>\n",
              "      <td>11</td>\n",
              "      <td>5</td>\n",
              "      <td>0</td>\n",
              "      <td>0</td>\n",
              "    </tr>\n",
              "    <tr>\n",
              "      <th>3</th>\n",
              "      <td>1</td>\n",
              "      <td>1</td>\n",
              "      <td>17.22</td>\n",
              "      <td>21.210</td>\n",
              "      <td>77</td>\n",
              "      <td>19.0012</td>\n",
              "      <td>2011</td>\n",
              "      <td>12</td>\n",
              "      <td>5</td>\n",
              "      <td>0</td>\n",
              "      <td>0</td>\n",
              "    </tr>\n",
              "    <tr>\n",
              "      <th>4</th>\n",
              "      <td>1</td>\n",
              "      <td>2</td>\n",
              "      <td>18.86</td>\n",
              "      <td>22.725</td>\n",
              "      <td>72</td>\n",
              "      <td>19.9995</td>\n",
              "      <td>2011</td>\n",
              "      <td>13</td>\n",
              "      <td>5</td>\n",
              "      <td>0</td>\n",
              "      <td>0</td>\n",
              "    </tr>\n",
              "  </tbody>\n",
              "</table>\n",
              "</div>"
            ],
            "text/plain": [
              "  season weather   temp   atemp  ...  hour  dayofweek holiday workingday\n",
              "0      1       2   9.84  12.880  ...     5          5       0          0\n",
              "1      1       1  15.58  19.695  ...    10          5       0          0\n",
              "2      1       1  14.76  16.665  ...    11          5       0          0\n",
              "3      1       1  17.22  21.210  ...    12          5       0          0\n",
              "4      1       2  18.86  22.725  ...    13          5       0          0\n",
              "\n",
              "[5 rows x 11 columns]"
            ]
          },
          "metadata": {
            "tags": []
          },
          "execution_count": 16
        }
      ]
    },
    {
      "cell_type": "code",
      "metadata": {
        "id": "o7VTMMyMOG09",
        "colab_type": "code",
        "outputId": "2aaded0a-fe7b-4026-a03e-d745eecb9457",
        "colab": {
          "base_uri": "https://localhost:8080/",
          "height": 221
        }
      },
      "source": [
        "X_test = test[feature_names]\n",
        "\n",
        "print(X_test.shape)\n",
        "X_test.head()"
      ],
      "execution_count": 0,
      "outputs": [
        {
          "output_type": "stream",
          "text": [
            "(6493, 11)\n"
          ],
          "name": "stdout"
        },
        {
          "output_type": "execute_result",
          "data": {
            "text/html": [
              "<div>\n",
              "<style scoped>\n",
              "    .dataframe tbody tr th:only-of-type {\n",
              "        vertical-align: middle;\n",
              "    }\n",
              "\n",
              "    .dataframe tbody tr th {\n",
              "        vertical-align: top;\n",
              "    }\n",
              "\n",
              "    .dataframe thead th {\n",
              "        text-align: right;\n",
              "    }\n",
              "</style>\n",
              "<table border=\"1\" class=\"dataframe\">\n",
              "  <thead>\n",
              "    <tr style=\"text-align: right;\">\n",
              "      <th></th>\n",
              "      <th>season</th>\n",
              "      <th>weather</th>\n",
              "      <th>temp</th>\n",
              "      <th>atemp</th>\n",
              "      <th>humidity</th>\n",
              "      <th>windspeed</th>\n",
              "      <th>year</th>\n",
              "      <th>hour</th>\n",
              "      <th>dayofweek</th>\n",
              "      <th>holiday</th>\n",
              "      <th>workingday</th>\n",
              "    </tr>\n",
              "  </thead>\n",
              "  <tbody>\n",
              "    <tr>\n",
              "      <th>0</th>\n",
              "      <td>1</td>\n",
              "      <td>1</td>\n",
              "      <td>10.66</td>\n",
              "      <td>11.365</td>\n",
              "      <td>56</td>\n",
              "      <td>26.0027</td>\n",
              "      <td>2011</td>\n",
              "      <td>0</td>\n",
              "      <td>3</td>\n",
              "      <td>0</td>\n",
              "      <td>1</td>\n",
              "    </tr>\n",
              "    <tr>\n",
              "      <th>1</th>\n",
              "      <td>1</td>\n",
              "      <td>1</td>\n",
              "      <td>10.66</td>\n",
              "      <td>13.635</td>\n",
              "      <td>56</td>\n",
              "      <td>0.0000</td>\n",
              "      <td>2011</td>\n",
              "      <td>1</td>\n",
              "      <td>3</td>\n",
              "      <td>0</td>\n",
              "      <td>1</td>\n",
              "    </tr>\n",
              "    <tr>\n",
              "      <th>2</th>\n",
              "      <td>1</td>\n",
              "      <td>1</td>\n",
              "      <td>10.66</td>\n",
              "      <td>13.635</td>\n",
              "      <td>56</td>\n",
              "      <td>0.0000</td>\n",
              "      <td>2011</td>\n",
              "      <td>2</td>\n",
              "      <td>3</td>\n",
              "      <td>0</td>\n",
              "      <td>1</td>\n",
              "    </tr>\n",
              "    <tr>\n",
              "      <th>3</th>\n",
              "      <td>1</td>\n",
              "      <td>1</td>\n",
              "      <td>10.66</td>\n",
              "      <td>12.880</td>\n",
              "      <td>56</td>\n",
              "      <td>11.0014</td>\n",
              "      <td>2011</td>\n",
              "      <td>3</td>\n",
              "      <td>3</td>\n",
              "      <td>0</td>\n",
              "      <td>1</td>\n",
              "    </tr>\n",
              "    <tr>\n",
              "      <th>4</th>\n",
              "      <td>1</td>\n",
              "      <td>1</td>\n",
              "      <td>10.66</td>\n",
              "      <td>12.880</td>\n",
              "      <td>56</td>\n",
              "      <td>11.0014</td>\n",
              "      <td>2011</td>\n",
              "      <td>4</td>\n",
              "      <td>3</td>\n",
              "      <td>0</td>\n",
              "      <td>1</td>\n",
              "    </tr>\n",
              "  </tbody>\n",
              "</table>\n",
              "</div>"
            ],
            "text/plain": [
              "  season weather   temp   atemp  ...  hour  dayofweek holiday workingday\n",
              "0      1       1  10.66  11.365  ...     0          3       0          1\n",
              "1      1       1  10.66  13.635  ...     1          3       0          1\n",
              "2      1       1  10.66  13.635  ...     2          3       0          1\n",
              "3      1       1  10.66  12.880  ...     3          3       0          1\n",
              "4      1       1  10.66  12.880  ...     4          3       0          1\n",
              "\n",
              "[5 rows x 11 columns]"
            ]
          },
          "metadata": {
            "tags": []
          },
          "execution_count": 17
        }
      ]
    },
    {
      "cell_type": "code",
      "metadata": {
        "id": "Oni65ITVOTcV",
        "colab_type": "code",
        "outputId": "84315724-14c8-4fc3-895f-04cd194406c0",
        "colab": {
          "base_uri": "https://localhost:8080/",
          "height": 136
        }
      },
      "source": [
        "# target label\n",
        "label_name = 'count'\n",
        "\n",
        "y_train = train[label_name]\n",
        "\n",
        "print(y_train.shape)\n",
        "y_train.head()"
      ],
      "execution_count": 0,
      "outputs": [
        {
          "output_type": "stream",
          "text": [
            "(10886,)\n"
          ],
          "name": "stdout"
        },
        {
          "output_type": "execute_result",
          "data": {
            "text/plain": [
              "0     1\n",
              "1    36\n",
              "2    56\n",
              "3    84\n",
              "4    94\n",
              "Name: count, dtype: int64"
            ]
          },
          "metadata": {
            "tags": []
          },
          "execution_count": 18
        }
      ]
    },
    {
      "cell_type": "markdown",
      "metadata": {
        "id": "lcDAX4E-O2YP",
        "colab_type": "text"
      },
      "source": [
        "## Score\n",
        "- RMSLE (Root Mean Squared Log Error)\n",
        "- https://www.slideshare.net/KhorSoonHin/rmsle-cost-function"
      ]
    },
    {
      "cell_type": "code",
      "metadata": {
        "id": "t4RlhH3hOhkF",
        "colab_type": "code",
        "outputId": "3e5c053e-7df0-434d-b1dd-649cb3063a28",
        "colab": {
          "base_uri": "https://localhost:8080/",
          "height": 34
        }
      },
      "source": [
        "from sklearn.metrics import make_scorer\n",
        "\n",
        "def rmsle(predicted_values, actual_values, convertExp=True):\n",
        "\n",
        "  if convertExp:\n",
        "    predicted_values = np.exp(predicted_values),\n",
        "    actual_values = np.exp(actual_values)\n",
        "\n",
        "  # convert into numpy array\n",
        "  predicted_values = np.array(predicted_values)\n",
        "  actual_values = np.array(actual_values)\n",
        "\n",
        "  log_predict = np.log(predicted_values) + 1\n",
        "  log_actual = np.log(actual_values) + 1\n",
        "\n",
        "  diff = log_predict - log_actual\n",
        "  diff = np.square(diff)\n",
        "\n",
        "  mean_diff = diff.mean()\n",
        "\n",
        "  score = np.sqrt(mean_diff)\n",
        "\n",
        "  return score\n",
        "\n",
        "rmsle_scorer = make_scorer(rmsle)\n",
        "rmsle_scorer"
      ],
      "execution_count": 0,
      "outputs": [
        {
          "output_type": "execute_result",
          "data": {
            "text/plain": [
              "make_scorer(rmsle)"
            ]
          },
          "metadata": {
            "tags": []
          },
          "execution_count": 19
        }
      ]
    },
    {
      "cell_type": "markdown",
      "metadata": {
        "id": "jDPsewP3UMzG",
        "colab_type": "text"
      },
      "source": [
        "## Linear Regression Model\n",
        "- 선형회귀 모델은 훈련 세트의 타겟 y와 예측 값의 잔차를 최소화하는 방향으로 학습된다.\n",
        "- 평균제곱오차(Mean Squared Error; MSE)를 최소화하는 y=Wx+b의 파라미터를 찾는다.\n",
        "- 일반 선형회귀 모델은 종속변수(y)의 실제값과 모델의 예측값 사이의 평균제곱오차(Mean Square Error)를 최소화하는 회귀계수들의 집합을 가리킨다."
      ]
    },
    {
      "cell_type": "code",
      "metadata": {
        "id": "tMKQckbSURfx",
        "colab_type": "code",
        "outputId": "1919c53e-f1f8-4877-af2a-576b1e2760d6",
        "colab": {
          "base_uri": "https://localhost:8080/",
          "height": 34
        }
      },
      "source": [
        "from sklearn.linear_model import LinearRegression\n",
        "\n",
        "# LinearRegressiom model init\n",
        "linear_model = LinearRegression()\n",
        "\n",
        "# Model training\n",
        "# https://stackoverflow.com/questions/28239980/log-transform-dependent-variable-for-regression-tree\n",
        "# https://stats.stackexchange.com/questions/107610/what-is-the-reason-the-log-transformation-is-used-with-right-skewed-distribution\n",
        "# log transformation of right-skewed distribution (positive)\n",
        "y_train_log = np.log1p(y_train)\n",
        "linear_model.fit(X_train, y_train_log)\n",
        "\n",
        "preds = linear_model.predict(X_train)\n",
        "print(\"RMSLE Value For Linear Regression: \",\n",
        "      rmsle(np.exp(y_train_log), np.exp(preds), False))\n"
      ],
      "execution_count": 0,
      "outputs": [
        {
          "output_type": "stream",
          "text": [
            "RMSLE Value For Linear Regression:  1.0178460904368634\n"
          ],
          "name": "stdout"
        }
      ]
    },
    {
      "cell_type": "markdown",
      "metadata": {
        "id": "THp1Fsgwezw9",
        "colab_type": "text"
      },
      "source": [
        "## Regularization model - Ridge\n",
        "- Regularized Linear Regression\n",
        "- Regularized Method, Penalized Method, Contrained Least Squares\n",
        "- 선형회귀 계수(Weight)에 제약을 주어, over-fitting을 막고 일반화 성능을 높이는 방법\n",
        "  - Ridge 회귀모형\n",
        "  - Lasso 회귀모형\n",
        "  - Elastic Net 회귀모형\n",
        "- https://brunch.co.kr/@itschloe1/11\n",
        "- https://ratsgo.github.io/machine%20learning/2017/05/22/RLR/\n",
        "  - https://dailyheumsi.tistory.com/57\n",
        "- https://datascienceschool.net/view-notebook/83d5e4fff7d64cb2aecfd7e42e1ece5e/"
      ]
    },
    {
      "cell_type": "code",
      "metadata": {
        "id": "PkBXWMG9ezM6",
        "colab_type": "code",
        "outputId": "6c3708b6-6735-49aa-b433-ceecc9c0c54f",
        "colab": {
          "base_uri": "https://localhost:8080/",
          "height": 496
        }
      },
      "source": [
        "from sklearn.linear_model import Ridge\n",
        "from sklearn.model_selection import GridSearchCV\n",
        "\n",
        "# Ridge model use case\n",
        "# https://greatjoy.tistory.com/60\n",
        "# https://towardsdatascience.com/ridge-and-lasso-regression-a-complete-guide-with-python-scikit-learn-e20e34bcbf0b\n",
        "# https://www.kaggle.com/jasonbenner/ridge-regression-cv-tutorial\n",
        "# https://alfurka.github.io/2018-11-18-grid-search/\n",
        "ridge_model = Ridge()\n",
        "ridge_params = {'max_iter':[3000],\n",
        "                'alpha':[0.01, 0.1, 1, 2, 3, 4, 10, 30,100,200,300,400,800,900,1000] \n",
        "               }\n",
        "rmsle_scorer = make_scorer(rmsle, greater_is_better=False)      \n",
        "grid_ridge_m = GridSearchCV(ridge_model,\n",
        "                            ridge_params,\n",
        "                            scoring = rmsle_scorer,\n",
        "                            cv=5)\n",
        "\n",
        "y_train_log = np.log1p(y_train)\n",
        "grid_ridge_m.fit( X_train, y_train_log )\n",
        "preds = grid_ridge_m.predict(X_train)\n",
        "print (grid_ridge_m.best_params_)\n",
        "print (\"RMSLE Value For Ridge Regression: \", rmsle(np.exp(y_train_log),np.exp(preds), False))\n",
        "\n",
        "df = pd.DataFrame(grid_ridge_m.cv_results_)\n",
        "df.head()"
      ],
      "execution_count": 0,
      "outputs": [
        {
          "output_type": "stream",
          "text": [
            "{'alpha': 0.01, 'max_iter': 3000}\n",
            "RMSLE Value For Ridge Regression:  1.0178460904372175\n"
          ],
          "name": "stdout"
        },
        {
          "output_type": "execute_result",
          "data": {
            "text/html": [
              "<div>\n",
              "<style scoped>\n",
              "    .dataframe tbody tr th:only-of-type {\n",
              "        vertical-align: middle;\n",
              "    }\n",
              "\n",
              "    .dataframe tbody tr th {\n",
              "        vertical-align: top;\n",
              "    }\n",
              "\n",
              "    .dataframe thead th {\n",
              "        text-align: right;\n",
              "    }\n",
              "</style>\n",
              "<table border=\"1\" class=\"dataframe\">\n",
              "  <thead>\n",
              "    <tr style=\"text-align: right;\">\n",
              "      <th></th>\n",
              "      <th>mean_fit_time</th>\n",
              "      <th>std_fit_time</th>\n",
              "      <th>mean_score_time</th>\n",
              "      <th>std_score_time</th>\n",
              "      <th>param_alpha</th>\n",
              "      <th>param_max_iter</th>\n",
              "      <th>params</th>\n",
              "      <th>split0_test_score</th>\n",
              "      <th>split1_test_score</th>\n",
              "      <th>split2_test_score</th>\n",
              "      <th>split3_test_score</th>\n",
              "      <th>split4_test_score</th>\n",
              "      <th>mean_test_score</th>\n",
              "      <th>std_test_score</th>\n",
              "      <th>rank_test_score</th>\n",
              "    </tr>\n",
              "  </thead>\n",
              "  <tbody>\n",
              "    <tr>\n",
              "      <th>0</th>\n",
              "      <td>0.018535</td>\n",
              "      <td>0.000530</td>\n",
              "      <td>0.007101</td>\n",
              "      <td>0.000107</td>\n",
              "      <td>0.01</td>\n",
              "      <td>3000</td>\n",
              "      <td>{'alpha': 0.01, 'max_iter': 3000}</td>\n",
              "      <td>-1.050086</td>\n",
              "      <td>-0.929753</td>\n",
              "      <td>-1.094168</td>\n",
              "      <td>-0.985979</td>\n",
              "      <td>-1.074842</td>\n",
              "      <td>-1.026968</td>\n",
              "      <td>0.060781</td>\n",
              "      <td>1</td>\n",
              "    </tr>\n",
              "    <tr>\n",
              "      <th>1</th>\n",
              "      <td>0.018145</td>\n",
              "      <td>0.000339</td>\n",
              "      <td>0.007163</td>\n",
              "      <td>0.000314</td>\n",
              "      <td>0.1</td>\n",
              "      <td>3000</td>\n",
              "      <td>{'alpha': 0.1, 'max_iter': 3000}</td>\n",
              "      <td>-1.050088</td>\n",
              "      <td>-0.929753</td>\n",
              "      <td>-1.094170</td>\n",
              "      <td>-0.985976</td>\n",
              "      <td>-1.074843</td>\n",
              "      <td>-1.026968</td>\n",
              "      <td>0.060782</td>\n",
              "      <td>2</td>\n",
              "    </tr>\n",
              "    <tr>\n",
              "      <th>2</th>\n",
              "      <td>0.019050</td>\n",
              "      <td>0.000534</td>\n",
              "      <td>0.007112</td>\n",
              "      <td>0.000156</td>\n",
              "      <td>1</td>\n",
              "      <td>3000</td>\n",
              "      <td>{'alpha': 1, 'max_iter': 3000}</td>\n",
              "      <td>-1.050113</td>\n",
              "      <td>-0.929749</td>\n",
              "      <td>-1.094181</td>\n",
              "      <td>-0.985946</td>\n",
              "      <td>-1.074848</td>\n",
              "      <td>-1.026970</td>\n",
              "      <td>0.060792</td>\n",
              "      <td>3</td>\n",
              "    </tr>\n",
              "    <tr>\n",
              "      <th>3</th>\n",
              "      <td>0.019231</td>\n",
              "      <td>0.000528</td>\n",
              "      <td>0.007330</td>\n",
              "      <td>0.000200</td>\n",
              "      <td>2</td>\n",
              "      <td>3000</td>\n",
              "      <td>{'alpha': 2, 'max_iter': 3000}</td>\n",
              "      <td>-1.050140</td>\n",
              "      <td>-0.929745</td>\n",
              "      <td>-1.094193</td>\n",
              "      <td>-0.985914</td>\n",
              "      <td>-1.074855</td>\n",
              "      <td>-1.026972</td>\n",
              "      <td>0.060804</td>\n",
              "      <td>4</td>\n",
              "    </tr>\n",
              "    <tr>\n",
              "      <th>4</th>\n",
              "      <td>0.018979</td>\n",
              "      <td>0.000643</td>\n",
              "      <td>0.007245</td>\n",
              "      <td>0.000213</td>\n",
              "      <td>3</td>\n",
              "      <td>3000</td>\n",
              "      <td>{'alpha': 3, 'max_iter': 3000}</td>\n",
              "      <td>-1.050167</td>\n",
              "      <td>-0.929742</td>\n",
              "      <td>-1.094206</td>\n",
              "      <td>-0.985881</td>\n",
              "      <td>-1.074861</td>\n",
              "      <td>-1.026973</td>\n",
              "      <td>0.060815</td>\n",
              "      <td>5</td>\n",
              "    </tr>\n",
              "  </tbody>\n",
              "</table>\n",
              "</div>"
            ],
            "text/plain": [
              "   mean_fit_time  std_fit_time  ...  std_test_score  rank_test_score\n",
              "0       0.018535      0.000530  ...        0.060781                1\n",
              "1       0.018145      0.000339  ...        0.060782                2\n",
              "2       0.019050      0.000534  ...        0.060792                3\n",
              "3       0.019231      0.000528  ...        0.060804                4\n",
              "4       0.018979      0.000643  ...        0.060815                5\n",
              "\n",
              "[5 rows x 15 columns]"
            ]
          },
          "metadata": {
            "tags": []
          },
          "execution_count": 25
        }
      ]
    },
    {
      "cell_type": "code",
      "metadata": {
        "id": "YAD3jlD5lzZg",
        "colab_type": "code",
        "outputId": "7f761c2d-78f8-4acd-f443-0c675b0c7231",
        "colab": {
          "base_uri": "https://localhost:8080/",
          "height": 204
        }
      },
      "source": [
        "df[\"alpha\"] = df[\"params\"].apply(lambda x:x[\"alpha\"])\n",
        "df[\"rmsle\"] = df[\"mean_test_score\"].apply(lambda x:-x)\n",
        "df[[\"alpha\", \"rmsle\"]].head()"
      ],
      "execution_count": 0,
      "outputs": [
        {
          "output_type": "execute_result",
          "data": {
            "text/html": [
              "<div>\n",
              "<style scoped>\n",
              "    .dataframe tbody tr th:only-of-type {\n",
              "        vertical-align: middle;\n",
              "    }\n",
              "\n",
              "    .dataframe tbody tr th {\n",
              "        vertical-align: top;\n",
              "    }\n",
              "\n",
              "    .dataframe thead th {\n",
              "        text-align: right;\n",
              "    }\n",
              "</style>\n",
              "<table border=\"1\" class=\"dataframe\">\n",
              "  <thead>\n",
              "    <tr style=\"text-align: right;\">\n",
              "      <th></th>\n",
              "      <th>alpha</th>\n",
              "      <th>rmsle</th>\n",
              "    </tr>\n",
              "  </thead>\n",
              "  <tbody>\n",
              "    <tr>\n",
              "      <th>0</th>\n",
              "      <td>0.01</td>\n",
              "      <td>1.026968</td>\n",
              "    </tr>\n",
              "    <tr>\n",
              "      <th>1</th>\n",
              "      <td>0.10</td>\n",
              "      <td>1.026968</td>\n",
              "    </tr>\n",
              "    <tr>\n",
              "      <th>2</th>\n",
              "      <td>1.00</td>\n",
              "      <td>1.026970</td>\n",
              "    </tr>\n",
              "    <tr>\n",
              "      <th>3</th>\n",
              "      <td>2.00</td>\n",
              "      <td>1.026972</td>\n",
              "    </tr>\n",
              "    <tr>\n",
              "      <th>4</th>\n",
              "      <td>3.00</td>\n",
              "      <td>1.026973</td>\n",
              "    </tr>\n",
              "  </tbody>\n",
              "</table>\n",
              "</div>"
            ],
            "text/plain": [
              "   alpha     rmsle\n",
              "0   0.01  1.026968\n",
              "1   0.10  1.026968\n",
              "2   1.00  1.026970\n",
              "3   2.00  1.026972\n",
              "4   3.00  1.026973"
            ]
          },
          "metadata": {
            "tags": []
          },
          "execution_count": 22
        }
      ]
    },
    {
      "cell_type": "code",
      "metadata": {
        "id": "x6CMSeV3ye3x",
        "colab_type": "code",
        "outputId": "70eb63ea-48db-4526-b72a-11bcbda06a33",
        "colab": {
          "base_uri": "https://localhost:8080/",
          "height": 370
        }
      },
      "source": [
        "fig, ax = plt.subplots()\n",
        "fig.set_size_inches(12,5)\n",
        "plt.xticks(rotation=30, ha='right')\n",
        "sns.pointplot(data=df, x='alpha', y='rmsle', ax=ax)"
      ],
      "execution_count": 0,
      "outputs": [
        {
          "output_type": "execute_result",
          "data": {
            "text/plain": [
              "<matplotlib.axes._subplots.AxesSubplot at 0x7f5eb387a710>"
            ]
          },
          "metadata": {
            "tags": []
          },
          "execution_count": 23
        },
        {
          "output_type": "display_data",
          "data": {
            "image/png": "[encoded data removed]",
            "text/plain": [
              "<Figure size 864x360 with 1 Axes>"
            ]
          },
          "metadata": {
            "tags": []
          }
        }
      ]
    },
    {
      "cell_type": "markdown",
      "metadata": {
        "id": "VwX7ZVD9z16C",
        "colab_type": "text"
      },
      "source": [
        "## Regularization model - Lasso\n",
        "- 선형회귀의 regularization을 적용\n",
        "- 계수를 0에 가깝게 규제 (L1 regularization)\n",
        "- 0이 되면 해당 feature는 반영되지 않음\n",
        "- alpha의 기본값은 1.0으로 underfitting을 줄이기 위해 alpha 감소"
      ]
    },
    {
      "cell_type": "code",
      "metadata": {
        "id": "feF4fWCp0YAH",
        "colab_type": "code",
        "outputId": "bfbcba32-25a8-4295-f95e-61de093d0cd9",
        "colab": {
          "base_uri": "https://localhost:8080/",
          "height": 238
        }
      },
      "source": [
        "from sklearn.linear_model import Lasso\n",
        "\n",
        "lasso_model = Lasso()\n",
        "\n",
        "alpha =  1/np.array([0.1, 1, 2, 3, 4, 10, 30, 100, 200, 300, 400, 800, 900, 1000])\n",
        "lasso_params = {'max_iter':[3000], 'alpha': alpha}\n",
        "\n",
        "grid_lasso_m = GridSearchCV(lasso_model, lasso_params, scoring=rmsle_scorer, cv=5)\n",
        "y_train_log = np.log1p(y_train)\n",
        "grid_lasso_m.fit(X_train, y_train_log)\n",
        "preds = grid_lasso_m.predict(X_train)\n",
        "print(grid_lasso_m.best_params_)\n",
        "print(\"RMSLE Value For Lasso Regression: \", rmsle(np.exp(y_train_log), np.exp(preds), False))\n",
        "\n",
        "df = pd.DataFrame(grid_lasso_m.cv_results_)\n",
        "df['alpha'] = df['params'].apply(lambda x:x['alpha'])\n",
        "df['rmsle'] = df['mean_test_score'].apply(lambda x:-x)\n",
        "\n",
        "df[['alpha', 'rmsle']].head()"
      ],
      "execution_count": 0,
      "outputs": [
        {
          "output_type": "stream",
          "text": [
            "{'alpha': 0.0033333333333333335, 'max_iter': 3000}\n",
            "RMSLE Value For Lasso Regression:  1.0178936793104567\n"
          ],
          "name": "stdout"
        },
        {
          "output_type": "execute_result",
          "data": {
            "text/html": [
              "<div>\n",
              "<style scoped>\n",
              "    .dataframe tbody tr th:only-of-type {\n",
              "        vertical-align: middle;\n",
              "    }\n",
              "\n",
              "    .dataframe tbody tr th {\n",
              "        vertical-align: top;\n",
              "    }\n",
              "\n",
              "    .dataframe thead th {\n",
              "        text-align: right;\n",
              "    }\n",
              "</style>\n",
              "<table border=\"1\" class=\"dataframe\">\n",
              "  <thead>\n",
              "    <tr style=\"text-align: right;\">\n",
              "      <th></th>\n",
              "      <th>alpha</th>\n",
              "      <th>rmsle</th>\n",
              "    </tr>\n",
              "  </thead>\n",
              "  <tbody>\n",
              "    <tr>\n",
              "      <th>0</th>\n",
              "      <td>10.000000</td>\n",
              "      <td>1.440139</td>\n",
              "    </tr>\n",
              "    <tr>\n",
              "      <th>1</th>\n",
              "      <td>1.000000</td>\n",
              "      <td>1.102649</td>\n",
              "    </tr>\n",
              "    <tr>\n",
              "      <th>2</th>\n",
              "      <td>0.500000</td>\n",
              "      <td>1.090257</td>\n",
              "    </tr>\n",
              "    <tr>\n",
              "      <th>3</th>\n",
              "      <td>0.333333</td>\n",
              "      <td>1.088183</td>\n",
              "    </tr>\n",
              "    <tr>\n",
              "      <th>4</th>\n",
              "      <td>0.250000</td>\n",
              "      <td>1.087683</td>\n",
              "    </tr>\n",
              "  </tbody>\n",
              "</table>\n",
              "</div>"
            ],
            "text/plain": [
              "       alpha     rmsle\n",
              "0  10.000000  1.440139\n",
              "1   1.000000  1.102649\n",
              "2   0.500000  1.090257\n",
              "3   0.333333  1.088183\n",
              "4   0.250000  1.087683"
            ]
          },
          "metadata": {
            "tags": []
          },
          "execution_count": 27
        }
      ]
    },
    {
      "cell_type": "code",
      "metadata": {
        "id": "WmLkS6hX16H7",
        "colab_type": "code",
        "outputId": "42eaa71b-68b1-48a3-8478-b245721bc47b",
        "colab": {
          "base_uri": "https://localhost:8080/",
          "height": 418
        }
      },
      "source": [
        "fig,ax= plt.subplots()\n",
        "fig.set_size_inches(12,5)\n",
        "plt.xticks(rotation=30, ha='right')\n",
        "sns.pointplot(data=df,x=\"alpha\",y=\"rmsle\",ax=ax)"
      ],
      "execution_count": 0,
      "outputs": [
        {
          "output_type": "execute_result",
          "data": {
            "text/plain": [
              "<matplotlib.axes._subplots.AxesSubplot at 0x7f5eb3423dd8>"
            ]
          },
          "metadata": {
            "tags": []
          },
          "execution_count": 28
        },
        {
          "output_type": "display_data",
          "data": {
            "image/png": "[encoded data removed]",
            "text/plain": [
              "<Figure size 864x360 with 1 Axes>"
            ]
          },
          "metadata": {
            "tags": []
          }
        }
      ]
    },
    {
      "cell_type": "markdown",
      "metadata": {
        "id": "nb0ZOgup2AVz",
        "colab_type": "text"
      },
      "source": [
        "## Emsemble Model - RandomForest"
      ]
    },
    {
      "cell_type": "code",
      "metadata": {
        "id": "4zBRqPWn2FHv",
        "colab_type": "code",
        "outputId": "824169d7-e4f1-4926-f8b2-a21ddff0ea20",
        "colab": {
          "base_uri": "https://localhost:8080/",
          "height": 34
        }
      },
      "source": [
        "from sklearn.ensemble import RandomForestRegressor\n",
        "\n",
        "rf_model = RandomForestRegressor(n_estimators=100)\n",
        "\n",
        "y_train_log = np.log1p(y_train)\n",
        "rf_model.fit(X_train, y_train_log)\n",
        "\n",
        "preds = rf_model.predict(X_train)\n",
        "score = rmsle(np.exp(y_train_log), np.exp(preds), False)\n",
        "print(\"RMSLE Value For Random Forest: \", score)"
      ],
      "execution_count": 0,
      "outputs": [
        {
          "output_type": "stream",
          "text": [
            "RMSLE Value For Random Forest:  0.11301753756121115\n"
          ],
          "name": "stdout"
        }
      ]
    },
    {
      "cell_type": "markdown",
      "metadata": {
        "id": "1zTGMusL2xmy",
        "colab_type": "text"
      },
      "source": [
        "## Ensemble Model - Gradient Boost"
      ]
    },
    {
      "cell_type": "code",
      "metadata": {
        "id": "hc_eWBnj21uM",
        "colab_type": "code",
        "outputId": "1d8588d1-6927-4a72-be32-53cc142f08c0",
        "colab": {
          "base_uri": "https://localhost:8080/",
          "height": 34
        }
      },
      "source": [
        "from sklearn.ensemble import GradientBoostingRegressor\n",
        "\n",
        "gbm = GradientBoostingRegressor(n_estimators=4000, alpha=0.01)\n",
        "\n",
        "y_train_log = np.log1p(y_train)\n",
        "gbm.fit(X_train, y_train_log)\n",
        "\n",
        "preds = gbm.predict(X_train)\n",
        "score = rmsle(np.exp(y_train_log),np.exp(preds),False)\n",
        "print (\"RMSLE Value For Gradient Boost: \", score)"
      ],
      "execution_count": 0,
      "outputs": [
        {
          "output_type": "stream",
          "text": [
            "RMSLE Value For Gradient Boost:  0.21893102091367972\n"
          ],
          "name": "stdout"
        }
      ]
    },
    {
      "cell_type": "code",
      "metadata": {
        "id": "OWhFnRgI40Py",
        "colab_type": "code",
        "outputId": "ebd3199d-3cab-4368-de45-cba29f2c446a",
        "colab": {
          "base_uri": "https://localhost:8080/",
          "height": 354
        }
      },
      "source": [
        "predsTest = gbm.predict(X_test)\n",
        "fig, (ax1, ax2) = plt.subplots(ncols=2)\n",
        "fig.set_size_inches(12,5)\n",
        "sns.distplot(y_train, ax=ax1, bins=50)\n",
        "sns.distplot(np.exp(predsTest), ax=ax2, bins=50)"
      ],
      "execution_count": 0,
      "outputs": [
        {
          "output_type": "execute_result",
          "data": {
            "text/plain": [
              "<matplotlib.axes._subplots.AxesSubplot at 0x7f5eb2bf6a20>"
            ]
          },
          "metadata": {
            "tags": []
          },
          "execution_count": 31
        },
        {
          "output_type": "display_data",
          "data": {
            "image/png": "[encoded data removed]",
            "text/plain": [
              "<Figure size 864x360 with 2 Axes>"
            ]
          },
          "metadata": {
            "tags": []
          }
        }
      ]
    },
    {
      "cell_type": "markdown",
      "metadata": {
        "id": "hNt-qNSERbv9",
        "colab_type": "text"
      },
      "source": [
        "## Cross Validation (K-Fold)"
      ]
    },
    {
      "cell_type": "code",
      "metadata": {
        "id": "-x12h9kuRfKI",
        "colab_type": "code",
        "colab": {}
      },
      "source": [
        "from sklearn.model_selection import KFold\n",
        "from sklearn.model_selection import cross_val_score\n",
        "\n",
        "k_fold = KFold(n_splits=10, shuffle=True, random_state=0)"
      ],
      "execution_count": 0,
      "outputs": []
    },
    {
      "cell_type": "markdown",
      "metadata": {
        "id": "BI9oYhLHRt-1",
        "colab_type": "text"
      },
      "source": [
        "## RandomForest"
      ]
    },
    {
      "cell_type": "code",
      "metadata": {
        "id": "sSxps_d1RvUE",
        "colab_type": "code",
        "outputId": "671e80cb-7858-4a4d-b292-f9ce1de07e02",
        "colab": {
          "base_uri": "https://localhost:8080/",
          "height": 136
        }
      },
      "source": [
        "from sklearn.ensemble import RandomForestRegressor\n",
        "\n",
        "max_depth_list = []\n",
        "\n",
        "model = RandomForestRegressor(n_estimators=100,\n",
        "                              n_jobs=1,\n",
        "                              random_state=0)\n",
        "model"
      ],
      "execution_count": 0,
      "outputs": [
        {
          "output_type": "execute_result",
          "data": {
            "text/plain": [
              "RandomForestRegressor(bootstrap=True, criterion='mse', max_depth=None,\n",
              "                      max_features='auto', max_leaf_nodes=None,\n",
              "                      min_impurity_decrease=0.0, min_impurity_split=None,\n",
              "                      min_samples_leaf=1, min_samples_split=2,\n",
              "                      min_weight_fraction_leaf=0.0, n_estimators=100, n_jobs=1,\n",
              "                      oob_score=False, random_state=0, verbose=0,\n",
              "                      warm_start=False)"
            ]
          },
          "metadata": {
            "tags": []
          },
          "execution_count": 24
        }
      ]
    },
    {
      "cell_type": "code",
      "metadata": {
        "id": "-tKUq6OiSL5I",
        "colab_type": "code",
        "outputId": "fe50512d-0af1-4478-9929-c381ec6163b8",
        "colab": {
          "base_uri": "https://localhost:8080/",
          "height": 68
        }
      },
      "source": [
        "%time score = cross_val_score(model, X_train, y_train, cv=k_fold, scoring=rmsle_scorer)\n",
        "score = score.mean()\n",
        "print('Score= {0:.5f}'.format(score))"
      ],
      "execution_count": 0,
      "outputs": [
        {
          "output_type": "stream",
          "text": [
            "CPU times: user 34.4 s, sys: 134 ms, total: 34.5 s\n",
            "Wall time: 34.6 s\n",
            "Score= 0.36619\n"
          ],
          "name": "stdout"
        }
      ]
    },
    {
      "cell_type": "markdown",
      "metadata": {
        "id": "AgNRdcOcS0pM",
        "colab_type": "text"
      },
      "source": [
        "## Test"
      ]
    },
    {
      "cell_type": "code",
      "metadata": {
        "id": "pPxB0ASlS2K4",
        "colab_type": "code",
        "outputId": "e96f8f39-be02-46cd-be12-c0d13816e52a",
        "colab": {
          "base_uri": "https://localhost:8080/",
          "height": 136
        }
      },
      "source": [
        "model.fit(X_train, y_train)"
      ],
      "execution_count": 0,
      "outputs": [
        {
          "output_type": "execute_result",
          "data": {
            "text/plain": [
              "RandomForestRegressor(bootstrap=True, criterion='mse', max_depth=None,\n",
              "                      max_features='auto', max_leaf_nodes=None,\n",
              "                      min_impurity_decrease=0.0, min_impurity_split=None,\n",
              "                      min_samples_leaf=1, min_samples_split=2,\n",
              "                      min_weight_fraction_leaf=0.0, n_estimators=100, n_jobs=1,\n",
              "                      oob_score=False, random_state=0, verbose=0,\n",
              "                      warm_start=False)"
            ]
          },
          "metadata": {
            "tags": []
          },
          "execution_count": 28
        }
      ]
    },
    {
      "cell_type": "code",
      "metadata": {
        "id": "SG1k-ypaS6qH",
        "colab_type": "code",
        "outputId": "e351e474-6b28-4bf4-93ac-e739c4fddcc3",
        "colab": {
          "base_uri": "https://localhost:8080/",
          "height": 68
        }
      },
      "source": [
        "predictions = model.predict(X_test)\n",
        "\n",
        "print(predictions.shape)\n",
        "predictions[:10]"
      ],
      "execution_count": 0,
      "outputs": [
        {
          "output_type": "stream",
          "text": [
            "(6493,)\n"
          ],
          "name": "stdout"
        },
        {
          "output_type": "execute_result",
          "data": {
            "text/plain": [
              "array([ 12.72,   5.2 ,   4.23,   3.61,   3.19,   6.42,  38.13, 105.6 ,\n",
              "       235.56, 134.63])"
            ]
          },
          "metadata": {
            "tags": []
          },
          "execution_count": 30
        }
      ]
    },
    {
      "cell_type": "code",
      "metadata": {
        "id": "d6U6Vi_lTDkh",
        "colab_type": "code",
        "outputId": "e1ae5ca8-ac26-4b3d-ea57-e1f4ded36587",
        "colab": {
          "base_uri": "https://localhost:8080/",
          "height": 371
        }
      },
      "source": [
        "fig, (ax1, ax2) = plt.subplots(ncols=2)\n",
        "fig.set_size_inches(12, 5)\n",
        "sns.distplot(y_train, ax=ax1, bins=50)\n",
        "ax1.set(title='train')\n",
        "sns.distplot(predictions, ax=ax2, bins=50)\n",
        "ax2.set(title='test')"
      ],
      "execution_count": 0,
      "outputs": [
        {
          "output_type": "execute_result",
          "data": {
            "text/plain": [
              "[Text(0.5, 1.0, 'test')]"
            ]
          },
          "metadata": {
            "tags": []
          },
          "execution_count": 31
        },
        {
          "output_type": "display_data",
          "data": {
            "image/png": "[encoded data removed]",
            "text/plain": [
              "<Figure size 864x360 with 2 Axes>"
            ]
          },
          "metadata": {
            "tags": []
          }
        }
      ]
    },
    {
      "cell_type": "markdown",
      "metadata": {
        "id": "Avv-kx5ETqCg",
        "colab_type": "text"
      },
      "source": [
        "## Submit"
      ]
    },
    {
      "cell_type": "code",
      "metadata": {
        "id": "_NJv2nTcTrVV",
        "colab_type": "code",
        "outputId": "348dfa9f-6e5e-40fc-f2a9-0bc6ec471807",
        "colab": {
          "base_uri": "https://localhost:8080/",
          "height": 221
        }
      },
      "source": [
        "submission = pd.read_csv(os.path.join(data_root_dir, 'bike-sharing-demand/sampleSubmission.csv'))\n",
        "\n",
        "# submission['count'] = predictions\n",
        "submission['count'] = np.exp(predsTest)\n",
        "\n",
        "print(submission.shape)\n",
        "submission.head()"
      ],
      "execution_count": 0,
      "outputs": [
        {
          "output_type": "stream",
          "text": [
            "(6493, 2)\n"
          ],
          "name": "stdout"
        },
        {
          "output_type": "execute_result",
          "data": {
            "text/html": [
              "<div>\n",
              "<style scoped>\n",
              "    .dataframe tbody tr th:only-of-type {\n",
              "        vertical-align: middle;\n",
              "    }\n",
              "\n",
              "    .dataframe tbody tr th {\n",
              "        vertical-align: top;\n",
              "    }\n",
              "\n",
              "    .dataframe thead th {\n",
              "        text-align: right;\n",
              "    }\n",
              "</style>\n",
              "<table border=\"1\" class=\"dataframe\">\n",
              "  <thead>\n",
              "    <tr style=\"text-align: right;\">\n",
              "      <th></th>\n",
              "      <th>datetime</th>\n",
              "      <th>count</th>\n",
              "    </tr>\n",
              "  </thead>\n",
              "  <tbody>\n",
              "    <tr>\n",
              "      <th>0</th>\n",
              "      <td>2011-01-20 00:00:00</td>\n",
              "      <td>14.244924</td>\n",
              "    </tr>\n",
              "    <tr>\n",
              "      <th>1</th>\n",
              "      <td>2011-01-20 01:00:00</td>\n",
              "      <td>6.125836</td>\n",
              "    </tr>\n",
              "    <tr>\n",
              "      <th>2</th>\n",
              "      <td>2011-01-20 02:00:00</td>\n",
              "      <td>4.283105</td>\n",
              "    </tr>\n",
              "    <tr>\n",
              "      <th>3</th>\n",
              "      <td>2011-01-20 03:00:00</td>\n",
              "      <td>2.638090</td>\n",
              "    </tr>\n",
              "    <tr>\n",
              "      <th>4</th>\n",
              "      <td>2011-01-20 04:00:00</td>\n",
              "      <td>2.215475</td>\n",
              "    </tr>\n",
              "  </tbody>\n",
              "</table>\n",
              "</div>"
            ],
            "text/plain": [
              "              datetime      count\n",
              "0  2011-01-20 00:00:00  14.244924\n",
              "1  2011-01-20 01:00:00   6.125836\n",
              "2  2011-01-20 02:00:00   4.283105\n",
              "3  2011-01-20 03:00:00   2.638090\n",
              "4  2011-01-20 04:00:00   2.215475"
            ]
          },
          "metadata": {
            "tags": []
          },
          "execution_count": 33
        }
      ]
    },
    {
      "cell_type": "code",
      "metadata": {
        "id": "muiRY98wUBpP",
        "colab_type": "code",
        "colab": {}
      },
      "source": [
        "submission.to_csv(os.path.join(data_root_dir, 'bike-sharing-demand/Score_{0:.5f}.csv'.format(score)), index=False)"
      ],
      "execution_count": 0,
      "outputs": []
    }
  ]
}