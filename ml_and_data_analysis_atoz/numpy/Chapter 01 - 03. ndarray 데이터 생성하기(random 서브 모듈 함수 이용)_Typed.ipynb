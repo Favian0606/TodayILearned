{
 "cells": [
  {
   "cell_type": "markdown",
   "metadata": {},
   "source": [
    "### 학습목표\n",
    " - random 서브모듈 함수를 통해 ndarray 생성하기"
   ]
  },
  {
   "cell_type": "code",
   "execution_count": 2,
   "metadata": {},
   "outputs": [],
   "source": [
    "import numpy as np"
   ]
  },
  {
   "cell_type": "markdown",
   "metadata": {},
   "source": [
    "#### random 서브모듈"
   ]
  },
  {
   "cell_type": "markdown",
   "metadata": {},
   "source": [
    "#### rand 함수\n",
    " - 0, 1사이의 분포로 랜덤한 ndarray 생성"
   ]
  },
  {
   "cell_type": "code",
   "execution_count": 5,
   "metadata": {},
   "outputs": [
    {
     "data": {
      "text/plain": [
       "array([[0.87749319, 0.02712112, 0.43277006],\n",
       "       [0.98881747, 0.81941873, 0.63709495]])"
      ]
     },
     "execution_count": 5,
     "metadata": {},
     "output_type": "execute_result"
    }
   ],
   "source": [
    "np.random.rand(2, 3) # 0에서 1사이의 unifrom distribution"
   ]
  },
  {
   "cell_type": "code",
   "execution_count": 6,
   "metadata": {},
   "outputs": [
    {
     "data": {
      "text/plain": [
       "array([[[0.33429962, 0.97532752, 0.4661347 ],\n",
       "        [0.16765044, 0.01068081, 0.62051294],\n",
       "        [0.44167982, 0.2612058 , 0.04398813],\n",
       "        [0.24920499, 0.33550856, 0.59435937]],\n",
       "\n",
       "       [[0.27995829, 0.32554211, 0.4267093 ],\n",
       "        [0.02354452, 0.94234449, 0.15625512],\n",
       "        [0.07445451, 0.33607476, 0.16704709],\n",
       "        [0.01250651, 0.26463424, 0.00492307]],\n",
       "\n",
       "       [[0.76952484, 0.44207744, 0.02267043],\n",
       "        [0.19845888, 0.49657668, 0.05682062],\n",
       "        [0.62512434, 0.28113044, 0.84223446],\n",
       "        [0.14036188, 0.20704697, 0.40224839]],\n",
       "\n",
       "       [[0.5456115 , 0.60199549, 0.59980501],\n",
       "        [0.63722515, 0.52841216, 0.66129034],\n",
       "        [0.94942529, 0.61602681, 0.03234256],\n",
       "        [0.76425047, 0.70665989, 0.24703209]],\n",
       "\n",
       "       [[0.77321499, 0.29157459, 0.24633155],\n",
       "        [0.99544457, 0.18833476, 0.8594111 ],\n",
       "        [0.18730366, 0.06122533, 0.28498654],\n",
       "        [0.25972977, 0.3220616 , 0.97452931]]])"
      ]
     },
     "execution_count": 6,
     "metadata": {},
     "output_type": "execute_result"
    }
   ],
   "source": [
    "np.random.rand(5, 4, 3)"
   ]
  },
  {
   "cell_type": "markdown",
   "metadata": {},
   "source": [
    "#### randn함수\n",
    " - n: normal distribution(정규분포)\n",
    " - 정규분포로 샘플링된 랜덤 ndarray 생성"
   ]
  },
  {
   "cell_type": "code",
   "execution_count": 8,
   "metadata": {},
   "outputs": [
    {
     "data": {
      "text/plain": [
       "array([-1.40090468, -0.27620023,  1.91261056, -0.04443519, -1.351647  ])"
      ]
     },
     "execution_count": 8,
     "metadata": {},
     "output_type": "execute_result"
    }
   ],
   "source": [
    "np.random.randn(5) # random normal distribution"
   ]
  },
  {
   "cell_type": "code",
   "execution_count": 9,
   "metadata": {},
   "outputs": [
    {
     "data": {
      "text/plain": [
       "array([[ 0.88953193, -0.2406161 , -0.04352653,  0.29180881],\n",
       "       [ 0.62183736,  0.28682973,  1.06712872,  0.33780945],\n",
       "       [ 2.19881192,  0.38729717,  1.55099881,  0.88997125]])"
      ]
     },
     "execution_count": 9,
     "metadata": {},
     "output_type": "execute_result"
    }
   ],
   "source": [
    "np.random.randn(3, 4)"
   ]
  },
  {
   "cell_type": "markdown",
   "metadata": {},
   "source": [
    "#### randint 함수\n",
    " - 특정 정수 사이에서 랜덤하게 샘플링"
   ]
  },
  {
   "cell_type": "code",
   "execution_count": 13,
   "metadata": {},
   "outputs": [
    {
     "data": {
      "text/plain": [
       "array([[[ 5, 19],\n",
       "        [92, 72],\n",
       "        [80, 83],\n",
       "        [52, 15],\n",
       "        [36, 42]],\n",
       "\n",
       "       [[65, 39],\n",
       "        [64, 26],\n",
       "        [21, 96],\n",
       "        [16, 50],\n",
       "        [19, 57]],\n",
       "\n",
       "       [[98, 65],\n",
       "        [39, 78],\n",
       "        [98, 12],\n",
       "        [89,  4],\n",
       "        [66, 65]]])"
      ]
     },
     "execution_count": 13,
     "metadata": {},
     "output_type": "execute_result"
    }
   ],
   "source": [
    "np.random.randint(1, 100, size=(3, 5, 2))"
   ]
  },
  {
   "cell_type": "code",
   "execution_count": 14,
   "metadata": {},
   "outputs": [
    {
     "data": {
      "text/plain": [
       "array([66, 59, 24, 35, 76])"
      ]
     },
     "execution_count": 14,
     "metadata": {},
     "output_type": "execute_result"
    }
   ],
   "source": [
    "np.random.randint(1, 100, size=(5,))"
   ]
  },
  {
   "cell_type": "markdown",
   "metadata": {},
   "source": [
    "#### seed 함수\n",
    " - 랜덤한 값을 동일하게 다시 생성하고자 할때 사용"
   ]
  },
  {
   "cell_type": "code",
   "execution_count": 20,
   "metadata": {},
   "outputs": [],
   "source": [
    "np.random.seed(100)"
   ]
  },
  {
   "cell_type": "code",
   "execution_count": 25,
   "metadata": {},
   "outputs": [
    {
     "data": {
      "text/plain": [
       "array([[ 0.88389311,  0.19586502,  0.35753652, -2.34326191],\n",
       "       [-1.08483259,  0.55969629,  0.93946935, -0.97848104],\n",
       "       [ 0.50309684,  0.40641447,  0.32346101, -0.49341088]])"
      ]
     },
     "execution_count": 25,
     "metadata": {},
     "output_type": "execute_result"
    }
   ],
   "source": [
    "np.random.seed(20)\n",
    "np.random.randn(3, 4)"
   ]
  },
  {
   "cell_type": "markdown",
   "metadata": {},
   "source": [
    "#### choice\n",
    " - 주어진 1차원 ndarray로 부터 랜덤으로 샘플링\n",
    " - 정수가 주어진 경우, np.arange(해당숫자)로 간주"
   ]
  },
  {
   "cell_type": "code",
   "execution_count": 26,
   "metadata": {},
   "outputs": [
    {
     "data": {
      "text/plain": [
       "array([[58, 25,  3, 74],\n",
       "       [75, 61, 77, 83],\n",
       "       [57, 94, 32, 10]])"
      ]
     },
     "execution_count": 26,
     "metadata": {},
     "output_type": "execute_result"
    }
   ],
   "source": [
    "np.random.choice(100, (3, 4))"
   ]
  },
  {
   "cell_type": "code",
   "execution_count": 27,
   "metadata": {},
   "outputs": [
    {
     "data": {
      "text/plain": [
       "array([[5. , 3.1],\n",
       "       [5. , 3. ]])"
      ]
     },
     "execution_count": 27,
     "metadata": {},
     "output_type": "execute_result"
    }
   ],
   "source": [
    "x = np.array([1, 2, 3, 5, 2.3, 5.4, 3.1])\n",
    "np.random.choice(x, size=(2, 2))"
   ]
  },
  {
   "cell_type": "markdown",
   "metadata": {},
   "source": [
    "#### 확률분포에 따른 ndarray 생성\n",
    " - uniform\n",
    " - normal 등등"
   ]
  },
  {
   "cell_type": "code",
   "execution_count": 28,
   "metadata": {},
   "outputs": [
    {
     "data": {
      "text/plain": [
       "array([[1.5059482 , 2.74839351, 1.57772338, 1.6389199 , 2.15187649],\n",
       "       [2.61607297, 1.48296955, 2.66982336, 2.49426389, 1.88261977],\n",
       "       [1.17810339, 1.7666985 , 1.83610823, 2.52994467, 1.39855603],\n",
       "       [1.09808429, 2.34808332, 1.03964067, 2.59313215, 2.43101907]])"
      ]
     },
     "execution_count": 28,
     "metadata": {},
     "output_type": "execute_result"
    }
   ],
   "source": [
    "np.random.uniform(1.0, 3.0, size=(4, 5))"
   ]
  },
  {
   "cell_type": "code",
   "execution_count": 29,
   "metadata": {},
   "outputs": [
    {
     "data": {
      "text/plain": [
       "array([[-1.01687734, -1.21580898, -0.64920115, -0.41416863],\n",
       "       [ 0.28375927, -0.09503477, -0.09700659, -0.14962102],\n",
       "       [ 2.00500464, -2.08473468,  1.25170782, -1.02567366]])"
      ]
     },
     "execution_count": 29,
     "metadata": {},
     "output_type": "execute_result"
    }
   ],
   "source": [
    "np.random.normal(size=(3, 4))"
   ]
  }
 ],
 "metadata": {
  "kernelspec": {
   "display_name": "Python 3",
   "language": "python",
   "name": "python3"
  },
  "language_info": {
   "codemirror_mode": {
    "name": "ipython",
    "version": 3
   },
   "file_extension": ".py",
   "mimetype": "text/x-python",
   "name": "python",
   "nbconvert_exporter": "python",
   "pygments_lexer": "ipython3",
   "version": "3.7.3"
  }
 },
 "nbformat": 4,
 "nbformat_minor": 2
}
