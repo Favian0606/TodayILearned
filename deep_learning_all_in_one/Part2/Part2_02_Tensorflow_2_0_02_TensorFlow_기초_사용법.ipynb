{
  "nbformat": 4,
  "nbformat_minor": 0,
  "metadata": {
    "colab": {
      "name": "Part2_02.Tensorflow 2.0 - 02.TensorFlow_기초_사용법.ipynb",
      "provenance": [],
      "collapsed_sections": []
    },
    "kernelspec": {
      "name": "python3",
      "display_name": "Python 3"
    }
  },
  "cells": [
    {
      "cell_type": "markdown",
      "metadata": {
        "id": "JMgZYoTZfmuV"
      },
      "source": [
        "## 학습목표\n",
        "\n",
        "* Tensorflow 2.0 간단 사용법"
      ]
    },
    {
      "cell_type": "code",
      "metadata": {
        "id": "qBI9scKLfqAe"
      },
      "source": [
        "import numpy as np\n",
        "import tensorflow as tf"
      ],
      "execution_count": 2,
      "outputs": []
    },
    {
      "cell_type": "code",
      "metadata": {
        "id": "KagSyN9JfHIk",
        "outputId": "def49052-4bf1-4213-dcc4-e62e61d0adf5",
        "colab": {
          "base_uri": "https://localhost:8080/",
          "height": 35
        }
      },
      "source": [
        "tf.__version__"
      ],
      "execution_count": 3,
      "outputs": [
        {
          "output_type": "execute_result",
          "data": {
            "application/vnd.google.colaboratory.intrinsic+json": {
              "type": "string"
            },
            "text/plain": [
              "'2.3.0'"
            ]
          },
          "metadata": {
            "tags": []
          },
          "execution_count": 3
        }
      ]
    },
    {
      "cell_type": "markdown",
      "metadata": {
        "id": "ySTBDBx6gJLF"
      },
      "source": [
        "## Tensor 생성\n",
        "\n",
        "* List 생성"
      ]
    },
    {
      "cell_type": "code",
      "metadata": {
        "id": "Er_e-6UagKks",
        "outputId": "0ba95e6c-9dba-431e-9582-9fcb1e398edc",
        "colab": {
          "base_uri": "https://localhost:8080/"
        }
      },
      "source": [
        "[1, 2, 3]"
      ],
      "execution_count": 4,
      "outputs": [
        {
          "output_type": "execute_result",
          "data": {
            "text/plain": [
              "[1, 2, 3]"
            ]
          },
          "metadata": {
            "tags": []
          },
          "execution_count": 4
        }
      ]
    },
    {
      "cell_type": "code",
      "metadata": {
        "id": "0o_bUc7ugawE",
        "outputId": "fc25ba41-a82a-4f6a-bed3-e857cb1cd208",
        "colab": {
          "base_uri": "https://localhost:8080/"
        }
      },
      "source": [
        "[[1, 2, 3], [4, 5, 6]]"
      ],
      "execution_count": 5,
      "outputs": [
        {
          "output_type": "execute_result",
          "data": {
            "text/plain": [
              "[[1, 2, 3], [4, 5, 6]]"
            ]
          },
          "metadata": {
            "tags": []
          },
          "execution_count": 5
        }
      ]
    },
    {
      "cell_type": "markdown",
      "metadata": {
        "id": "AzFLY98RgpWs"
      },
      "source": [
        "### Array 생성\n",
        "\n",
        "* tuple과 list 모두 np.array로 array 생"
      ]
    },
    {
      "cell_type": "code",
      "metadata": {
        "id": "KwXbfWdKgw5y"
      },
      "source": [
        "arr = np.array([1, 2, 3])"
      ],
      "execution_count": 9,
      "outputs": []
    },
    {
      "cell_type": "code",
      "metadata": {
        "id": "AmHBZ3ESg3ea",
        "outputId": "dc2877c6-4027-456b-ce06-2345839e0a6e",
        "colab": {
          "base_uri": "https://localhost:8080/"
        }
      },
      "source": [
        "arr.shape"
      ],
      "execution_count": 10,
      "outputs": [
        {
          "output_type": "execute_result",
          "data": {
            "text/plain": [
              "(3,)"
            ]
          },
          "metadata": {
            "tags": []
          },
          "execution_count": 10
        }
      ]
    },
    {
      "cell_type": "code",
      "metadata": {
        "id": "MX52L3nsgxki"
      },
      "source": [
        "arr = np.array([[1, 2, 3], [1, 2, 3]])"
      ],
      "execution_count": 11,
      "outputs": []
    },
    {
      "cell_type": "code",
      "metadata": {
        "id": "D0tFFyXqhJBo",
        "outputId": "e3a7fd01-cd8a-41e9-ce34-f92fe9b2b67c",
        "colab": {
          "base_uri": "https://localhost:8080/"
        }
      },
      "source": [
        "arr.shape"
      ],
      "execution_count": 12,
      "outputs": [
        {
          "output_type": "execute_result",
          "data": {
            "text/plain": [
              "(2, 3)"
            ]
          },
          "metadata": {
            "tags": []
          },
          "execution_count": 12
        }
      ]
    },
    {
      "cell_type": "markdown",
      "metadata": {
        "id": "I0wDeeBZhMwA"
      },
      "source": [
        "### Tensor 생성\n",
        "\n",
        "* tf.constant()\n",
        "  - list -> Tensor"
      ]
    },
    {
      "cell_type": "code",
      "metadata": {
        "id": "3BtkBrO8hS-A",
        "outputId": "d781bd1f-0b1d-4207-b05a-09a2354014e9",
        "colab": {
          "base_uri": "https://localhost:8080/"
        }
      },
      "source": [
        "tf.constant([1, 2, 3])"
      ],
      "execution_count": 13,
      "outputs": [
        {
          "output_type": "execute_result",
          "data": {
            "text/plain": [
              "<tf.Tensor: shape=(3,), dtype=int32, numpy=array([1, 2, 3], dtype=int32)>"
            ]
          },
          "metadata": {
            "tags": []
          },
          "execution_count": 13
        }
      ]
    },
    {
      "cell_type": "markdown",
      "metadata": {
        "id": "fsvn6v1thuqg"
      },
      "source": [
        "* tf.constant()\n",
        "  - tuple -> Tensor"
      ]
    },
    {
      "cell_type": "code",
      "metadata": {
        "id": "bYzzBdKqhgOf",
        "outputId": "e6a3eed3-5cbc-4501-b312-8e633ad7f947",
        "colab": {
          "base_uri": "https://localhost:8080/"
        }
      },
      "source": [
        "tf.constant(((1, 2, 3), (1, 2, 3)))"
      ],
      "execution_count": 14,
      "outputs": [
        {
          "output_type": "execute_result",
          "data": {
            "text/plain": [
              "<tf.Tensor: shape=(2, 3), dtype=int32, numpy=\n",
              "array([[1, 2, 3],\n",
              "       [1, 2, 3]], dtype=int32)>"
            ]
          },
          "metadata": {
            "tags": []
          },
          "execution_count": 14
        }
      ]
    },
    {
      "cell_type": "markdown",
      "metadata": {
        "id": "IZjOXKpEh5Dw"
      },
      "source": [
        "* tf.constant()\n",
        "  - Array -> Tensor"
      ]
    },
    {
      "cell_type": "code",
      "metadata": {
        "id": "vA9CswI2hsqK",
        "outputId": "67e7fdc0-84b6-4a7c-8b3e-7aea1112a0cb",
        "colab": {
          "base_uri": "https://localhost:8080/"
        }
      },
      "source": [
        "arr = np.array([1, 2, 3])\n",
        "arr"
      ],
      "execution_count": 15,
      "outputs": [
        {
          "output_type": "execute_result",
          "data": {
            "text/plain": [
              "array([1, 2, 3])"
            ]
          },
          "metadata": {
            "tags": []
          },
          "execution_count": 15
        }
      ]
    },
    {
      "cell_type": "code",
      "metadata": {
        "id": "yHwDC-ZkiTYE",
        "outputId": "7e16793e-1cda-4693-c0f7-199e4738d5e9",
        "colab": {
          "base_uri": "https://localhost:8080/"
        }
      },
      "source": [
        "tensor = tf.constant(arr)\n",
        "tensor"
      ],
      "execution_count": 17,
      "outputs": [
        {
          "output_type": "execute_result",
          "data": {
            "text/plain": [
              "<tf.Tensor: shape=(3,), dtype=int64, numpy=array([1, 2, 3])>"
            ]
          },
          "metadata": {
            "tags": []
          },
          "execution_count": 17
        }
      ]
    },
    {
      "cell_type": "markdown",
      "metadata": {
        "id": "k5gUN0CFibRf"
      },
      "source": [
        "## Tensor에 담긴 정보 확인\n",
        "\n",
        "* shape 확인"
      ]
    },
    {
      "cell_type": "code",
      "metadata": {
        "id": "Oahhjm4mialM",
        "outputId": "565f985a-a2ed-4fc3-966c-b7304ec8103d",
        "colab": {
          "base_uri": "https://localhost:8080/"
        }
      },
      "source": [
        "tensor.shape"
      ],
      "execution_count": 18,
      "outputs": [
        {
          "output_type": "execute_result",
          "data": {
            "text/plain": [
              "TensorShape([3])"
            ]
          },
          "metadata": {
            "tags": []
          },
          "execution_count": 18
        }
      ]
    },
    {
      "cell_type": "markdown",
      "metadata": {
        "id": "_sR2nYh_iqYT"
      },
      "source": [
        "* data type 확인\n",
        "  - Tensor 생성 시에 data type을 정해주지 않음 (Python)"
      ]
    },
    {
      "cell_type": "code",
      "metadata": {
        "id": "LmA4y5keioQi",
        "outputId": "a886bee8-6390-46eb-81d3-9cfbaa5d397c",
        "colab": {
          "base_uri": "https://localhost:8080/"
        }
      },
      "source": [
        "tensor.dtype"
      ],
      "execution_count": 19,
      "outputs": [
        {
          "output_type": "execute_result",
          "data": {
            "text/plain": [
              "tf.int64"
            ]
          },
          "metadata": {
            "tags": []
          },
          "execution_count": 19
        }
      ]
    },
    {
      "cell_type": "markdown",
      "metadata": {
        "id": "_lI_I05pjFmt"
      },
      "source": [
        "* data type 정의"
      ]
    },
    {
      "cell_type": "code",
      "metadata": {
        "id": "Y1Afwb39jHEG",
        "outputId": "e0651598-4117-40f5-b302-ddffb08e384c",
        "colab": {
          "base_uri": "https://localhost:8080/"
        }
      },
      "source": [
        "tensor = tf.constant([1, 2, 3], dtype=tf.float32)\n",
        "tensor"
      ],
      "execution_count": 21,
      "outputs": [
        {
          "output_type": "execute_result",
          "data": {
            "text/plain": [
              "<tf.Tensor: shape=(3,), dtype=float32, numpy=array([1., 2., 3.], dtype=float32)>"
            ]
          },
          "metadata": {
            "tags": []
          },
          "execution_count": 21
        }
      ]
    },
    {
      "cell_type": "markdown",
      "metadata": {
        "id": "76-BJM60jeb5"
      },
      "source": [
        "* data type 변환\n",
        "  - Numpy의 astype, TF의 cast"
      ]
    },
    {
      "cell_type": "code",
      "metadata": {
        "id": "E0dpejKujgKX"
      },
      "source": [
        "arr = np.array([1, 2, 3], dtype=np.float32)"
      ],
      "execution_count": 22,
      "outputs": []
    },
    {
      "cell_type": "code",
      "metadata": {
        "id": "ssWQaSuqmjrz",
        "outputId": "a8ffd3ff-e194-4607-ee1e-9f5566642135",
        "colab": {
          "base_uri": "https://localhost:8080/"
        }
      },
      "source": [
        "arr.astype(np.uint8)"
      ],
      "execution_count": 24,
      "outputs": [
        {
          "output_type": "execute_result",
          "data": {
            "text/plain": [
              "array([1, 2, 3], dtype=uint8)"
            ]
          },
          "metadata": {
            "tags": []
          },
          "execution_count": 24
        }
      ]
    },
    {
      "cell_type": "code",
      "metadata": {
        "id": "AyQH_8GKmubA",
        "outputId": "4d0dd2f5-5eaf-4e94-f192-0b9c969496ac",
        "colab": {
          "base_uri": "https://localhost:8080/"
        }
      },
      "source": [
        "tensor"
      ],
      "execution_count": 25,
      "outputs": [
        {
          "output_type": "execute_result",
          "data": {
            "text/plain": [
              "<tf.Tensor: shape=(3,), dtype=float32, numpy=array([1., 2., 3.], dtype=float32)>"
            ]
          },
          "metadata": {
            "tags": []
          },
          "execution_count": 25
        }
      ]
    },
    {
      "cell_type": "code",
      "metadata": {
        "id": "rBaYOLKTnCdP",
        "outputId": "87f6da6e-4d3a-4415-cdf3-4c98597be54e",
        "colab": {
          "base_uri": "https://localhost:8080/"
        }
      },
      "source": [
        "tf.cast(tensor, dtype=tf.uint8)"
      ],
      "execution_count": 26,
      "outputs": [
        {
          "output_type": "execute_result",
          "data": {
            "text/plain": [
              "<tf.Tensor: shape=(3,), dtype=uint8, numpy=array([1, 2, 3], dtype=uint8)>"
            ]
          },
          "metadata": {
            "tags": []
          },
          "execution_count": 26
        }
      ]
    },
    {
      "cell_type": "markdown",
      "metadata": {
        "id": "ntvUztZVnKOe"
      },
      "source": [
        "* Tensor에서 Numpy 불러오기\n",
        "  - numpy()"
      ]
    },
    {
      "cell_type": "code",
      "metadata": {
        "id": "m4eaV6FBnM5I",
        "outputId": "a8edba5f-6f9f-42f3-c520-55ae1fbc6163",
        "colab": {
          "base_uri": "https://localhost:8080/"
        }
      },
      "source": [
        "tensor.numpy()"
      ],
      "execution_count": 27,
      "outputs": [
        {
          "output_type": "execute_result",
          "data": {
            "text/plain": [
              "array([1., 2., 3.], dtype=float32)"
            ]
          },
          "metadata": {
            "tags": []
          },
          "execution_count": 27
        }
      ]
    },
    {
      "cell_type": "markdown",
      "metadata": {
        "id": "vZhxVnZcnYvu"
      },
      "source": [
        "* np.array()"
      ]
    },
    {
      "cell_type": "code",
      "metadata": {
        "id": "0vs1i0bVnaGC",
        "outputId": "a8f9cc71-3677-4c27-8eb7-2eb81fc6caa3",
        "colab": {
          "base_uri": "https://localhost:8080/"
        }
      },
      "source": [
        "np.array(tensor)"
      ],
      "execution_count": 28,
      "outputs": [
        {
          "output_type": "execute_result",
          "data": {
            "text/plain": [
              "array([1., 2., 3.], dtype=float32)"
            ]
          },
          "metadata": {
            "tags": []
          },
          "execution_count": 28
        }
      ]
    },
    {
      "cell_type": "markdown",
      "metadata": {
        "id": "HPs1eEaSnqmE"
      },
      "source": [
        "* numpy array 변환 확인"
      ]
    },
    {
      "cell_type": "code",
      "metadata": {
        "id": "MGp-USDBncTB",
        "outputId": "f5688d48-6783-4e02-f996-5277eb666389",
        "colab": {
          "base_uri": "https://localhost:8080/"
        }
      },
      "source": [
        "type(tensor.numpy())"
      ],
      "execution_count": 29,
      "outputs": [
        {
          "output_type": "execute_result",
          "data": {
            "text/plain": [
              "numpy.ndarray"
            ]
          },
          "metadata": {
            "tags": []
          },
          "execution_count": 29
        }
      ]
    },
    {
      "cell_type": "markdown",
      "metadata": {
        "id": "etC9OtdOnyoH"
      },
      "source": [
        "## 난수 생성\n",
        "\n",
        "* Normal distribution and Uniform distribution\n",
        "  - Normal distribution: 중심극한 이론; 연속적인 모양 (bell shape)\n",
        "  - Uniform distribution: 불연속적이고 일정한 분포"
      ]
    },
    {
      "cell_type": "markdown",
      "metadata": {
        "id": "MTVLJL8QosrN"
      },
      "source": [
        "* numpy의 normal distribution\n",
        "  - np.random.randn()"
      ]
    },
    {
      "cell_type": "code",
      "metadata": {
        "id": "Q-Zvd3sznwpd",
        "outputId": "b1ee89ac-165e-46bd-bacd-340443d844f1",
        "colab": {
          "base_uri": "https://localhost:8080/"
        }
      },
      "source": [
        "np.random.randn(9)"
      ],
      "execution_count": 30,
      "outputs": [
        {
          "output_type": "execute_result",
          "data": {
            "text/plain": [
              "array([-0.03167786,  0.6397765 , -1.73497897, -0.01849869,  0.14135746,\n",
              "       -1.61715171,  1.85840834, -0.22574316, -0.3719733 ])"
            ]
          },
          "metadata": {
            "tags": []
          },
          "execution_count": 30
        }
      ]
    },
    {
      "cell_type": "code",
      "metadata": {
        "id": "eXq4nytipFy4",
        "outputId": "1aa76f1d-8675-497e-ac98-7520976e857f",
        "colab": {
          "base_uri": "https://localhost:8080/"
        }
      },
      "source": [
        "tf.random.normal([3, 3])"
      ],
      "execution_count": 34,
      "outputs": [
        {
          "output_type": "execute_result",
          "data": {
            "text/plain": [
              "<tf.Tensor: shape=(3, 3), dtype=float32, numpy=\n",
              "array([[-0.3280356 ,  1.2700068 , -0.1826586 ],\n",
              "       [-0.06749205,  2.1148849 , -0.63306963],\n",
              "       [-1.7840568 , -0.3243404 ,  1.1606886 ]], dtype=float32)>"
            ]
          },
          "metadata": {
            "tags": []
          },
          "execution_count": 34
        }
      ]
    },
    {
      "cell_type": "code",
      "metadata": {
        "id": "zR-pbKwVpRY9",
        "outputId": "ede0bb22-49a1-4604-ffb5-4a433ed92b5d",
        "colab": {
          "base_uri": "https://localhost:8080/"
        }
      },
      "source": [
        "tf.random.uniform([4, 4])"
      ],
      "execution_count": 36,
      "outputs": [
        {
          "output_type": "execute_result",
          "data": {
            "text/plain": [
              "<tf.Tensor: shape=(4, 4), dtype=float32, numpy=\n",
              "array([[0.78724635, 0.04956639, 0.7236872 , 0.80739033],\n",
              "       [0.26179278, 0.761749  , 0.88951087, 0.6233188 ],\n",
              "       [0.21134698, 0.25351775, 0.10615158, 0.50895953],\n",
              "       [0.92265034, 0.22796929, 0.58033085, 0.67220783]], dtype=float32)>"
            ]
          },
          "metadata": {
            "tags": []
          },
          "execution_count": 36
        }
      ]
    }
  ]
}