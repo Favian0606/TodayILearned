{
  "nbformat": 4,
  "nbformat_minor": 0,
  "metadata": {
    "colab": {
      "name": "Part2_12.Pytorch - 01.PyTorch_기초.ipynb",
      "provenance": [],
      "collapsed_sections": []
    },
    "kernelspec": {
      "name": "python3",
      "display_name": "Python 3"
    }
  },
  "cells": [
    {
      "cell_type": "markdown",
      "metadata": {
        "id": "gVI-gRXd9r6E"
      },
      "source": [
        "## PyTorch Basic\n",
        "\n",
        "PyTorch 기초 사용법"
      ]
    },
    {
      "cell_type": "code",
      "metadata": {
        "id": "J2D6w2-N51JE"
      },
      "source": [
        "import numpy as np\n",
        "import torch"
      ],
      "execution_count": 1,
      "outputs": []
    },
    {
      "cell_type": "code",
      "metadata": {
        "id": "W_OuKJwa94BX",
        "outputId": "70cb1009-8ac5-4c7a-9b62-c82a9dea5f29",
        "colab": {
          "base_uri": "https://localhost:8080/"
        }
      },
      "source": [
        "nums = torch.arange(9)\n",
        "nums"
      ],
      "execution_count": 2,
      "outputs": [
        {
          "output_type": "execute_result",
          "data": {
            "text/plain": [
              "tensor([0, 1, 2, 3, 4, 5, 6, 7, 8])"
            ]
          },
          "metadata": {
            "tags": []
          },
          "execution_count": 2
        }
      ]
    },
    {
      "cell_type": "code",
      "metadata": {
        "id": "IYVqWiNQ988g",
        "outputId": "3560313f-5cfc-4589-f261-728153292729",
        "colab": {
          "base_uri": "https://localhost:8080/"
        }
      },
      "source": [
        "nums.shape"
      ],
      "execution_count": 3,
      "outputs": [
        {
          "output_type": "execute_result",
          "data": {
            "text/plain": [
              "torch.Size([9])"
            ]
          },
          "metadata": {
            "tags": []
          },
          "execution_count": 3
        }
      ]
    },
    {
      "cell_type": "code",
      "metadata": {
        "id": "QSYkuWm39-q-",
        "outputId": "efee1689-2db4-4dbe-a4fc-762b83504276",
        "colab": {
          "base_uri": "https://localhost:8080/"
        }
      },
      "source": [
        "type(nums)"
      ],
      "execution_count": 5,
      "outputs": [
        {
          "output_type": "execute_result",
          "data": {
            "text/plain": [
              "torch.Tensor"
            ]
          },
          "metadata": {
            "tags": []
          },
          "execution_count": 5
        }
      ]
    },
    {
      "cell_type": "code",
      "metadata": {
        "id": "k5DQQg9j-EeO",
        "outputId": "41faab46-618f-4c12-8db0-ea498c535347",
        "colab": {
          "base_uri": "https://localhost:8080/"
        }
      },
      "source": [
        "nums.numpy()"
      ],
      "execution_count": 6,
      "outputs": [
        {
          "output_type": "execute_result",
          "data": {
            "text/plain": [
              "array([0, 1, 2, 3, 4, 5, 6, 7, 8])"
            ]
          },
          "metadata": {
            "tags": []
          },
          "execution_count": 6
        }
      ]
    },
    {
      "cell_type": "code",
      "metadata": {
        "id": "23v-Gz_C-JCU",
        "outputId": "19e0f585-09dc-4316-edf4-569c9dd362e7",
        "colab": {
          "base_uri": "https://localhost:8080/"
        }
      },
      "source": [
        "nums.reshape([3, 3])"
      ],
      "execution_count": 8,
      "outputs": [
        {
          "output_type": "execute_result",
          "data": {
            "text/plain": [
              "tensor([[0, 1, 2],\n",
              "        [3, 4, 5],\n",
              "        [6, 7, 8]])"
            ]
          },
          "metadata": {
            "tags": []
          },
          "execution_count": 8
        }
      ]
    },
    {
      "cell_type": "code",
      "metadata": {
        "id": "56R1Jli4-ZHn",
        "outputId": "34aa4bf9-b9a0-42f3-abf1-3e92cd133d98",
        "colab": {
          "base_uri": "https://localhost:8080/"
        }
      },
      "source": [
        "random = torch.rand([3, 3])\n",
        "random"
      ],
      "execution_count": 9,
      "outputs": [
        {
          "output_type": "execute_result",
          "data": {
            "text/plain": [
              "tensor([[0.0169, 0.7165, 0.5968],\n",
              "        [0.5046, 0.6148, 0.2083],\n",
              "        [0.4260, 0.1880, 0.5501]])"
            ]
          },
          "metadata": {
            "tags": []
          },
          "execution_count": 9
        }
      ]
    },
    {
      "cell_type": "code",
      "metadata": {
        "id": "D5qWGRmw-cWO",
        "outputId": "72663b7e-965f-41c6-c1f8-b629ffaae365",
        "colab": {
          "base_uri": "https://localhost:8080/"
        }
      },
      "source": [
        "zeros = torch.zeros([3, 3])\n",
        "zeros"
      ],
      "execution_count": 10,
      "outputs": [
        {
          "output_type": "execute_result",
          "data": {
            "text/plain": [
              "tensor([[0., 0., 0.],\n",
              "        [0., 0., 0.],\n",
              "        [0., 0., 0.]])"
            ]
          },
          "metadata": {
            "tags": []
          },
          "execution_count": 10
        }
      ]
    },
    {
      "cell_type": "code",
      "metadata": {
        "id": "izwxvHiv-jJe",
        "outputId": "fd93b482-d713-45a7-b266-df9c5f1eb36d",
        "colab": {
          "base_uri": "https://localhost:8080/"
        }
      },
      "source": [
        "ones = torch.ones([3, 3])\n",
        "ones"
      ],
      "execution_count": 11,
      "outputs": [
        {
          "output_type": "execute_result",
          "data": {
            "text/plain": [
              "tensor([[1., 1., 1.],\n",
              "        [1., 1., 1.],\n",
              "        [1., 1., 1.]])"
            ]
          },
          "metadata": {
            "tags": []
          },
          "execution_count": 11
        }
      ]
    },
    {
      "cell_type": "code",
      "metadata": {
        "id": "r1fk609I-pVF",
        "outputId": "7a634e25-ff11-482d-abf6-fc012c069072",
        "colab": {
          "base_uri": "https://localhost:8080/"
        }
      },
      "source": [
        "torch.zeros_like(ones)"
      ],
      "execution_count": 12,
      "outputs": [
        {
          "output_type": "execute_result",
          "data": {
            "text/plain": [
              "tensor([[0., 0., 0.],\n",
              "        [0., 0., 0.],\n",
              "        [0., 0., 0.]])"
            ]
          },
          "metadata": {
            "tags": []
          },
          "execution_count": 12
        }
      ]
    },
    {
      "cell_type": "code",
      "metadata": {
        "id": "9M4u5Kwb-5P8",
        "outputId": "aeccb4d6-d5ac-45a1-9e89-8d5f37095fb3",
        "colab": {
          "base_uri": "https://localhost:8080/"
        }
      },
      "source": [
        "zeros.size()"
      ],
      "execution_count": 13,
      "outputs": [
        {
          "output_type": "execute_result",
          "data": {
            "text/plain": [
              "torch.Size([3, 3])"
            ]
          },
          "metadata": {
            "tags": []
          },
          "execution_count": 13
        }
      ]
    },
    {
      "cell_type": "markdown",
      "metadata": {
        "id": "23eBuckO--Vn"
      },
      "source": [
        "## Operations\n",
        "\n",
        "PyTorch로 수학연산"
      ]
    },
    {
      "cell_type": "code",
      "metadata": {
        "id": "w_DhWIiK-8XC",
        "outputId": "bc2c9bea-f905-46a9-b949-5f42802b711a",
        "colab": {
          "base_uri": "https://localhost:8080/"
        }
      },
      "source": [
        "nums * 3"
      ],
      "execution_count": 14,
      "outputs": [
        {
          "output_type": "execute_result",
          "data": {
            "text/plain": [
              "tensor([ 0,  3,  6,  9, 12, 15, 18, 21, 24])"
            ]
          },
          "metadata": {
            "tags": []
          },
          "execution_count": 14
        }
      ]
    },
    {
      "cell_type": "code",
      "metadata": {
        "id": "v6Mo5bJx_Qj7"
      },
      "source": [
        "nums = nums.reshape([3, 3])"
      ],
      "execution_count": 15,
      "outputs": []
    },
    {
      "cell_type": "code",
      "metadata": {
        "id": "BpgTeuAo_TyK",
        "outputId": "07384561-8f8e-4a1b-8d6d-d9cb654940e0",
        "colab": {
          "base_uri": "https://localhost:8080/"
        }
      },
      "source": [
        "nums + nums"
      ],
      "execution_count": 16,
      "outputs": [
        {
          "output_type": "execute_result",
          "data": {
            "text/plain": [
              "tensor([[ 0,  2,  4],\n",
              "        [ 6,  8, 10],\n",
              "        [12, 14, 16]])"
            ]
          },
          "metadata": {
            "tags": []
          },
          "execution_count": 16
        }
      ]
    },
    {
      "cell_type": "code",
      "metadata": {
        "id": "ItQ59sJt_Yup"
      },
      "source": [
        "result = torch.add(nums, 3)"
      ],
      "execution_count": 18,
      "outputs": []
    },
    {
      "cell_type": "code",
      "metadata": {
        "id": "NgWTWBy6_fbJ",
        "outputId": "363699f4-0c7e-4406-aa5d-c1312cba4e5e",
        "colab": {
          "base_uri": "https://localhost:8080/"
        }
      },
      "source": [
        "result.numpy()"
      ],
      "execution_count": 19,
      "outputs": [
        {
          "output_type": "execute_result",
          "data": {
            "text/plain": [
              "array([[ 3,  4,  5],\n",
              "       [ 6,  7,  8],\n",
              "       [ 9, 10, 11]])"
            ]
          },
          "metadata": {
            "tags": []
          },
          "execution_count": 19
        }
      ]
    },
    {
      "cell_type": "markdown",
      "metadata": {
        "id": "BzzykdvA_mFM"
      },
      "source": [
        "## View"
      ]
    },
    {
      "cell_type": "code",
      "metadata": {
        "id": "3bzg4t6l_bx6"
      },
      "source": [
        "range_nums = torch.arange(9).reshape(3, 3)"
      ],
      "execution_count": 20,
      "outputs": []
    },
    {
      "cell_type": "code",
      "metadata": {
        "id": "JcPLbWQI_s5o",
        "outputId": "62768f6d-23ee-445a-8cf8-7ca1dbbb25b1",
        "colab": {
          "base_uri": "https://localhost:8080/"
        }
      },
      "source": [
        "range_nums"
      ],
      "execution_count": 22,
      "outputs": [
        {
          "output_type": "execute_result",
          "data": {
            "text/plain": [
              "tensor([[0, 1, 2],\n",
              "        [3, 4, 5],\n",
              "        [6, 7, 8]])"
            ]
          },
          "metadata": {
            "tags": []
          },
          "execution_count": 22
        }
      ]
    },
    {
      "cell_type": "code",
      "metadata": {
        "id": "CVwiyc96_yiK",
        "outputId": "b6b96da3-e907-4bcc-8e0a-27c6047add1f",
        "colab": {
          "base_uri": "https://localhost:8080/"
        }
      },
      "source": [
        "range_nums.view(-1)"
      ],
      "execution_count": 23,
      "outputs": [
        {
          "output_type": "execute_result",
          "data": {
            "text/plain": [
              "tensor([0, 1, 2, 3, 4, 5, 6, 7, 8])"
            ]
          },
          "metadata": {
            "tags": []
          },
          "execution_count": 23
        }
      ]
    },
    {
      "cell_type": "code",
      "metadata": {
        "id": "Lcd3JD51_07v",
        "outputId": "605bfdf8-5ca9-4db6-bf2c-877ced5cdf60",
        "colab": {
          "base_uri": "https://localhost:8080/"
        }
      },
      "source": [
        "range_nums.view(1, 9)"
      ],
      "execution_count": 24,
      "outputs": [
        {
          "output_type": "execute_result",
          "data": {
            "text/plain": [
              "tensor([[0, 1, 2, 3, 4, 5, 6, 7, 8]])"
            ]
          },
          "metadata": {
            "tags": []
          },
          "execution_count": 24
        }
      ]
    },
    {
      "cell_type": "markdown",
      "metadata": {
        "id": "zSV4eSFw_8Al"
      },
      "source": [
        "## Slice and Index"
      ]
    },
    {
      "cell_type": "code",
      "metadata": {
        "id": "9hNxbS2M_9QP",
        "outputId": "20f74982-e6c0-4f51-db1a-e9458b221f65",
        "colab": {
          "base_uri": "https://localhost:8080/"
        }
      },
      "source": [
        "nums"
      ],
      "execution_count": 25,
      "outputs": [
        {
          "output_type": "execute_result",
          "data": {
            "text/plain": [
              "tensor([[0, 1, 2],\n",
              "        [3, 4, 5],\n",
              "        [6, 7, 8]])"
            ]
          },
          "metadata": {
            "tags": []
          },
          "execution_count": 25
        }
      ]
    },
    {
      "cell_type": "code",
      "metadata": {
        "id": "38Uu-vyW_-kY",
        "outputId": "fb5e3dac-faf3-4e73-f66c-5c9f4870ceb2",
        "colab": {
          "base_uri": "https://localhost:8080/"
        }
      },
      "source": [
        "nums[1]"
      ],
      "execution_count": 26,
      "outputs": [
        {
          "output_type": "execute_result",
          "data": {
            "text/plain": [
              "tensor([3, 4, 5])"
            ]
          },
          "metadata": {
            "tags": []
          },
          "execution_count": 26
        }
      ]
    },
    {
      "cell_type": "code",
      "metadata": {
        "id": "z1FejPXnAAv3",
        "outputId": "4d187067-5582-4c42-de6a-70d740217158",
        "colab": {
          "base_uri": "https://localhost:8080/"
        }
      },
      "source": [
        "nums[1, 1]"
      ],
      "execution_count": 28,
      "outputs": [
        {
          "output_type": "execute_result",
          "data": {
            "text/plain": [
              "tensor(4)"
            ]
          },
          "metadata": {
            "tags": []
          },
          "execution_count": 28
        }
      ]
    },
    {
      "cell_type": "code",
      "metadata": {
        "id": "5BiasRmjAEhm",
        "outputId": "673181e6-8a54-42ca-8358-ea55041454a6",
        "colab": {
          "base_uri": "https://localhost:8080/"
        }
      },
      "source": [
        "nums[1:, 1:]"
      ],
      "execution_count": 29,
      "outputs": [
        {
          "output_type": "execute_result",
          "data": {
            "text/plain": [
              "tensor([[4, 5],\n",
              "        [7, 8]])"
            ]
          },
          "metadata": {
            "tags": []
          },
          "execution_count": 29
        }
      ]
    },
    {
      "cell_type": "code",
      "metadata": {
        "id": "triwbCRSAFl-",
        "outputId": "fb1bdbaa-6430-437b-e2c3-29cd6e9890dc",
        "colab": {
          "base_uri": "https://localhost:8080/"
        }
      },
      "source": [
        "nums[1:]"
      ],
      "execution_count": 30,
      "outputs": [
        {
          "output_type": "execute_result",
          "data": {
            "text/plain": [
              "tensor([[3, 4, 5],\n",
              "        [6, 7, 8]])"
            ]
          },
          "metadata": {
            "tags": []
          },
          "execution_count": 30
        }
      ]
    },
    {
      "cell_type": "markdown",
      "metadata": {
        "id": "lnwBchaqALXy"
      },
      "source": [
        "## Compile\n",
        "\n",
        "numpy를 torch tensor로 불러오기"
      ]
    },
    {
      "cell_type": "code",
      "metadata": {
        "id": "KAoV6BSEAKrv"
      },
      "source": [
        "arr = np.array([1, 1, 1])"
      ],
      "execution_count": 31,
      "outputs": []
    },
    {
      "cell_type": "code",
      "metadata": {
        "id": "2w1eUSnxAVr9"
      },
      "source": [
        "arr_torch = torch.from_numpy(arr)"
      ],
      "execution_count": 32,
      "outputs": []
    },
    {
      "cell_type": "code",
      "metadata": {
        "id": "qc1JkZW0AdH1",
        "outputId": "f3bcea37-4561-40b5-c9bc-f586de005475",
        "colab": {
          "base_uri": "https://localhost:8080/"
        }
      },
      "source": [
        "arr_torch.float()"
      ],
      "execution_count": 33,
      "outputs": [
        {
          "output_type": "execute_result",
          "data": {
            "text/plain": [
              "tensor([1., 1., 1.])"
            ]
          },
          "metadata": {
            "tags": []
          },
          "execution_count": 33
        }
      ]
    },
    {
      "cell_type": "code",
      "metadata": {
        "id": "btCKEZPlAhtF"
      },
      "source": [
        "device = 'cuda' if torch.cuda.is_available() else 'cpu'"
      ],
      "execution_count": 34,
      "outputs": []
    },
    {
      "cell_type": "code",
      "metadata": {
        "id": "Za3EA_PIAtXN",
        "outputId": "af1edc11-dd01-46c2-ae28-4ff1dc75fb23",
        "colab": {
          "base_uri": "https://localhost:8080/"
        }
      },
      "source": [
        "arr_torch.to(device)"
      ],
      "execution_count": 36,
      "outputs": [
        {
          "output_type": "execute_result",
          "data": {
            "text/plain": [
              "tensor([1, 1, 1])"
            ]
          },
          "metadata": {
            "tags": []
          },
          "execution_count": 36
        }
      ]
    },
    {
      "cell_type": "code",
      "metadata": {
        "id": "TNY4JzPCAyzD",
        "outputId": "3a3bf5f2-750e-46fe-e598-992512c6816b",
        "colab": {
          "base_uri": "https://localhost:8080/",
          "height": 35
        }
      },
      "source": [
        "device"
      ],
      "execution_count": 37,
      "outputs": [
        {
          "output_type": "execute_result",
          "data": {
            "application/vnd.google.colaboratory.intrinsic+json": {
              "type": "string"
            },
            "text/plain": [
              "'cpu'"
            ]
          },
          "metadata": {
            "tags": []
          },
          "execution_count": 37
        }
      ]
    },
    {
      "cell_type": "markdown",
      "metadata": {
        "id": "2Q4nD3R5A5lf"
      },
      "source": [
        "## AutoGrad"
      ]
    },
    {
      "cell_type": "code",
      "metadata": {
        "id": "3PFniqxoA4_c",
        "outputId": "aa3682e4-69cb-4008-b4d3-53cb197bf881",
        "colab": {
          "base_uri": "https://localhost:8080/"
        }
      },
      "source": [
        "x = torch.ones(2, 2, requires_grad=True)\n",
        "x"
      ],
      "execution_count": 40,
      "outputs": [
        {
          "output_type": "execute_result",
          "data": {
            "text/plain": [
              "tensor([[1., 1.],\n",
              "        [1., 1.]], requires_grad=True)"
            ]
          },
          "metadata": {
            "tags": []
          },
          "execution_count": 40
        }
      ]
    },
    {
      "cell_type": "code",
      "metadata": {
        "id": "c2sTE0LqBVZL",
        "outputId": "1fd01f2e-a150-4a82-9339-70631d33a580",
        "colab": {
          "base_uri": "https://localhost:8080/"
        }
      },
      "source": [
        "y = x + 2\n",
        "y"
      ],
      "execution_count": 41,
      "outputs": [
        {
          "output_type": "execute_result",
          "data": {
            "text/plain": [
              "tensor([[3., 3.],\n",
              "        [3., 3.]], grad_fn=<AddBackward0>)"
            ]
          },
          "metadata": {
            "tags": []
          },
          "execution_count": 41
        }
      ]
    },
    {
      "cell_type": "code",
      "metadata": {
        "id": "KG6VBR5rBWzJ",
        "outputId": "496913d5-221a-41b6-bd97-ed7e2702dd70",
        "colab": {
          "base_uri": "https://localhost:8080/"
        }
      },
      "source": [
        "y.grad_fn"
      ],
      "execution_count": 42,
      "outputs": [
        {
          "output_type": "execute_result",
          "data": {
            "text/plain": [
              "<AddBackward0 at 0x7f54b7cda5f8>"
            ]
          },
          "metadata": {
            "tags": []
          },
          "execution_count": 42
        }
      ]
    },
    {
      "cell_type": "code",
      "metadata": {
        "id": "jS-OgpSaBhFw"
      },
      "source": [
        "z = y * y * 3\n",
        "out = z.mean()"
      ],
      "execution_count": 43,
      "outputs": []
    },
    {
      "cell_type": "code",
      "metadata": {
        "id": "DpMj_yc8Bok5",
        "outputId": "350697fd-5c0b-4487-91aa-90692a947be4",
        "colab": {
          "base_uri": "https://localhost:8080/"
        }
      },
      "source": [
        "out"
      ],
      "execution_count": 44,
      "outputs": [
        {
          "output_type": "execute_result",
          "data": {
            "text/plain": [
              "tensor(27., grad_fn=<MeanBackward0>)"
            ]
          },
          "metadata": {
            "tags": []
          },
          "execution_count": 44
        }
      ]
    },
    {
      "cell_type": "code",
      "metadata": {
        "id": "e3ipOAU7B5UW"
      },
      "source": [
        "out.backward()"
      ],
      "execution_count": 45,
      "outputs": []
    },
    {
      "cell_type": "code",
      "metadata": {
        "id": "52JGIYIcCFvn",
        "outputId": "8ee4ab99-ec44-4481-c054-667ad697c85d",
        "colab": {
          "base_uri": "https://localhost:8080/"
        }
      },
      "source": [
        "x.grad"
      ],
      "execution_count": 46,
      "outputs": [
        {
          "output_type": "execute_result",
          "data": {
            "text/plain": [
              "tensor([[4.5000, 4.5000],\n",
              "        [4.5000, 4.5000]])"
            ]
          },
          "metadata": {
            "tags": []
          },
          "execution_count": 46
        }
      ]
    },
    {
      "cell_type": "code",
      "metadata": {
        "id": "0XIHuc3nCIFv",
        "outputId": "5dc9a5ca-288a-4490-90f2-238b44d7114e",
        "colab": {
          "base_uri": "https://localhost:8080/"
        }
      },
      "source": [
        "x.requires_grad\n",
        "(x ** 2).requires_grad"
      ],
      "execution_count": 48,
      "outputs": [
        {
          "output_type": "execute_result",
          "data": {
            "text/plain": [
              "True"
            ]
          },
          "metadata": {
            "tags": []
          },
          "execution_count": 48
        }
      ]
    },
    {
      "cell_type": "code",
      "metadata": {
        "id": "37y0fir4C14S",
        "outputId": "0b7aed13-f5da-4796-95d1-e5fb88108a16",
        "colab": {
          "base_uri": "https://localhost:8080/"
        }
      },
      "source": [
        "with torch.no_grad():\n",
        "  print((x ** 2).requires_grad)"
      ],
      "execution_count": 50,
      "outputs": [
        {
          "output_type": "stream",
          "text": [
            "False\n"
          ],
          "name": "stdout"
        }
      ]
    }
  ]
}